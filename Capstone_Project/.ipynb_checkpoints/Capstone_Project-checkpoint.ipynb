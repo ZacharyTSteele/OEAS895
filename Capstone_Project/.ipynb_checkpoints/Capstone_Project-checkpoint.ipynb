{
 "cells": [
  {
   "cell_type": "markdown",
   "id": "0abcdf9b",
   "metadata": {},
   "source": [
    "Load in relevant packages for this project"
   ]
  },
  {
   "cell_type": "code",
   "execution_count": 1,
   "id": "bf551078",
   "metadata": {},
   "outputs": [],
   "source": [
    "import statistics #Import statistics package\n",
    "import pandas as pd #Import pandas as pd\n",
    "import numpy as np #Import pandas as np\n",
    "import matplotlib.pyplot as plt #import pyplot as plt\n",
    "from math import exp #import exp for equations \n",
    "import sys #import sys for defining spaces later\n",
    "import time #import time for setting date \n",
    "timestr = time.strftime(\"_%d_%Y_%B\") #Set date in day_Year_Month format"
   ]
  },
  {
   "cell_type": "markdown",
   "id": "77e9efbe",
   "metadata": {},
   "source": [
    "## STANDARDS RUN \n",
    "Below established and known values should be imported using a Values.py file for comparison with measured values from the isotope analyzer instrument. The international standard values are fixed (e.g., VSMOW and SLAP), but the in-house standards and control waters you use within your own lab will chage over time as you generate more measurments. The .py file should consistently be updated over time as new measurements are made during Standards runs.\n",
    "\n",
    "Examples of in-house waters included in this file would be MegaBoil and MissMT. "
   ]
  },
  {
   "cell_type": "code",
   "execution_count": 2,
   "id": "a7347aa4",
   "metadata": {},
   "outputs": [],
   "source": [
    "from Values import *"
   ]
  },
  {
   "cell_type": "markdown",
   "id": "6b1cbed0",
   "metadata": {},
   "source": [
    "Now load in raw standards data from the CRDS instrument\n",
    "\n",
    "*** EDIT BASED ON LOCATION OF THE FILE ***"
   ]
  },
  {
   "cell_type": "code",
   "execution_count": 3,
   "id": "2c974e40",
   "metadata": {},
   "outputs": [],
   "source": [
    "Standard_Data = pd.read_csv('/filename.csv',sep=',')\n",
    "# Picarro Data from Standards run"
   ]
  },
  {
   "cell_type": "markdown",
   "id": "a0c5fdb3",
   "metadata": {},
   "source": [
    "*** END OF EDITING ***\n",
    "\n",
    "Examine the column names"
   ]
  },
  {
   "cell_type": "code",
   "execution_count": 4,
   "id": "46de38a8",
   "metadata": {},
   "outputs": [
    {
     "data": {
      "text/plain": [
       "Index(['  Line', '  Analysis', '             Time Code', '           Port',\n",
       "       '  Inj Nr', '  d(17_16)Mean', '  d(18_16)Mean', '    d(D_H)Mean',\n",
       "       '      E17_Mean', '      H2O_Mean', '  Ignore', ' Good',\n",
       "       '                            Identifier 1',\n",
       "       '                            Identifier 2', '   Gas Configuration',\n",
       "       'Timestamp Mean', '   d(17_16)_SD', '   d(18_16)_SD', '     d(D_H)_SD',\n",
       "       '        E17_SD', '        H2O_SD', '   d(18_16)_Sl', '     d(D_H)_Sl',\n",
       "       '        H2O_Sl', 'baseline_shift', '   slope_shift', '     residuals',\n",
       "       'baseline_curvature', '      interval', '       ch4_ppm',\n",
       "       '  h16od_adjust', '   h16od_shift', 'n2_flag', 'Resistance',\n",
       "       '      DAS Temp', '      Tray', '  Sample', '     Job', '    Method',\n",
       "       'Error Code', 'Pulse Good'],\n",
       "      dtype='object')"
      ]
     },
     "execution_count": 4,
     "metadata": {},
     "output_type": "execute_result"
    }
   ],
   "source": [
    "Standard_Data.columns #load column names"
   ]
  },
  {
   "cell_type": "markdown",
   "id": "2475a58f",
   "metadata": {},
   "source": [
    "The raw data from a the CRDS instrument (Picarro) has a lot of weird spacing issues that need to be cleaned up to make the process easier."
   ]
  },
  {
   "cell_type": "code",
   "execution_count": 5,
   "id": "ff74ba77",
   "metadata": {},
   "outputs": [],
   "source": [
    "Standard_Data.columns=Standard_Data.columns.str.strip() #Remove all blank spaces from the column names"
   ]
  },
  {
   "cell_type": "markdown",
   "id": "bfdb271b",
   "metadata": {},
   "source": [
    "Now revisit the column names"
   ]
  },
  {
   "cell_type": "code",
   "execution_count": 6,
   "id": "d3c9a7e0",
   "metadata": {},
   "outputs": [
    {
     "data": {
      "text/plain": [
       "Index(['Line', 'Analysis', 'Time Code', 'Port', 'Inj Nr', 'd(17_16)Mean',\n",
       "       'd(18_16)Mean', 'd(D_H)Mean', 'E17_Mean', 'H2O_Mean', 'Ignore', 'Good',\n",
       "       'Identifier 1', 'Identifier 2', 'Gas Configuration', 'Timestamp Mean',\n",
       "       'd(17_16)_SD', 'd(18_16)_SD', 'd(D_H)_SD', 'E17_SD', 'H2O_SD',\n",
       "       'd(18_16)_Sl', 'd(D_H)_Sl', 'H2O_Sl', 'baseline_shift', 'slope_shift',\n",
       "       'residuals', 'baseline_curvature', 'interval', 'ch4_ppm',\n",
       "       'h16od_adjust', 'h16od_shift', 'n2_flag', 'Resistance', 'DAS Temp',\n",
       "       'Tray', 'Sample', 'Job', 'Method', 'Error Code', 'Pulse Good'],\n",
       "      dtype='object')"
      ]
     },
     "execution_count": 6,
     "metadata": {},
     "output_type": "execute_result"
    }
   ],
   "source": [
    "Standard_Data.columns #load column names"
   ]
  },
  {
   "cell_type": "markdown",
   "id": "ec156c7c",
   "metadata": {},
   "source": [
    "Now the column names are clean which will make adjusting the data later in the process much easier. \n",
    "\n",
    "Now look at the data types for each variable"
   ]
  },
  {
   "cell_type": "code",
   "execution_count": 7,
   "id": "ba999cd8",
   "metadata": {},
   "outputs": [
    {
     "name": "stdout",
     "output_type": "stream",
     "text": [
      "<class 'pandas.core.frame.DataFrame'>\n",
      "RangeIndex: 612 entries, 0 to 611\n",
      "Data columns (total 41 columns):\n",
      " #   Column              Non-Null Count  Dtype \n",
      "---  ------              --------------  ----- \n",
      " 0   Line                612 non-null    int64 \n",
      " 1   Analysis            612 non-null    object\n",
      " 2   Time Code           612 non-null    object\n",
      " 3   Port                612 non-null    object\n",
      " 4   Inj Nr              612 non-null    int64 \n",
      " 5   d(17_16)Mean        612 non-null    object\n",
      " 6   d(18_16)Mean        612 non-null    object\n",
      " 7   d(D_H)Mean          612 non-null    object\n",
      " 8   E17_Mean            612 non-null    object\n",
      " 9   H2O_Mean            612 non-null    object\n",
      " 10  Ignore              612 non-null    object\n",
      " 11  Good                612 non-null    object\n",
      " 12  Identifier 1        612 non-null    object\n",
      " 13  Identifier 2        612 non-null    object\n",
      " 14  Gas Configuration   612 non-null    object\n",
      " 15  Timestamp Mean      612 non-null    object\n",
      " 16  d(17_16)_SD         612 non-null    object\n",
      " 17  d(18_16)_SD         612 non-null    object\n",
      " 18  d(D_H)_SD           612 non-null    object\n",
      " 19  E17_SD              612 non-null    object\n",
      " 20  H2O_SD              612 non-null    object\n",
      " 21  d(18_16)_Sl         612 non-null    object\n",
      " 22  d(D_H)_Sl           612 non-null    object\n",
      " 23  H2O_Sl              612 non-null    object\n",
      " 24  baseline_shift      612 non-null    object\n",
      " 25  slope_shift         612 non-null    object\n",
      " 26  residuals           612 non-null    object\n",
      " 27  baseline_curvature  612 non-null    object\n",
      " 28  interval            612 non-null    object\n",
      " 29  ch4_ppm             612 non-null    object\n",
      " 30  h16od_adjust        612 non-null    object\n",
      " 31  h16od_shift         612 non-null    object\n",
      " 32  n2_flag             612 non-null    object\n",
      " 33  Resistance          612 non-null    object\n",
      " 34  DAS Temp            612 non-null    object\n",
      " 35  Tray                612 non-null    int64 \n",
      " 36  Sample              612 non-null    int64 \n",
      " 37  Job                 612 non-null    int64 \n",
      " 38  Method              612 non-null    object\n",
      " 39  Error Code          612 non-null    int64 \n",
      " 40  Pulse Good          612 non-null    int64 \n",
      "dtypes: int64(7), object(34)\n",
      "memory usage: 196.2+ KB\n"
     ]
    }
   ],
   "source": [
    "Standard_Data.info() #load the data type for each variable"
   ]
  },
  {
   "cell_type": "markdown",
   "id": "cdfff6c2",
   "metadata": {},
   "source": [
    "*** If data reads in the 'd(18_16)Mean', 'd(17_16)Mean', 'd(D_H)Mean', 'E17_Mean', and 'H2O_Mean' variables as non-intergers and with weird spaces, use the next two sections of code. Otherwise proceed to section 10 ***\n",
    "\n",
    "Because of the weird formating of the raw data, Python is having a tough time reading the data correctly. Remove the spacing in the variables of interest and convert to numeric. "
   ]
  },
  {
   "cell_type": "code",
   "execution_count": 8,
   "id": "d05fa308",
   "metadata": {},
   "outputs": [],
   "source": [
    "Standard_Data['d(18_16)Mean'] = Standard_Data['d(18_16)Mean'].str.strip() #removing spacing\n",
    "Standard_Data['d(17_16)Mean'] = Standard_Data['d(17_16)Mean'].str.strip() #removing spacing\n",
    "Standard_Data['d(D_H)Mean'] = Standard_Data['d(D_H)Mean'].str.strip() #removing spacing\n",
    "Standard_Data['E17_Mean'] = Standard_Data['E17_Mean'].str.strip() #removing spacing\n",
    "Standard_Data['H2O_Mean'] = Standard_Data['H2O_Mean'].str.strip() #removing spacing"
   ]
  },
  {
   "cell_type": "code",
   "execution_count": 9,
   "id": "9ea6af3d",
   "metadata": {},
   "outputs": [],
   "source": [
    "Standard_Data['d(18_16)Mean'] = pd.to_numeric(Standard_Data['d(18_16)Mean']) #convert to numeric\n",
    "Standard_Data['d(17_16)Mean'] = pd.to_numeric(Standard_Data['d(17_16)Mean']) #convert to numeric\n",
    "Standard_Data['d(D_H)Mean'] = pd.to_numeric(Standard_Data['d(D_H)Mean']) #convert to numeric\n",
    "Standard_Data['E17_Mean'] = pd.to_numeric(Standard_Data['E17_Mean']) #convert to numeric\n",
    "Standard_Data['H2O_Mean'] = pd.to_numeric(Standard_Data['H2O_Mean']) #convert to numeric"
   ]
  },
  {
   "cell_type": "markdown",
   "id": "241fcd2e",
   "metadata": {},
   "source": [
    "Now lets take another look at the data types for the variables of interest."
   ]
  },
  {
   "cell_type": "code",
   "execution_count": 10,
   "id": "b4a7e330",
   "metadata": {},
   "outputs": [
    {
     "name": "stdout",
     "output_type": "stream",
     "text": [
      "<class 'pandas.core.frame.DataFrame'>\n",
      "RangeIndex: 612 entries, 0 to 611\n",
      "Data columns (total 41 columns):\n",
      " #   Column              Non-Null Count  Dtype  \n",
      "---  ------              --------------  -----  \n",
      " 0   Line                612 non-null    int64  \n",
      " 1   Analysis            612 non-null    object \n",
      " 2   Time Code           612 non-null    object \n",
      " 3   Port                612 non-null    object \n",
      " 4   Inj Nr              612 non-null    int64  \n",
      " 5   d(17_16)Mean        611 non-null    float64\n",
      " 6   d(18_16)Mean        611 non-null    float64\n",
      " 7   d(D_H)Mean          611 non-null    float64\n",
      " 8   E17_Mean            611 non-null    float64\n",
      " 9   H2O_Mean            611 non-null    float64\n",
      " 10  Ignore              612 non-null    object \n",
      " 11  Good                612 non-null    object \n",
      " 12  Identifier 1        612 non-null    object \n",
      " 13  Identifier 2        612 non-null    object \n",
      " 14  Gas Configuration   612 non-null    object \n",
      " 15  Timestamp Mean      612 non-null    object \n",
      " 16  d(17_16)_SD         612 non-null    object \n",
      " 17  d(18_16)_SD         612 non-null    object \n",
      " 18  d(D_H)_SD           612 non-null    object \n",
      " 19  E17_SD              612 non-null    object \n",
      " 20  H2O_SD              612 non-null    object \n",
      " 21  d(18_16)_Sl         612 non-null    object \n",
      " 22  d(D_H)_Sl           612 non-null    object \n",
      " 23  H2O_Sl              612 non-null    object \n",
      " 24  baseline_shift      612 non-null    object \n",
      " 25  slope_shift         612 non-null    object \n",
      " 26  residuals           612 non-null    object \n",
      " 27  baseline_curvature  612 non-null    object \n",
      " 28  interval            612 non-null    object \n",
      " 29  ch4_ppm             612 non-null    object \n",
      " 30  h16od_adjust        612 non-null    object \n",
      " 31  h16od_shift         612 non-null    object \n",
      " 32  n2_flag             612 non-null    object \n",
      " 33  Resistance          612 non-null    object \n",
      " 34  DAS Temp            612 non-null    object \n",
      " 35  Tray                612 non-null    int64  \n",
      " 36  Sample              612 non-null    int64  \n",
      " 37  Job                 612 non-null    int64  \n",
      " 38  Method              612 non-null    object \n",
      " 39  Error Code          612 non-null    int64  \n",
      " 40  Pulse Good          612 non-null    int64  \n",
      "dtypes: float64(5), int64(7), object(29)\n",
      "memory usage: 196.2+ KB\n"
     ]
    }
   ],
   "source": [
    "Standard_Data.info() #load the data type for each variable"
   ]
  },
  {
   "cell_type": "markdown",
   "id": "2d34e927",
   "metadata": {},
   "source": [
    "An important column in this dataset is 'Idenitifer 1'. This is where the user programs in the name of each sample. For clarity, rename this column to 'SampleName'. "
   ]
  },
  {
   "cell_type": "code",
   "execution_count": 11,
   "id": "18baebe8",
   "metadata": {},
   "outputs": [],
   "source": [
    "Standard_Data = Standard_Data.rename(columns={'Identifier 1':'SampleName'}) #Change name of Identifier 1 to SampleName'"
   ]
  },
  {
   "cell_type": "markdown",
   "id": "752a14a3",
   "metadata": {},
   "source": [
    "View this column now"
   ]
  },
  {
   "cell_type": "code",
   "execution_count": 12,
   "id": "e843beb7",
   "metadata": {},
   "outputs": [
    {
     "data": {
      "text/plain": [
       "0                                       DummyKD\n",
       "1                                       DummyKD\n",
       "2                                       DummyKD\n",
       "3                                       DummyKD\n",
       "4                                       DummyKD\n",
       "                         ...                   \n",
       "607                                        SLAP\n",
       "608                                        SLAP\n",
       "609                                        SLAP\n",
       "610                                        SLAP\n",
       "611                                        SLAP\n",
       "Name: SampleName, Length: 612, dtype: object"
      ]
     },
     "execution_count": 12,
     "metadata": {},
     "output_type": "execute_result"
    }
   ],
   "source": [
    "Standard_Data.SampleName #Load SampleName Column"
   ]
  },
  {
   "cell_type": "markdown",
   "id": "cbea4717",
   "metadata": {},
   "source": [
    "Clearly this column still has the same spacing issue that needs to be corrected."
   ]
  },
  {
   "cell_type": "code",
   "execution_count": 13,
   "id": "89dead71",
   "metadata": {},
   "outputs": [],
   "source": [
    "Standard_Data['SampleName'] = Standard_Data['SampleName'].str.strip() #removing spacing"
   ]
  },
  {
   "cell_type": "markdown",
   "id": "071d8f1c",
   "metadata": {},
   "source": [
    "Load the column once again"
   ]
  },
  {
   "cell_type": "code",
   "execution_count": 14,
   "id": "bb7e3c26",
   "metadata": {},
   "outputs": [
    {
     "data": {
      "text/plain": [
       "0      DummyKD\n",
       "1      DummyKD\n",
       "2      DummyKD\n",
       "3      DummyKD\n",
       "4      DummyKD\n",
       "        ...   \n",
       "607       SLAP\n",
       "608       SLAP\n",
       "609       SLAP\n",
       "610       SLAP\n",
       "611       SLAP\n",
       "Name: SampleName, Length: 612, dtype: object"
      ]
     },
     "execution_count": 14,
     "metadata": {},
     "output_type": "execute_result"
    }
   ],
   "source": [
    "Standard_Data.SampleName #view column"
   ]
  },
  {
   "cell_type": "markdown",
   "id": "92b62b5c",
   "metadata": {},
   "source": [
    "Now the Sample Names are nice and neat. Now make a list of all the unique sample names."
   ]
  },
  {
   "cell_type": "code",
   "execution_count": 15,
   "id": "0545ee63",
   "metadata": {},
   "outputs": [
    {
     "data": {
      "text/plain": [
       "array(['DummyKD', 'SuperBoil', 'UltraBoil', 'SupremeBoil', 'MegaBoil',\n",
       "       'USGS50', 'Muley_Standard', 'Real_KD', 'VSMOW', 'USGS48',\n",
       "       'DI_Water', 'DI_Seat', 'IceLava', 'SeatW', 'NM2', 'MissMT',\n",
       "       'USGS47', 'USGS46.25', 'UGSG46.5', 'USGS46.75', 'USGS46',\n",
       "       'SLAP.25', 'SLAP.5', 'SLAP.75', 'SLAP'], dtype=object)"
      ]
     },
     "execution_count": 15,
     "metadata": {},
     "output_type": "execute_result"
    }
   ],
   "source": [
    "Samples_List=pd.unique(Standard_Data[\"SampleName\"]) #create list of unique items in the column 'SampleName'\n",
    "Samples_List #View the array of unique sample names"
   ]
  },
  {
   "cell_type": "markdown",
   "id": "9658298e",
   "metadata": {},
   "source": [
    "Using this array of unique sample names, now a data dictionary can be created that contains the dataframes for each sample assessed during the analysis run"
   ]
  },
  {
   "cell_type": "code",
   "execution_count": 16,
   "id": "485d9b08",
   "metadata": {},
   "outputs": [],
   "source": [
    "Samples_Dictionary = {elem : pd.DataFrame() for elem in Samples_List} #Define data dictionary based on Sample Names array\n",
    "\n",
    "for key in Samples_Dictionary.keys():\n",
    "    Samples_Dictionary[key] = Standard_Data[:][Standard_Data.SampleName == key] \n",
    "    #generate function that adds a dataframe for each element in the array"
   ]
  },
  {
   "cell_type": "markdown",
   "id": "2dd23feb",
   "metadata": {},
   "source": [
    "The function has successfull generated a data dictionary with all the samples.\n",
    "\n",
    "To correct data, two internationally accepted water standards will be used:\n",
    "Vienna Standard Mean Ocean Water - VSMOW\n",
    "Standard Light Antarctic Precipitation Water - SLAP\n",
    "\n",
    "Before generating correction equations, the dataframes related to SLAP and VSMOW need to be cleaned.\n",
    "\n",
    "To demonstrate, look at the d18O values for SLAP based on the injection number"
   ]
  },
  {
   "cell_type": "code",
   "execution_count": 17,
   "id": "49e4c6b4",
   "metadata": {},
   "outputs": [
    {
     "data": {
      "text/plain": [
       "Text(0, 0.5, 'd18O value')"
      ]
     },
     "execution_count": 17,
     "metadata": {},
     "output_type": "execute_result"
    },
    {
     "data": {
      "image/png": "[encoded data removed]",
      "text/plain": [
       "<Figure size 640x480 with 1 Axes>"
      ]
     },
     "metadata": {},
     "output_type": "display_data"
    }
   ],
   "source": [
    "plt.plot(Samples_Dictionary['SLAP']['Inj Nr'], Samples_Dictionary['SLAP']['d(18_16)Mean'], 'ro') #set plot parameters\n",
    "plt.xlabel('Injection #') #label x axis\n",
    "plt.ylabel('d18O value') #label y axis"
   ]
  },
  {
   "cell_type": "markdown",
   "id": "aaef8980",
   "metadata": {},
   "source": [
    "As this plot demonstrates, a large portion of these injections should be removed to create a tighter window.\n",
    "\n",
    "To do this, a function will generate a mean and standard deviation.\n",
    "\n",
    "A cutoff will then be determined based on the desired number of standard deviations to retain (adjustable \"STD_VALUE\" below)\n",
    "\n",
    "A lower and upper cutoff line will then be calculated based on the mean +/- the cutoff.\n",
    "\n",
    "All values below the lower cutoff line and above the upper cutoff line will be removed.\n",
    "\n",
    "The function will cycle through twice for VSMOW and three times for SLAP (because this sample has more injections) to remove the initial outliers and then to truly clean the data."
   ]
  },
  {
   "cell_type": "code",
   "execution_count": 18,
   "id": "0e7b7e58",
   "metadata": {},
   "outputs": [],
   "source": [
    "STD_VALUE= 1 #set the # of standard deviations you would like to use for a cutoff\n",
    "\n",
    "for i in range(2):\n",
    "    VSMOW_mean= np.mean(Samples_Dictionary['VSMOW']['d(18_16)Mean']) #Generate mean for VSMOW\n",
    "    VSMOW_std = np.std(Samples_Dictionary['VSMOW']['d(18_16)Mean']) #Generate standard deviation value for VSMOW\n",
    "    VSMOW_cutoff = VSMOW_std * STD_VALUE #Determine cutoff based on # of standard deviations desired\n",
    "    VSMOW_lower, VSMOW_upper = VSMOW_mean - VSMOW_cutoff, VSMOW_mean + VSMOW_cutoff #set upper and lower cutoff lines\n",
    "    VSMOW_condition= ~((Samples_Dictionary['VSMOW']['d(18_16)Mean'] < (VSMOW_mean - VSMOW_cutoff)) | (Samples_Dictionary['VSMOW']['d(18_16)Mean'] > (VSMOW_mean + VSMOW_cutoff)))\n",
    "    #Create the conditions to apply to VSMOW\n",
    "    VSMOW_Clean = Samples_Dictionary['VSMOW'][VSMOW_condition] #Apply conditions to VSMOW\n",
    "    Samples_Dictionary['VSMOW']=VSMOW_Clean #Update VSMOW based on cleaned version"
   ]
  },
  {
   "cell_type": "code",
   "execution_count": 19,
   "id": "d4c2ddb4",
   "metadata": {},
   "outputs": [],
   "source": [
    "for i in range(3):\n",
    "    SLAP_mean= np.mean(Samples_Dictionary['SLAP']['d(18_16)Mean']) #Generate mean for SLAP\n",
    "    SLAP_std = np.std(Samples_Dictionary['SLAP']['d(18_16)Mean']) ##Generate standard deviation value for SLAP\n",
    "    SLAP_cutoff = SLAP_std * STD_VALUE  #Determine cutoff based on # of standard deviations desired\n",
    "    SLAP_lower, SLAP_upper = SLAP_mean - SLAP_cutoff, SLAP_mean + SLAP_cutoff #set upper and lower cutoff lines\n",
    "    SLAP_condition= ~((Samples_Dictionary['SLAP']['d(18_16)Mean'] < (SLAP_mean - SLAP_cutoff)) | (Samples_Dictionary['SLAP']['d(18_16)Mean'] > (SLAP_mean + SLAP_cutoff)))\n",
    "    #Create the conditions to apply to SLAP\n",
    "    SLAP_Clean = Samples_Dictionary['SLAP'][SLAP_condition] #Apply conditions to SLAP\n",
    "    Samples_Dictionary['SLAP']=SLAP_Clean #Update SLAP based on cleaned version"
   ]
  },
  {
   "cell_type": "markdown",
   "id": "44225a4b",
   "metadata": {},
   "source": [
    "Now revisit the plot from before for SLAP"
   ]
  },
  {
   "cell_type": "code",
   "execution_count": 20,
   "id": "2545bda2",
   "metadata": {},
   "outputs": [
    {
     "data": {
      "text/plain": [
       "Text(0, 0.5, 'd18O value')"
      ]
     },
     "execution_count": 20,
     "metadata": {},
     "output_type": "execute_result"
    },
    {
     "data": {
      "image/png": "[encoded data removed]",
      "text/plain": [
       "<Figure size 640x480 with 1 Axes>"
      ]
     },
     "metadata": {},
     "output_type": "display_data"
    }
   ],
   "source": [
    "plt.plot(Samples_Dictionary['SLAP']['Inj Nr'], Samples_Dictionary['SLAP']['d(18_16)Mean'], 'ro') #set plot parameters\n",
    "plt.xlabel('Injection #') #label x axis\n",
    "plt.ylabel('d18O value') #label y axis"
   ]
  },
  {
   "cell_type": "markdown",
   "id": "1a6091d2",
   "metadata": {},
   "source": [
    "The function has removed the injections that are likely biased by the memory effect of previous measurements resulting in a tight window. \n",
    "\n",
    "Look at the VSMOW dataframe as well to confirm that this has removed unwanted injections."
   ]
  },
  {
   "cell_type": "code",
   "execution_count": 21,
   "id": "61e154c1",
   "metadata": {},
   "outputs": [
    {
     "data": {
      "text/html": [
       "<div>\n",
       "<style scoped>\n",
       "    .dataframe tbody tr th:only-of-type {\n",
       "        vertical-align: middle;\n",
       "    }\n",
       "\n",
       "    .dataframe tbody tr th {\n",
       "        vertical-align: top;\n",
       "    }\n",
       "\n",
       "    .dataframe thead th {\n",
       "        text-align: right;\n",
       "    }\n",
       "</style>\n",
       "<table border=\"1\" class=\"dataframe\">\n",
       "  <thead>\n",
       "    <tr style=\"text-align: right;\">\n",
       "      <th></th>\n",
       "      <th>Line</th>\n",
       "      <th>Analysis</th>\n",
       "      <th>Time Code</th>\n",
       "      <th>Port</th>\n",
       "      <th>Inj Nr</th>\n",
       "      <th>d(17_16)Mean</th>\n",
       "      <th>d(18_16)Mean</th>\n",
       "      <th>d(D_H)Mean</th>\n",
       "      <th>E17_Mean</th>\n",
       "      <th>H2O_Mean</th>\n",
       "      <th>...</th>\n",
       "      <th>h16od_shift</th>\n",
       "      <th>n2_flag</th>\n",
       "      <th>Resistance</th>\n",
       "      <th>DAS Temp</th>\n",
       "      <th>Tray</th>\n",
       "      <th>Sample</th>\n",
       "      <th>Job</th>\n",
       "      <th>Method</th>\n",
       "      <th>Error Code</th>\n",
       "      <th>Pulse Good</th>\n",
       "    </tr>\n",
       "  </thead>\n",
       "  <tbody>\n",
       "    <tr>\n",
       "      <th>217</th>\n",
       "      <td>218</td>\n",
       "      <td>P-2402</td>\n",
       "      <td>2023/01/27 22:49:56</td>\n",
       "      <td>1-09</td>\n",
       "      <td>3</td>\n",
       "      <td>-0.194</td>\n",
       "      <td>-0.760</td>\n",
       "      <td>2.263</td>\n",
       "      <td>0.207</td>\n",
       "      <td>19835.0</td>\n",
       "      <td>...</td>\n",
       "      <td>0.0000</td>\n",
       "      <td>0</td>\n",
       "      <td>\\n21.76</td>\n",
       "      <td>41.312</td>\n",
       "      <td>1</td>\n",
       "      <td>9</td>\n",
       "      <td>2</td>\n",
       "      <td>WassenaarRS</td>\n",
       "      <td>0</td>\n",
       "      <td>1</td>\n",
       "    </tr>\n",
       "    <tr>\n",
       "      <th>218</th>\n",
       "      <td>219</td>\n",
       "      <td>P-2402</td>\n",
       "      <td>2023/01/27 22:58:55</td>\n",
       "      <td>1-09</td>\n",
       "      <td>4</td>\n",
       "      <td>-0.202</td>\n",
       "      <td>-0.746</td>\n",
       "      <td>2.271</td>\n",
       "      <td>0.192</td>\n",
       "      <td>19957.0</td>\n",
       "      <td>...</td>\n",
       "      <td>0.0000</td>\n",
       "      <td>0</td>\n",
       "      <td>\\n21.70</td>\n",
       "      <td>41.375</td>\n",
       "      <td>1</td>\n",
       "      <td>9</td>\n",
       "      <td>2</td>\n",
       "      <td>WassenaarRS</td>\n",
       "      <td>0</td>\n",
       "      <td>1</td>\n",
       "    </tr>\n",
       "    <tr>\n",
       "      <th>220</th>\n",
       "      <td>221</td>\n",
       "      <td>P-2402</td>\n",
       "      <td>2023/01/27 23:16:54</td>\n",
       "      <td>1-09</td>\n",
       "      <td>6</td>\n",
       "      <td>-0.199</td>\n",
       "      <td>-0.757</td>\n",
       "      <td>2.340</td>\n",
       "      <td>0.201</td>\n",
       "      <td>19854.0</td>\n",
       "      <td>...</td>\n",
       "      <td>-0.0000</td>\n",
       "      <td>0</td>\n",
       "      <td>\\n21.77</td>\n",
       "      <td>42.062</td>\n",
       "      <td>1</td>\n",
       "      <td>9</td>\n",
       "      <td>2</td>\n",
       "      <td>WassenaarRS</td>\n",
       "      <td>0</td>\n",
       "      <td>1</td>\n",
       "    </tr>\n",
       "    <tr>\n",
       "      <th>221</th>\n",
       "      <td>222</td>\n",
       "      <td>P-2402</td>\n",
       "      <td>2023/01/27 23:25:53</td>\n",
       "      <td>1-09</td>\n",
       "      <td>7</td>\n",
       "      <td>-0.199</td>\n",
       "      <td>-0.756</td>\n",
       "      <td>2.443</td>\n",
       "      <td>0.200</td>\n",
       "      <td>20040.0</td>\n",
       "      <td>...</td>\n",
       "      <td>-0.0000</td>\n",
       "      <td>0</td>\n",
       "      <td>\\n21.80</td>\n",
       "      <td>41.625</td>\n",
       "      <td>1</td>\n",
       "      <td>9</td>\n",
       "      <td>2</td>\n",
       "      <td>WassenaarRS</td>\n",
       "      <td>0</td>\n",
       "      <td>1</td>\n",
       "    </tr>\n",
       "    <tr>\n",
       "      <th>222</th>\n",
       "      <td>223</td>\n",
       "      <td>P-2402</td>\n",
       "      <td>2023/01/27 23:34:52</td>\n",
       "      <td>1-09</td>\n",
       "      <td>8</td>\n",
       "      <td>-0.174</td>\n",
       "      <td>-0.749</td>\n",
       "      <td>2.342</td>\n",
       "      <td>0.222</td>\n",
       "      <td>19778.0</td>\n",
       "      <td>...</td>\n",
       "      <td>-0.0000</td>\n",
       "      <td>0</td>\n",
       "      <td>\\n21.85</td>\n",
       "      <td>41.375</td>\n",
       "      <td>1</td>\n",
       "      <td>9</td>\n",
       "      <td>2</td>\n",
       "      <td>WassenaarRS</td>\n",
       "      <td>0</td>\n",
       "      <td>1</td>\n",
       "    </tr>\n",
       "    <tr>\n",
       "      <th>224</th>\n",
       "      <td>225</td>\n",
       "      <td>P-2402</td>\n",
       "      <td>2023/01/27 23:52:51</td>\n",
       "      <td>1-09</td>\n",
       "      <td>10</td>\n",
       "      <td>-0.176</td>\n",
       "      <td>-0.745</td>\n",
       "      <td>2.369</td>\n",
       "      <td>0.218</td>\n",
       "      <td>20585.0</td>\n",
       "      <td>...</td>\n",
       "      <td>-0.0000</td>\n",
       "      <td>0</td>\n",
       "      <td>\\n21.92</td>\n",
       "      <td>42.188</td>\n",
       "      <td>1</td>\n",
       "      <td>9</td>\n",
       "      <td>2</td>\n",
       "      <td>WassenaarRS</td>\n",
       "      <td>0</td>\n",
       "      <td>1</td>\n",
       "    </tr>\n",
       "    <tr>\n",
       "      <th>225</th>\n",
       "      <td>226</td>\n",
       "      <td>P-2402</td>\n",
       "      <td>2023/01/28 00:01:51</td>\n",
       "      <td>1-09</td>\n",
       "      <td>11</td>\n",
       "      <td>-0.194</td>\n",
       "      <td>-0.739</td>\n",
       "      <td>2.469</td>\n",
       "      <td>0.196</td>\n",
       "      <td>19802.0</td>\n",
       "      <td>...</td>\n",
       "      <td>-0.0000</td>\n",
       "      <td>0</td>\n",
       "      <td>\\n21.86</td>\n",
       "      <td>42.375</td>\n",
       "      <td>1</td>\n",
       "      <td>9</td>\n",
       "      <td>2</td>\n",
       "      <td>WassenaarRS</td>\n",
       "      <td>0</td>\n",
       "      <td>1</td>\n",
       "    </tr>\n",
       "    <tr>\n",
       "      <th>233</th>\n",
       "      <td>234</td>\n",
       "      <td>P-2402</td>\n",
       "      <td>2023/01/28 01:13:49</td>\n",
       "      <td>1-09</td>\n",
       "      <td>19</td>\n",
       "      <td>-0.164</td>\n",
       "      <td>-0.749</td>\n",
       "      <td>2.403</td>\n",
       "      <td>0.232</td>\n",
       "      <td>20319.0</td>\n",
       "      <td>...</td>\n",
       "      <td>-0.0000</td>\n",
       "      <td>0</td>\n",
       "      <td>\\n21.93</td>\n",
       "      <td>41.875</td>\n",
       "      <td>1</td>\n",
       "      <td>9</td>\n",
       "      <td>2</td>\n",
       "      <td>WassenaarRS</td>\n",
       "      <td>0</td>\n",
       "      <td>1</td>\n",
       "    </tr>\n",
       "    <tr>\n",
       "      <th>234</th>\n",
       "      <td>235</td>\n",
       "      <td>P-2402</td>\n",
       "      <td>2023/01/28 01:22:48</td>\n",
       "      <td>1-09</td>\n",
       "      <td>20</td>\n",
       "      <td>-0.200</td>\n",
       "      <td>-0.756</td>\n",
       "      <td>2.454</td>\n",
       "      <td>0.199</td>\n",
       "      <td>20322.0</td>\n",
       "      <td>...</td>\n",
       "      <td>0.0000</td>\n",
       "      <td>0</td>\n",
       "      <td>\\n21.88</td>\n",
       "      <td>42.250</td>\n",
       "      <td>1</td>\n",
       "      <td>9</td>\n",
       "      <td>2</td>\n",
       "      <td>WassenaarRS</td>\n",
       "      <td>0</td>\n",
       "      <td>1</td>\n",
       "    </tr>\n",
       "  </tbody>\n",
       "</table>\n",
       "<p>9 rows × 41 columns</p>\n",
       "</div>"
      ],
      "text/plain": [
       "     Line    Analysis               Time Code             Port  Inj Nr  \\\n",
       "217   218      P-2402     2023/01/27 22:49:56             1-09       3   \n",
       "218   219      P-2402     2023/01/27 22:58:55             1-09       4   \n",
       "220   221      P-2402     2023/01/27 23:16:54             1-09       6   \n",
       "221   222      P-2402     2023/01/27 23:25:53             1-09       7   \n",
       "222   223      P-2402     2023/01/27 23:34:52             1-09       8   \n",
       "224   225      P-2402     2023/01/27 23:52:51             1-09      10   \n",
       "225   226      P-2402     2023/01/28 00:01:51             1-09      11   \n",
       "233   234      P-2402     2023/01/28 01:13:49             1-09      19   \n",
       "234   235      P-2402     2023/01/28 01:22:48             1-09      20   \n",
       "\n",
       "     d(17_16)Mean  d(18_16)Mean  d(D_H)Mean  E17_Mean  H2O_Mean  ...  \\\n",
       "217        -0.194        -0.760       2.263     0.207   19835.0  ...   \n",
       "218        -0.202        -0.746       2.271     0.192   19957.0  ...   \n",
       "220        -0.199        -0.757       2.340     0.201   19854.0  ...   \n",
       "221        -0.199        -0.756       2.443     0.200   20040.0  ...   \n",
       "222        -0.174        -0.749       2.342     0.222   19778.0  ...   \n",
       "224        -0.176        -0.745       2.369     0.218   20585.0  ...   \n",
       "225        -0.194        -0.739       2.469     0.196   19802.0  ...   \n",
       "233        -0.164        -0.749       2.403     0.232   20319.0  ...   \n",
       "234        -0.200        -0.756       2.454     0.199   20322.0  ...   \n",
       "\n",
       "        h16od_shift n2_flag   Resistance        DAS Temp Tray Sample Job  \\\n",
       "217          0.0000       0      \\n21.76          41.312    1      9   2   \n",
       "218          0.0000       0      \\n21.70          41.375    1      9   2   \n",
       "220         -0.0000       0      \\n21.77          42.062    1      9   2   \n",
       "221         -0.0000       0      \\n21.80          41.625    1      9   2   \n",
       "222         -0.0000       0      \\n21.85          41.375    1      9   2   \n",
       "224         -0.0000       0      \\n21.92          42.188    1      9   2   \n",
       "225         -0.0000       0      \\n21.86          42.375    1      9   2   \n",
       "233         -0.0000       0      \\n21.93          41.875    1      9   2   \n",
       "234          0.0000       0      \\n21.88          42.250    1      9   2   \n",
       "\n",
       "          Method Error Code Pulse Good  \n",
       "217  WassenaarRS          0          1  \n",
       "218  WassenaarRS          0          1  \n",
       "220  WassenaarRS          0          1  \n",
       "221  WassenaarRS          0          1  \n",
       "222  WassenaarRS          0          1  \n",
       "224  WassenaarRS          0          1  \n",
       "225  WassenaarRS          0          1  \n",
       "233  WassenaarRS          0          1  \n",
       "234  WassenaarRS          0          1  \n",
       "\n",
       "[9 rows x 41 columns]"
      ]
     },
     "execution_count": 21,
     "metadata": {},
     "output_type": "execute_result"
    }
   ],
   "source": [
    "Samples_Dictionary['VSMOW'] #load VSMOW dataframe"
   ]
  },
  {
   "cell_type": "markdown",
   "id": "c71431f9",
   "metadata": {},
   "source": [
    "Now both VSMOW and SLAP have been cleaned and can be used to create correction equations. \n",
    "\n",
    "To do this, a stretching and offset value will be generated for both d17O and d18O. These equations will be used to correct both the raw d17O and d18O values obtained from the isotope analyzer instrument. \n",
    "\n",
    "E17O can then be corrected using these corrected d17O and d18O values\n",
    "\n",
    "\n",
    "To begin, determine the stretching value for d18O. \n",
    "\n",
    "This is determined by generating a change value for the raw measurments of SLAP and VSMOW\n",
    "\n",
    "And by generating a change value for the known values of SLAP and VSMOW.\n",
    "\n",
    "The known change value is then divided by the raw change value."
   ]
  },
  {
   "cell_type": "code",
   "execution_count": 22,
   "id": "142afaa3",
   "metadata": {},
   "outputs": [
    {
     "data": {
      "text/plain": [
       "0.9921547933623288"
      ]
     },
     "execution_count": 22,
     "metadata": {},
     "output_type": "execute_result"
    }
   ],
   "source": [
    "#Generate raw change value\n",
    "Raw_d18O_Change = (np.mean(Samples_Dictionary['SLAP']['d(18_16)Mean']) - np.mean(Samples_Dictionary['VSMOW']['d(18_16)Mean']))\n",
    "Known_d18O_Change = SLAP_d18 - VSMOW_d18 #Generate known change value\n",
    "d18O_stretch = Known_d18O_Change/Raw_d18O_Change #Divide known by raw change value\n",
    "d18O_stretch #View stretching value"
   ]
  },
  {
   "cell_type": "markdown",
   "id": "d0bc92f7",
   "metadata": {},
   "source": [
    "Each raw value will be multiplied by this stretching value. However, an offset value still needs to be obtained. \n",
    "\n",
    "The offset is determined by subtracting the raw value * stretching value from the known value for both VSMOW and SLAP and then averaging these values together. "
   ]
  },
  {
   "cell_type": "code",
   "execution_count": 23,
   "id": "3818655f",
   "metadata": {},
   "outputs": [
    {
     "data": {
      "text/plain": [
       "0.744887770972137"
      ]
     },
     "execution_count": 23,
     "metadata": {},
     "output_type": "execute_result"
    }
   ],
   "source": [
    "d18O_SLAP_Offset = SLAP_d18 - (np.mean(Samples_Dictionary['SLAP']['d(18_16)Mean']) * d18O_stretch) #SLAP offset value\n",
    "d18O_VSMOW_Offset = VSMOW_d18 - (np.mean(Samples_Dictionary['VSMOW']['d(18_16)Mean']) * d18O_stretch) #VSMOW offset value\n",
    "d18O_Offset = (d18O_SLAP_Offset+d18O_VSMOW_Offset)/2 #Add SLAP and VSMOW offset together and divide by 2\n",
    "d18O_Offset"
   ]
  },
  {
   "cell_type": "markdown",
   "id": "42feff54",
   "metadata": {},
   "source": [
    "This offset value will be added to the product of (raw value * stretching value) \n",
    "\n",
    "As such, the final equation looks like: y = (raw value * stretching value) + offset\n",
    "\n",
    "When simplified, this is essentially just a *y=mx+b equation*, with y representing the corrected value. \n",
    "\n",
    "Define a function based on the obtained d18O stretching and offset values. This will be used to correct all raw values later."
   ]
  },
  {
   "cell_type": "code",
   "execution_count": 24,
   "id": "6da5669b",
   "metadata": {},
   "outputs": [],
   "source": [
    "def d18O_amended(x):\n",
    "    return((d18O_stretch*x)+d18O_Offset) #function to correct raw d18O values"
   ]
  },
  {
   "cell_type": "markdown",
   "id": "82b0e4e5",
   "metadata": {},
   "source": [
    "Now that a correction equation has been determined for d18O, an equation needs to be determined for d17O\n",
    "\n",
    "The format for generating a d17O correction is slightly different because d17O values are less certain except for VSMOW\n",
    "\n",
    "Therefore, a backcalculation using d18O and E17O is applied to obtain a d17O approximate value for SLAP"
   ]
  },
  {
   "cell_type": "code",
   "execution_count": 25,
   "id": "b577e03b",
   "metadata": {},
   "outputs": [
    {
     "data": {
      "text/plain": [
       "-29.696800000183266"
      ]
     },
     "execution_count": 25,
     "metadata": {},
     "output_type": "execute_result"
    }
   ],
   "source": [
    "SLAP_Lin_d17O= (SLAP_E17)+(0.528*(1000*np.log((SLAP_d18/1000)+1))) #back calculate to determine approx linearized SLAP d17O\n",
    "SLAP_Approx_d17O = 1000*(exp(SLAP_Lin_d17O/1000)-1) #determine approximate d17O from approx linearized SLAP d17O\n",
    "SLAP_Approx_d17O #view approx SLAP d17O value"
   ]
  },
  {
   "cell_type": "markdown",
   "id": "01311659",
   "metadata": {},
   "source": [
    "Now this approximated d17O value can be used to calculate the stretching and offset values in the same manner as the d18O approach"
   ]
  },
  {
   "cell_type": "code",
   "execution_count": 26,
   "id": "3afc823c",
   "metadata": {},
   "outputs": [
    {
     "data": {
      "text/plain": [
       "0.981623458670348"
      ]
     },
     "execution_count": 26,
     "metadata": {},
     "output_type": "execute_result"
    }
   ],
   "source": [
    "#Generate raw change value\n",
    "Raw_d17O_Change = (np.mean(Samples_Dictionary['SLAP']['d(17_16)Mean']) - np.mean(Samples_Dictionary['VSMOW']['d(17_16)Mean']))\n",
    "Known_d17O_Change = SLAP_Approx_d17O - VSMOW_d17 #Generate known change value\n",
    "d17O_stretch = Known_d17O_Change/Raw_d17O_Change #Divide known by raw change value\n",
    "d17O_stretch #View stretching value"
   ]
  },
  {
   "cell_type": "code",
   "execution_count": 27,
   "id": "76bee1f9",
   "metadata": {},
   "outputs": [
    {
     "data": {
      "text/plain": [
       "0.1856359029618811"
      ]
     },
     "execution_count": 27,
     "metadata": {},
     "output_type": "execute_result"
    }
   ],
   "source": [
    "d17O_SLAP_Offset = SLAP_Approx_d17O - (np.mean(Samples_Dictionary['SLAP']['d(17_16)Mean']) * d17O_stretch) #SLAP offset value\n",
    "d17O_VSMOW_Offset = VSMOW_d17 - (np.mean(Samples_Dictionary['VSMOW']['d(17_16)Mean']) * d17O_stretch) #VSMOW offset value\n",
    "d17O_Offset = (d17O_SLAP_Offset+d17O_VSMOW_Offset)/2  #Add SLAP and VSMOW offset together and divide by 2\n",
    "d17O_Offset"
   ]
  },
  {
   "cell_type": "code",
   "execution_count": 28,
   "id": "b32ed6b4",
   "metadata": {},
   "outputs": [],
   "source": [
    "def d17O_amended(x):\n",
    "    return((d17O_stretch*x)+d17O_Offset) #function to correct raw d17O values"
   ]
  },
  {
   "cell_type": "markdown",
   "id": "dde07823",
   "metadata": {},
   "source": [
    "Now there's a d17O and d18O correction equation\n",
    "\n",
    "Now create a function that uses the corrected d17O and d18O values to determine a corrected E17O value"
   ]
  },
  {
   "cell_type": "code",
   "execution_count": 29,
   "id": "9628ff1c",
   "metadata": {},
   "outputs": [],
   "source": [
    "def E17O_amended(x,y):\n",
    "    return(((((1000*np.log((x/1000)+1))))-(0.528*(1000*np.log((y/1000)+1)))))\n",
    "#function to determine corrected E17O value from corrected d17O and d18O"
   ]
  },
  {
   "cell_type": "markdown",
   "id": "9bbe2732",
   "metadata": {},
   "source": [
    "First correct all d18O values in the data dictionary"
   ]
  },
  {
   "cell_type": "code",
   "execution_count": 30,
   "id": "3be1525d",
   "metadata": {},
   "outputs": [],
   "source": [
    "for x in Samples_List:\n",
    "    Samples_Dictionary[x]['d18O_amended']=d18O_amended(Samples_Dictionary[x]['d(18_16)Mean'])\n",
    "# apply d18O correction function to all raw d18O values in data dictionary"
   ]
  },
  {
   "cell_type": "markdown",
   "id": "bf688f64",
   "metadata": {},
   "source": [
    "Now do the same for d17O"
   ]
  },
  {
   "cell_type": "code",
   "execution_count": 31,
   "id": "3f724aaf",
   "metadata": {},
   "outputs": [],
   "source": [
    "for x in Samples_List:\n",
    "    Samples_Dictionary[x]['d17O_amended']=d17O_amended(Samples_Dictionary[x]['d(17_16)Mean'])\n",
    "# apply d17O correction function to all raw d17O values in data dictionary"
   ]
  },
  {
   "cell_type": "markdown",
   "id": "8cc5ea32",
   "metadata": {},
   "source": [
    "Now can correct E17O with both d17O and d18O corrected"
   ]
  },
  {
   "cell_type": "code",
   "execution_count": 32,
   "id": "5d20f8fe",
   "metadata": {},
   "outputs": [],
   "source": [
    "for x in Samples_List:\n",
    "    Samples_Dictionary[x]['E17O_amended']=E17O_amended(Samples_Dictionary[x]['d17O_amended'], Samples_Dictionary[x]['d18O_amended'])\n",
    "    # apply E17O correction function using corrected d17O and d18O"
   ]
  },
  {
   "cell_type": "markdown",
   "id": "825a866b",
   "metadata": {},
   "source": [
    "At this point it's important to check E17O values to make sure they look accurate and standard deviations aren't too big"
   ]
  },
  {
   "cell_type": "code",
   "execution_count": 33,
   "id": "61e0032b",
   "metadata": {},
   "outputs": [
    {
     "name": "stdout",
     "output_type": "stream",
     "text": [
      "DummyKD -0.009933880202234091\n",
      "SuperBoil 0.010425661691859859\n",
      "UltraBoil 0.009478219349984822\n",
      "SupremeBoil -0.004093809076932109\n",
      "MegaBoil -0.011899255844579393\n",
      "USGS50 -0.00801979038302969\n",
      "Muley_Standard -0.13154669157991072\n",
      "Real_KD 0.0021379403192108813\n",
      "VSMOW -7.249104023150501e-08\n",
      "USGS48 0.039550844855707076\n",
      "DI_Water 0.0250643374319661\n",
      "DI_Seat 0.02959915283007396\n",
      "IceLava 0.0334053218968986\n",
      "SeatW 0.032864763293446626\n",
      "NM2 0.029121682068332072\n",
      "MissMT 0.03451823888127017\n",
      "USGS47 0.04140416075108085\n",
      "USGS46.25 0.022120417921034363\n",
      "UGSG46.5 0.027443400822892833\n",
      "USGS46.75 0.024740003042310093\n",
      "USGS46 0.026868801643845995\n",
      "SLAP.25 0.00016315550777612486\n",
      "SLAP.5 -0.010373932229207425\n",
      "SLAP.75 -0.013049177609905094\n",
      "SLAP 0.001905582183767191\n"
     ]
    }
   ],
   "source": [
    "for x in Samples_List:\n",
    "    print(x,np.mean(Samples_Dictionary[x]['E17O_amended'])) #function to look at all samples E17O value"
   ]
  },
  {
   "cell_type": "code",
   "execution_count": 34,
   "id": "8dde830f",
   "metadata": {},
   "outputs": [
    {
     "name": "stdout",
     "output_type": "stream",
     "text": [
      "DummyKD 0.015074820549917982\n",
      "SuperBoil 0.014035680037711693\n",
      "UltraBoil 0.013012896998499533\n",
      "SupremeBoil 0.015301809099854818\n",
      "MegaBoil 0.013500131899288078\n",
      "USGS50 0.01241853593565841\n",
      "Muley_Standard 0.013963960110248001\n",
      "Real_KD 0.010479237277726533\n",
      "VSMOW 0.012275184783964067\n",
      "USGS48 0.017837250034620458\n",
      "DI_Water 0.015900427501118735\n",
      "DI_Seat 0.014886428303442513\n",
      "IceLava 0.017080431296984173\n",
      "SeatW 0.013334831508457887\n",
      "NM2 0.012062491359436735\n",
      "MissMT 0.015588865983646874\n",
      "USGS47 0.011659357836218789\n",
      "USGS46.25 0.01096868746960694\n",
      "UGSG46.5 0.012119376201573016\n",
      "USGS46.75 0.012441903927283846\n",
      "USGS46 0.011819656587547833\n",
      "SLAP.25 0.01301548068274334\n",
      "SLAP.5 0.011816390468300396\n",
      "SLAP.75 0.011572825187256101\n",
      "SLAP 0.0168008901783509\n"
     ]
    }
   ],
   "source": [
    "for x in Samples_List:\n",
    "    print(x,np.std(Samples_Dictionary[x]['E17O_amended']))  #function to look at all samples E17O standard deviation value"
   ]
  },
  {
   "cell_type": "markdown",
   "id": "816e8d53",
   "metadata": {},
   "source": [
    "If E17O values and standard deviations look correct, then at this point individual csv files should be exported for each sample before proceeding to make further adjustments.\n",
    "\n",
    "This is critical because many columns will be removed in the proceeding steps and it may be necessary to examine these columns down the road.\n",
    "\n",
    "*** EDIT THE FOLLOWING LINES BASED ON THE LOCATION YOU'D LIKE TO EXPORT CSV FILES ***"
   ]
  },
  {
   "cell_type": "code",
   "execution_count": 35,
   "id": "8a5369ee",
   "metadata": {},
   "outputs": [],
   "source": [
    "for x in Samples_List:\n",
    "    Samples_Dictionary[x].to_csv('/filename'+str(x)+timestr+'.csv', sep=',') \n",
    "    #function that exports each sample data as an individual dataframe with the date in day_year_month format"
   ]
  },
  {
   "cell_type": "markdown",
   "id": "a293914b",
   "metadata": {},
   "source": [
    "*** END OF EDITING ***\n",
    "\n",
    "At this point, only the 2 standards (VSMOW and SLAP) have been cleaned. All the other samples should go through the same cutoff process described above based based on their means and standard deviations.\n",
    "\n",
    "Before doing this, a new list should be created without VSMOW and SLAP so that it can be applied to functions."
   ]
  },
  {
   "cell_type": "code",
   "execution_count": 36,
   "id": "414b89fd",
   "metadata": {},
   "outputs": [],
   "source": [
    "Samples_List_B = list(Samples_List)\n",
    "Samples_List_B.remove('VSMOW')\n",
    "Samples_List_B.remove('SLAP')"
   ]
  },
  {
   "cell_type": "markdown",
   "id": "bd07c0cd",
   "metadata": {},
   "source": [
    "Now the same function used earlier will be applied to the remaining samples. \n",
    "\n",
    "Remember to change the number of standard deviations ('STD_VALUE') based on the desired tightness of the window of remaining measurments."
   ]
  },
  {
   "cell_type": "code",
   "execution_count": 37,
   "id": "8797ccf8",
   "metadata": {},
   "outputs": [],
   "source": [
    "STD_VALUE= 1 #determine the # of standard deviations to use for the cutoff\n",
    "\n",
    "for x in Samples_List_B:\n",
    "    for i in range(2):\n",
    "        mean= np.mean(Samples_Dictionary[x]['d(18_16)Mean'])\n",
    "        std = np.std(Samples_Dictionary[x]['d(18_16)Mean'])\n",
    "        cutoff = std * STD_VALUE\n",
    "        lower, upper = mean - cutoff, mean + cutoff\n",
    "        condition= ~((Samples_Dictionary[x]['d(18_16)Mean'] < (mean - cutoff)) | (Samples_Dictionary[x]['d(18_16)Mean'] > (mean + cutoff)))\n",
    "        Clean = Samples_Dictionary[x][condition]\n",
    "        Samples_Dictionary[x]=Clean"
   ]
  },
  {
   "cell_type": "markdown",
   "id": "91cf557b",
   "metadata": {},
   "source": [
    "Now revisit E17O and standard deviation values to see how they've changed."
   ]
  },
  {
   "cell_type": "code",
   "execution_count": 38,
   "id": "935130e3",
   "metadata": {},
   "outputs": [
    {
     "name": "stdout",
     "output_type": "stream",
     "text": [
      "DummyKD -0.013063486665377893\n",
      "SuperBoil 0.0021226080861172316\n",
      "UltraBoil 0.006042382759448434\n",
      "SupremeBoil 9.38789206536228e-05\n",
      "MegaBoil -0.013906813694015594\n",
      "USGS50 -0.005892914326950705\n",
      "Muley_Standard -0.12847865613943857\n",
      "Real_KD 0.002183860800762702\n",
      "VSMOW -7.249104023150501e-08\n",
      "USGS48 0.04016086214801965\n",
      "DI_Water 0.026027884173496378\n",
      "DI_Seat 0.027519643400820727\n",
      "IceLava 0.034503938104789626\n",
      "SeatW 0.03558868570278182\n",
      "NM2 0.028412874159665914\n",
      "MissMT 0.036165463956748474\n",
      "USGS47 0.0391920883830732\n",
      "USGS46.25 0.023175797337555794\n",
      "UGSG46.5 0.03241479371923996\n",
      "USGS46.75 0.02669730224454625\n",
      "USGS46 0.024959044972582885\n",
      "SLAP.25 -0.0006355207112406447\n",
      "SLAP.5 -0.010231083572942978\n",
      "SLAP.75 -0.01001776051558707\n",
      "SLAP 0.001905582183767191\n"
     ]
    }
   ],
   "source": [
    "for x in Samples_List:\n",
    "    print(x,np.mean(Samples_Dictionary[x]['E17O_amended'])) #function to view E17O mean values for all samples"
   ]
  },
  {
   "cell_type": "code",
   "execution_count": 39,
   "id": "cd3c4e03",
   "metadata": {},
   "outputs": [
    {
     "name": "stdout",
     "output_type": "stream",
     "text": [
      "DummyKD 0.013813505554421986\n",
      "SuperBoil 0.014652250567650517\n",
      "UltraBoil 0.01282811381871331\n",
      "SupremeBoil 0.014489005535072166\n",
      "MegaBoil 0.013862455722626317\n",
      "USGS50 0.013296391437695548\n",
      "Muley_Standard 0.013424475760227927\n",
      "Real_KD 0.009505498118179717\n",
      "VSMOW 0.012275184783964067\n",
      "USGS48 0.016806349541875765\n",
      "DI_Water 0.013631628172316914\n",
      "DI_Seat 0.014600630166730914\n",
      "IceLava 0.018274342301771274\n",
      "SeatW 0.012996642811141396\n",
      "NM2 0.0119327550976588\n",
      "MissMT 0.01569368831639931\n",
      "USGS47 0.010116089126810527\n",
      "USGS46.25 0.009830711974197725\n",
      "UGSG46.5 0.012680562396021144\n",
      "USGS46.75 0.013247110778861084\n",
      "USGS46 0.011279439244902734\n",
      "SLAP.25 0.013946096786618085\n",
      "SLAP.5 0.010366002823593344\n",
      "SLAP.75 0.009995254547711493\n",
      "SLAP 0.0168008901783509\n"
     ]
    }
   ],
   "source": [
    "for x in Samples_List:\n",
    "    print(x,np.std(Samples_Dictionary[x]['E17O_amended'])) #function to view standard deviation values for all samples"
   ]
  },
  {
   "cell_type": "markdown",
   "id": "ed63c653",
   "metadata": {},
   "source": [
    "*** EDIT THESE NEXT LINES *** \n",
    "\n",
    "At this point remove any samples that aren't needed for the final dataset by adding them to the remove code below.\n",
    "\n",
    "These will typically be 'conditioning vials' that are simply used to maneuver from one sample to another (e.g., a conditioning vial with a d18O value of 10 might be placed between two control vials with d18O values of 7 and 13)."
   ]
  },
  {
   "cell_type": "code",
   "execution_count": 40,
   "id": "bf62dc73",
   "metadata": {},
   "outputs": [],
   "source": [
    "Final_Samples_List = list(Samples_List) #generate new Final version list\n",
    "Final_Samples_List.remove('DummyKD') #remove this sample\n",
    "Final_Samples_List.remove('SuperBoil') #remove this sample\n",
    "Final_Samples_List.remove('UltraBoil') #remove this sample\n",
    "Final_Samples_List.remove('USGS46.25') #remove this sample\n",
    "Final_Samples_List.remove('UGSG46.5') #remove this sample\n",
    "Final_Samples_List.remove('USGS46.75') #remove this sample\n",
    "Final_Samples_List.remove('SLAP.25') #remove this sample\n",
    "Final_Samples_List.remove('SLAP.5') #remove this sample\n",
    "Final_Samples_List.remove('SLAP.75') #remove this sample"
   ]
  },
  {
   "cell_type": "markdown",
   "id": "b3ede574",
   "metadata": {},
   "source": [
    "*** END OF LINES THAT NEED TO BE EDITED ***\n",
    "\n",
    "As long as nothing looks off or unusual, now proceed to remove all columns except those critical to oxygen and hydrogen analysis"
   ]
  },
  {
   "cell_type": "code",
   "execution_count": 41,
   "id": "7ee073a0",
   "metadata": {},
   "outputs": [],
   "source": [
    "for x in Final_Samples_List:\n",
    "    Samples_Dictionary[x]['_']= \"\" #Add blank column\n",
    "    Samples_Dictionary[x]['__']= \"\" #Add blank column\n",
    "    Samples_Dictionary[x]['___']= \"\" #Add blank column\n",
    "    Samples_Dictionary[x]['____']= \"\" #Add blank column\n",
    "    Samples_Dictionary[x]=Samples_Dictionary[x][['Inj Nr','d(17_16)Mean','d17O_amended','_',\n",
    "                                                       'd(18_16)Mean','d18O_amended','__','d(D_H)Mean','___',\n",
    "                                                       'E17_Mean','E17O_amended','____',\"H2O_Mean\"]].copy()\n",
    "    #This last portion of the function creates a new version of the data dictionary with only the necessary columns and \n",
    "    #adds spaces between sections to make the dataframes easier to read"
   ]
  },
  {
   "cell_type": "markdown",
   "id": "06467b73",
   "metadata": {},
   "source": [
    "Now proceed to generate means, standard deviations, and comparisons with known/established values for all important columns"
   ]
  },
  {
   "cell_type": "code",
   "execution_count": 42,
   "id": "645ff3e9",
   "metadata": {},
   "outputs": [],
   "source": [
    "for x in Final_Samples_List:\n",
    "    #Create new row based on the mean values\n",
    "    row_1=['','',np.mean(Samples_Dictionary[x]['d17O_amended']),'','',\n",
    "           np.mean(Samples_Dictionary[x]['d18O_amended']),'','','','',\n",
    "           np.mean(Samples_Dictionary[x]['E17O_amended']),'',np.mean(Samples_Dictionary[x]['H2O_Mean'])]\n",
    "    #Create new row based on the standard deviations\n",
    "    row_2=['','',np.std(Samples_Dictionary[x]['d17O_amended']),'','',np.std(Samples_Dictionary[x]['d18O_amended']),'','',\n",
    "           '','',np.std(Samples_Dictionary[x]['E17O_amended']),'',np.std(Samples_Dictionary[x]['H2O_Mean'])]\n",
    "    #Create new row based on the difference between measured and know/established values\n",
    "    row_3=['','',(pd.to_numeric(eval(x+'_d17')) - np.mean(Samples_Dictionary[x]['d17O_amended'])),'','',\n",
    "        (pd.to_numeric(eval(x+'_d18')) - np.mean(Samples_Dictionary[x]['d18O_amended'])),'','',\n",
    "        '','',(pd.to_numeric(eval(x+'_E17')) - np.mean(Samples_Dictionary[x]['E17O_amended'])),'','',]\n",
    "    Samples_Dictionary[x].loc['MEAN']=row_1 #add row 1 to end of dataframe\n",
    "    Samples_Dictionary[x].loc['STD']=row_2 #add row 2 to end of dataframe\n",
    "    Samples_Dictionary[x].loc['DIFFERENCE FROM KNOWN/ESTABLISHED']=row_3 #add row 3 to end of dataframe"
   ]
  },
  {
   "cell_type": "markdown",
   "id": "d4c9c72e",
   "metadata": {},
   "source": [
    "Now all dataframes are finalized. At this point the files are ready to be exported in a clean excel spreadsheet that contains each sample as a different sheet\n",
    "\n",
    "*** EDIT FOLLOWING LINES TO DICTATE WHERE TO EXPORT XLSX FILE TO ***"
   ]
  },
  {
   "cell_type": "code",
   "execution_count": 43,
   "id": "fe94b282",
   "metadata": {},
   "outputs": [],
   "source": [
    "with pd.ExcelWriter(\"/filename\"+timestr+\".xlsx\") as writer:\n",
    "    for x in Final_Samples_List:\n",
    "        Samples_Dictionary[x].to_excel(writer, sheet_name=\"\"+str(x)+\"\")\n",
    "        # Generates an excel spreadsheet in the specified location and adds a sheet for each sample "
   ]
  },
  {
   "cell_type": "markdown",
   "id": "f483afaf",
   "metadata": {},
   "source": [
    "*** END OF EDITING ***\n",
    "\n",
    "\n",
    "## Analysis Run"
   ]
  },
  {
   "cell_type": "markdown",
   "id": "c912bc6d",
   "metadata": {},
   "source": [
    "Now that the values have been generated from the standards run, these will be used for the next several analysis runs until another standards run is necessary. Since VSMOW and SLAP are expensive and only available in limited supplies, in-house water standards should be used for correcting values during analysis runs.\n",
    "\n",
    "The first thing to do is to update all the values of the established waters:"
   ]
  },
  {
   "cell_type": "code",
   "execution_count": 44,
   "id": "d615a53d",
   "metadata": {},
   "outputs": [],
   "source": [
    "# Remove final mean,std etc. rows because these will bias means\n",
    "for x in Final_Samples_List:\n",
    "    Samples_Dictionary[x]=Samples_Dictionary[x].drop('DIFFERENCE FROM KNOWN/ESTABLISHED')\n",
    "    Samples_Dictionary[x]=Samples_Dictionary[x].drop('MEAN')\n",
    "    Samples_Dictionary[x]=Samples_Dictionary[x].drop('STD')\n",
    "this = sys.modules[__name__] # this is now your current namespace\n",
    "#Generate function that creates new variables based on the values obtained during the standards run\n",
    "for x in Final_Samples_List:\n",
    "    setattr(this,'d17O_%s' % x, np.mean(Samples_Dictionary[x]['d17O_amended']))\n",
    "    setattr(this,'d18O_%s' % x, np.mean(Samples_Dictionary[x]['d18O_amended']))\n",
    "    setattr(this,'E17O_%s' % x, np.mean(Samples_Dictionary[x]['E17O_amended']))"
   ]
  },
  {
   "cell_type": "markdown",
   "id": "de895301",
   "metadata": {},
   "source": [
    "Now load in raw data from analysis run\n",
    "\n",
    "*** EDIT BASED ON LOCATION OF THE FILE ***"
   ]
  },
  {
   "cell_type": "code",
   "execution_count": 45,
   "id": "11d1cc9c",
   "metadata": {},
   "outputs": [],
   "source": [
    "Analysis_Data = pd.read_csv('/filename.csv',sep=',')\n",
    "# Load analysis data from 03-Feb-2023 Analysis Run"
   ]
  },
  {
   "cell_type": "markdown",
   "id": "4fa5ea83",
   "metadata": {},
   "source": [
    "The next several lines should repeat from the standards run process as the raw data needs to be cleaned/organized in the same way\n",
    "\n",
    "## CODE REPEATS FROM STDS RUN UNTIL SECTION 58"
   ]
  },
  {
   "cell_type": "code",
   "execution_count": 46,
   "id": "bc042d96",
   "metadata": {},
   "outputs": [
    {
     "data": {
      "text/plain": [
       "Index(['  Line', '  Analysis', '             Time Code', '           Port',\n",
       "       '  Inj Nr', '  d(17_16)Mean', '  d(18_16)Mean', '    d(D_H)Mean',\n",
       "       '      E17_Mean', '      H2O_Mean', '  Ignore', ' Good',\n",
       "       '                            Identifier 1',\n",
       "       '                            Identifier 2', '   Gas Configuration',\n",
       "       'Timestamp Mean', '   d(17_16)_SD', '   d(18_16)_SD', '     d(D_H)_SD',\n",
       "       '        E17_SD', '        H2O_SD', '   d(18_16)_Sl', '     d(D_H)_Sl',\n",
       "       '        H2O_Sl', 'baseline_shift', '   slope_shift', '     residuals',\n",
       "       'baseline_curvature', '      interval', '       ch4_ppm',\n",
       "       '  h16od_adjust', '   h16od_shift', 'n2_flag', 'Resistance',\n",
       "       '      DAS Temp', '      Tray', '  Sample', '     Job', '    Method',\n",
       "       'Error Code', 'Pulse Good'],\n",
       "      dtype='object')"
      ]
     },
     "execution_count": 46,
     "metadata": {},
     "output_type": "execute_result"
    }
   ],
   "source": [
    "Analysis_Data.columns #load column names"
   ]
  },
  {
   "cell_type": "code",
   "execution_count": 47,
   "id": "19b59336",
   "metadata": {},
   "outputs": [],
   "source": [
    "Analysis_Data.columns=Analysis_Data.columns.str.strip() #Remove all blank spaces from the column names"
   ]
  },
  {
   "cell_type": "code",
   "execution_count": 48,
   "id": "66d58f76",
   "metadata": {},
   "outputs": [
    {
     "data": {
      "text/plain": [
       "Index(['Line', 'Analysis', 'Time Code', 'Port', 'Inj Nr', 'd(17_16)Mean',\n",
       "       'd(18_16)Mean', 'd(D_H)Mean', 'E17_Mean', 'H2O_Mean', 'Ignore', 'Good',\n",
       "       'Identifier 1', 'Identifier 2', 'Gas Configuration', 'Timestamp Mean',\n",
       "       'd(17_16)_SD', 'd(18_16)_SD', 'd(D_H)_SD', 'E17_SD', 'H2O_SD',\n",
       "       'd(18_16)_Sl', 'd(D_H)_Sl', 'H2O_Sl', 'baseline_shift', 'slope_shift',\n",
       "       'residuals', 'baseline_curvature', 'interval', 'ch4_ppm',\n",
       "       'h16od_adjust', 'h16od_shift', 'n2_flag', 'Resistance', 'DAS Temp',\n",
       "       'Tray', 'Sample', 'Job', 'Method', 'Error Code', 'Pulse Good'],\n",
       "      dtype='object')"
      ]
     },
     "execution_count": 48,
     "metadata": {},
     "output_type": "execute_result"
    }
   ],
   "source": [
    "Analysis_Data.columns #load column names"
   ]
  },
  {
   "cell_type": "code",
   "execution_count": 49,
   "id": "9561b39e",
   "metadata": {},
   "outputs": [
    {
     "name": "stdout",
     "output_type": "stream",
     "text": [
      "<class 'pandas.core.frame.DataFrame'>\n",
      "RangeIndex: 496 entries, 0 to 495\n",
      "Data columns (total 41 columns):\n",
      " #   Column              Non-Null Count  Dtype \n",
      "---  ------              --------------  ----- \n",
      " 0   Line                496 non-null    int64 \n",
      " 1   Analysis            496 non-null    object\n",
      " 2   Time Code           496 non-null    object\n",
      " 3   Port                496 non-null    object\n",
      " 4   Inj Nr              496 non-null    int64 \n",
      " 5   d(17_16)Mean        496 non-null    object\n",
      " 6   d(18_16)Mean        496 non-null    object\n",
      " 7   d(D_H)Mean          496 non-null    object\n",
      " 8   E17_Mean            496 non-null    object\n",
      " 9   H2O_Mean            496 non-null    object\n",
      " 10  Ignore              496 non-null    object\n",
      " 11  Good                496 non-null    object\n",
      " 12  Identifier 1        496 non-null    object\n",
      " 13  Identifier 2        496 non-null    object\n",
      " 14  Gas Configuration   496 non-null    object\n",
      " 15  Timestamp Mean      496 non-null    object\n",
      " 16  d(17_16)_SD         496 non-null    object\n",
      " 17  d(18_16)_SD         496 non-null    object\n",
      " 18  d(D_H)_SD           496 non-null    object\n",
      " 19  E17_SD              496 non-null    object\n",
      " 20  H2O_SD              496 non-null    object\n",
      " 21  d(18_16)_Sl         496 non-null    object\n",
      " 22  d(D_H)_Sl           496 non-null    object\n",
      " 23  H2O_Sl              496 non-null    object\n",
      " 24  baseline_shift      496 non-null    object\n",
      " 25  slope_shift         496 non-null    object\n",
      " 26  residuals           496 non-null    object\n",
      " 27  baseline_curvature  496 non-null    object\n",
      " 28  interval            496 non-null    object\n",
      " 29  ch4_ppm             496 non-null    object\n",
      " 30  h16od_adjust        496 non-null    object\n",
      " 31  h16od_shift         496 non-null    object\n",
      " 32  n2_flag             496 non-null    object\n",
      " 33  Resistance          496 non-null    object\n",
      " 34  DAS Temp            496 non-null    object\n",
      " 35  Tray                496 non-null    int64 \n",
      " 36  Sample              496 non-null    int64 \n",
      " 37  Job                 496 non-null    int64 \n",
      " 38  Method              496 non-null    object\n",
      " 39  Error Code          496 non-null    int64 \n",
      " 40  Pulse Good          496 non-null    int64 \n",
      "dtypes: int64(7), object(34)\n",
      "memory usage: 159.0+ KB\n"
     ]
    }
   ],
   "source": [
    "Analysis_Data.info()"
   ]
  },
  {
   "cell_type": "code",
   "execution_count": 50,
   "id": "c226db4d",
   "metadata": {},
   "outputs": [],
   "source": [
    "Analysis_Data['d(18_16)Mean'] = Analysis_Data['d(18_16)Mean'].str.strip() #removing spacing\n",
    "Analysis_Data['d(17_16)Mean'] = Analysis_Data['d(17_16)Mean'].str.strip() #removing spacing\n",
    "Analysis_Data['d(D_H)Mean'] = Analysis_Data['d(D_H)Mean'].str.strip() #removing spacing\n",
    "Analysis_Data['E17_Mean'] = Analysis_Data['E17_Mean'].str.strip() #removing spacing\n",
    "Analysis_Data['H2O_Mean'] = Analysis_Data['H2O_Mean'].str.strip() #removing spacing"
   ]
  },
  {
   "cell_type": "code",
   "execution_count": 51,
   "id": "88717173",
   "metadata": {},
   "outputs": [],
   "source": [
    "Analysis_Data['d(18_16)Mean'] = pd.to_numeric(Analysis_Data['d(18_16)Mean']) #convert to numeric\n",
    "Analysis_Data['d(17_16)Mean'] = pd.to_numeric(Analysis_Data['d(17_16)Mean']) #convert to numeric\n",
    "Analysis_Data['d(D_H)Mean'] = pd.to_numeric(Analysis_Data['d(D_H)Mean']) #convert to numeric\n",
    "Analysis_Data['E17_Mean'] = pd.to_numeric(Analysis_Data['E17_Mean']) #convert to numeric\n",
    "Analysis_Data['H2O_Mean'] = pd.to_numeric(Analysis_Data['H2O_Mean']) #convert to numeric"
   ]
  },
  {
   "cell_type": "code",
   "execution_count": 52,
   "id": "fcf4062e",
   "metadata": {},
   "outputs": [
    {
     "name": "stdout",
     "output_type": "stream",
     "text": [
      "<class 'pandas.core.frame.DataFrame'>\n",
      "RangeIndex: 496 entries, 0 to 495\n",
      "Data columns (total 41 columns):\n",
      " #   Column              Non-Null Count  Dtype  \n",
      "---  ------              --------------  -----  \n",
      " 0   Line                496 non-null    int64  \n",
      " 1   Analysis            496 non-null    object \n",
      " 2   Time Code           496 non-null    object \n",
      " 3   Port                496 non-null    object \n",
      " 4   Inj Nr              496 non-null    int64  \n",
      " 5   d(17_16)Mean        494 non-null    float64\n",
      " 6   d(18_16)Mean        494 non-null    float64\n",
      " 7   d(D_H)Mean          494 non-null    float64\n",
      " 8   E17_Mean            494 non-null    float64\n",
      " 9   H2O_Mean            494 non-null    float64\n",
      " 10  Ignore              496 non-null    object \n",
      " 11  Good                496 non-null    object \n",
      " 12  Identifier 1        496 non-null    object \n",
      " 13  Identifier 2        496 non-null    object \n",
      " 14  Gas Configuration   496 non-null    object \n",
      " 15  Timestamp Mean      496 non-null    object \n",
      " 16  d(17_16)_SD         496 non-null    object \n",
      " 17  d(18_16)_SD         496 non-null    object \n",
      " 18  d(D_H)_SD           496 non-null    object \n",
      " 19  E17_SD              496 non-null    object \n",
      " 20  H2O_SD              496 non-null    object \n",
      " 21  d(18_16)_Sl         496 non-null    object \n",
      " 22  d(D_H)_Sl           496 non-null    object \n",
      " 23  H2O_Sl              496 non-null    object \n",
      " 24  baseline_shift      496 non-null    object \n",
      " 25  slope_shift         496 non-null    object \n",
      " 26  residuals           496 non-null    object \n",
      " 27  baseline_curvature  496 non-null    object \n",
      " 28  interval            496 non-null    object \n",
      " 29  ch4_ppm             496 non-null    object \n",
      " 30  h16od_adjust        496 non-null    object \n",
      " 31  h16od_shift         496 non-null    object \n",
      " 32  n2_flag             496 non-null    object \n",
      " 33  Resistance          496 non-null    object \n",
      " 34  DAS Temp            496 non-null    object \n",
      " 35  Tray                496 non-null    int64  \n",
      " 36  Sample              496 non-null    int64  \n",
      " 37  Job                 496 non-null    int64  \n",
      " 38  Method              496 non-null    object \n",
      " 39  Error Code          496 non-null    int64  \n",
      " 40  Pulse Good          496 non-null    int64  \n",
      "dtypes: float64(5), int64(7), object(29)\n",
      "memory usage: 159.0+ KB\n"
     ]
    }
   ],
   "source": [
    "Analysis_Data.info() #load the data type for each variable"
   ]
  },
  {
   "cell_type": "code",
   "execution_count": 53,
   "id": "ab1f3a4a",
   "metadata": {},
   "outputs": [],
   "source": [
    "Analysis_Data = Analysis_Data.rename(columns={'Identifier 1':'SampleName'}) #Change name of Identifier 1 to SampleName'"
   ]
  },
  {
   "cell_type": "code",
   "execution_count": 54,
   "id": "a8946f4c",
   "metadata": {},
   "outputs": [
    {
     "data": {
      "text/plain": [
       "0                                       DummyKD\n",
       "1                                       DummyKD\n",
       "2                                       DummyKD\n",
       "3                                       DummyKD\n",
       "4                                       DummyKD\n",
       "                         ...                   \n",
       "491                                      USGS47\n",
       "492                                      USGS47\n",
       "493                                      USGS47\n",
       "494                                      USGS47\n",
       "495                                      USGS47\n",
       "Name: SampleName, Length: 496, dtype: object"
      ]
     },
     "execution_count": 54,
     "metadata": {},
     "output_type": "execute_result"
    }
   ],
   "source": [
    "Analysis_Data.SampleName #Load SampleName Column"
   ]
  },
  {
   "cell_type": "code",
   "execution_count": 55,
   "id": "e2365826",
   "metadata": {},
   "outputs": [],
   "source": [
    "Analysis_Data['SampleName'] = Analysis_Data['SampleName'].str.strip() #removing spacing"
   ]
  },
  {
   "cell_type": "code",
   "execution_count": 56,
   "id": "e724dc0d",
   "metadata": {},
   "outputs": [
    {
     "data": {
      "text/plain": [
       "array(['DummyKD', 'SuperBoil', 'UltraBoil', 'SupremeBoil', 'MegaBoil',\n",
       "       'USGS50', 'Muley_Standard', 'Real_KD', 'USGS48', 'DI_Water',\n",
       "       'C1118_01', 'C1111_01', 'C1111_04', 'C1111_08', 'DI_Seat',\n",
       "       'IceLava', 'NM2', 'MissMT', 'MissMT_Test_01', 'MissMT_Test_02',\n",
       "       'MissMT_Test_03', 'USGS47'], dtype=object)"
      ]
     },
     "execution_count": 56,
     "metadata": {},
     "output_type": "execute_result"
    }
   ],
   "source": [
    "Analysis_Samples_List=pd.unique(Analysis_Data[\"SampleName\"]) #create list of unique items in the column 'SampleName'\n",
    "Analysis_Samples_List #View the array of unique sample names"
   ]
  },
  {
   "cell_type": "code",
   "execution_count": 57,
   "id": "e80d9d52",
   "metadata": {},
   "outputs": [],
   "source": [
    "Anlys_Samples_Dictionary = {elem : pd.DataFrame() for elem in Analysis_Samples_List} #Define data dictionary based on Sample Names array\n",
    "\n",
    "for key in Anlys_Samples_Dictionary.keys():\n",
    "    Anlys_Samples_Dictionary[key] = Analysis_Data[:][Analysis_Data.SampleName == key] \n",
    "    #generate function that adds a dataframe for each element in the array"
   ]
  },
  {
   "cell_type": "markdown",
   "id": "75a70d92",
   "metadata": {},
   "source": [
    "## RETURN HERE\n",
    "\n",
    "\n",
    "Now the analysis data has been generated into a data dictionary with all the samples in the same way the standards run was.\n",
    "\n",
    "To correct analysis data, in-house water standards are used. The next lines should be adjusted based on the in-house water standards the lab is using. In-house water standards should cover a wide enough range of values to encapsulate all unknown samples analyzed in the analysis run.\n",
    "\n",
    "USGS50 and USGS47 will be used as in-house standards in the following code but these should be edited depending on what standards the lab selects.\n",
    "\n",
    "*** EDIT THE FOLLOWING LINES BASED ON THE IN-HOUSE STANDARDS SELECTED BY THE LAB ***"
   ]
  },
  {
   "cell_type": "code",
   "execution_count": 58,
   "id": "0215788f",
   "metadata": {},
   "outputs": [],
   "source": [
    "# Remove outliers and injections impacted by memory effect for both in-house standards\n",
    "STD_VALUE=1\n",
    "for i in range(2):\n",
    "        mean= np.mean(Anlys_Samples_Dictionary['USGS50']['d(18_16)Mean'])\n",
    "        std = np.std(Anlys_Samples_Dictionary['USGS50']['d(18_16)Mean'])\n",
    "        cutoff = std * STD_VALUE\n",
    "        lower, upper = mean - cutoff, mean + cutoff\n",
    "        condition= ~((Anlys_Samples_Dictionary['USGS50']['d(18_16)Mean'] < (mean - cutoff)) | (Anlys_Samples_Dictionary['USGS50']['d(18_16)Mean'] > (mean + cutoff)))\n",
    "        Clean = Anlys_Samples_Dictionary['USGS50'][condition]\n",
    "        Anlys_Samples_Dictionary['USGS50']=Clean\n",
    "        \n",
    "for i in range(2):\n",
    "        mean= np.mean(Anlys_Samples_Dictionary['USGS47']['d(18_16)Mean'])\n",
    "        std = np.std(Anlys_Samples_Dictionary['USGS47']['d(18_16)Mean'])\n",
    "        cutoff = std * STD_VALUE\n",
    "        lower, upper = mean - cutoff, mean + cutoff\n",
    "        condition= ~((Anlys_Samples_Dictionary['USGS47']['d(18_16)Mean'] < (mean - cutoff)) | (Anlys_Samples_Dictionary['USGS47']['d(18_16)Mean'] > (mean + cutoff)))\n",
    "        Clean = Anlys_Samples_Dictionary['USGS47'][condition]\n",
    "        Anlys_Samples_Dictionary['USGS47']=Clean"
   ]
  },
  {
   "cell_type": "markdown",
   "id": "9e52c43a",
   "metadata": {},
   "source": [
    "Now both in-house standards have been cleaned and can be used to create correction equations. \n",
    "\n",
    "To do this, a stretching and offset value will be generated for both d17O and d18O. These equations will be used to correct both the raw d17O and d18O values obtained from the isotope analyzer instrument. \n",
    "\n",
    "E17O can then be corrected using these corrected d17O and d18O values\n",
    "\n",
    "To begin, determine the stretching value for d18O. \n",
    "\n",
    "This is determined by generating a change value for the raw measurments of both in-house standards\n",
    "\n",
    "And by generating a change value for the known values of both in-house standards.\n",
    "\n",
    "The known change value is then divided by the raw change value."
   ]
  },
  {
   "cell_type": "code",
   "execution_count": 59,
   "id": "7171b3da",
   "metadata": {},
   "outputs": [
    {
     "data": {
      "text/plain": [
       "0.9954001102209005"
      ]
     },
     "execution_count": 59,
     "metadata": {},
     "output_type": "execute_result"
    }
   ],
   "source": [
    "#Generate raw change value *EDIT THIS LINE*\n",
    "Raw_d18O_Change = (np.mean(Anlys_Samples_Dictionary['USGS47']['d(18_16)Mean']) - np.mean(Anlys_Samples_Dictionary['USGS50']['d(18_16)Mean']))\n",
    "Known_d18O_Change = d18O_USGS47 - d18O_USGS50 #Generate known change value *EDIT THIS LINE*\n",
    "d18O_stretch = Known_d18O_Change/Raw_d18O_Change #Divide known by raw change value\n",
    "d18O_stretch #View stretching value"
   ]
  },
  {
   "cell_type": "markdown",
   "id": "451cc841",
   "metadata": {},
   "source": [
    "Each raw value will be multiplied by this stretching value. However, an offset value still needs to be obtained. \n",
    "\n",
    "The offset is determined by subtracting the raw value * stretching value from the known value for both in-house standards and then averaging these values together. "
   ]
  },
  {
   "cell_type": "code",
   "execution_count": 60,
   "id": "d1c5de82",
   "metadata": {},
   "outputs": [
    {
     "data": {
      "text/plain": [
       "0.8965076418925331"
      ]
     },
     "execution_count": 60,
     "metadata": {},
     "output_type": "execute_result"
    }
   ],
   "source": [
    "#in-house std 1 offset value *EDIT THIS LINE*\n",
    "d18O_InHS_Std1_Offset = d18O_USGS47 - (np.mean(Anlys_Samples_Dictionary['USGS47']['d(18_16)Mean']) * d18O_stretch)\n",
    "#in-house std 2 offset value *EDIT THIS LINE*\n",
    "d18O_InHS_Std2_Offset = d18O_USGS50 - (np.mean(Anlys_Samples_Dictionary['USGS50']['d(18_16)Mean']) * d18O_stretch) \n",
    "d18O_Offset = (d18O_InHS_Std1_Offset+d18O_InHS_Std2_Offset)/2 #Add both in-house stds offset together and divide by 2\n",
    "d18O_Offset"
   ]
  },
  {
   "cell_type": "markdown",
   "id": "3a404e08",
   "metadata": {},
   "source": [
    "This offset value will be added to the product of (raw value * stretching value) \n",
    "\n",
    "As such, the final equation looks like: y = (raw value * stretching value) + offset\n",
    "\n",
    "When simplified, this is essentially just a *y=mx+b equation*, with y representing the corrected value. \n",
    "\n",
    "Define a function based on the obtained d18O stretching and offset values. This will be used to correct all raw values later."
   ]
  },
  {
   "cell_type": "code",
   "execution_count": 61,
   "id": "b7018a1a",
   "metadata": {},
   "outputs": [],
   "source": [
    "def d18O_amended(x):\n",
    "    return((d18O_stretch*x)+d18O_Offset) #function to correct raw d18O values"
   ]
  },
  {
   "cell_type": "markdown",
   "id": "06a0d27c",
   "metadata": {},
   "source": [
    "Now that a correction equation has been determined for d18O, an equation needs to be determined for d17O\n",
    "\n",
    "The format for generating a d17O correction is slightly different because d17O values are less certain except for VSMOW\n",
    "\n",
    "Therefore, a backcalculation using d18O and E17O is applied to obtain a d17O approximate value for BOTH in-house water standards"
   ]
  },
  {
   "cell_type": "code",
   "execution_count": 62,
   "id": "f491f480",
   "metadata": {},
   "outputs": [
    {
     "data": {
      "text/plain": [
       "-10.494650452456122"
      ]
     },
     "execution_count": 62,
     "metadata": {},
     "output_type": "execute_result"
    }
   ],
   "source": [
    "#back calculate to determine approx linearized of in-house standard 1 *EDIT THIS LINE*\n",
    "InHS_Std1_Lin_d17O= (E17O_USGS47)+(0.528*(1000*np.log((d18O_USGS47/1000)+1))) \n",
    "InHS_Std1_Approx_d17O = 1000*(exp(InHS_Std1_Lin_d17O/1000)-1) #determine approximate d17O from approx linearized SLAP d17O\n",
    "InHS_Std1_Approx_d17O #view approx SLAP d17O value"
   ]
  },
  {
   "cell_type": "markdown",
   "id": "c6404c56",
   "metadata": {},
   "source": [
    "Now repeat for the second in-house standard"
   ]
  },
  {
   "cell_type": "code",
   "execution_count": 63,
   "id": "3d94ae8a",
   "metadata": {},
   "outputs": [
    {
     "data": {
      "text/plain": [
       "2.5969491876274287"
      ]
     },
     "execution_count": 63,
     "metadata": {},
     "output_type": "execute_result"
    }
   ],
   "source": [
    "#back calculate to determine approx linearized of in-house standard 2 *EDIT THIS LINE*\n",
    "InHS_Std2_Lin_d17O= (E17O_USGS50)+(0.528*(1000*np.log((d18O_USGS50/1000)+1))) \n",
    "InHS_Std2_Approx_d17O = 1000*(exp(InHS_Std2_Lin_d17O/1000)-1) #determine approximate d17O from approx linearized SLAP d17O\n",
    "InHS_Std2_Approx_d17O #view approx SLAP d17O value"
   ]
  },
  {
   "cell_type": "markdown",
   "id": "67a47449",
   "metadata": {},
   "source": [
    "Now these approximated d17O values can be used to calculate the stretching and offset values in the same manner as the d18O approach"
   ]
  },
  {
   "cell_type": "code",
   "execution_count": 64,
   "id": "40c0fe4c",
   "metadata": {},
   "outputs": [
    {
     "data": {
      "text/plain": [
       "0.984784599699354"
      ]
     },
     "execution_count": 64,
     "metadata": {},
     "output_type": "execute_result"
    }
   ],
   "source": [
    "#Generate raw change value *EDIT THIS LINE\n",
    "Raw_d17O_Change = (np.mean(Anlys_Samples_Dictionary['USGS47']['d(17_16)Mean']) - np.mean(Anlys_Samples_Dictionary['USGS50']['d(17_16)Mean']))\n",
    "Known_d17O_Change = InHS_Std1_Approx_d17O - InHS_Std2_Approx_d17O #Generate known change value\n",
    "d17O_stretch = Known_d17O_Change/Raw_d17O_Change #Divide known by raw change value\n",
    "d17O_stretch #View stretching value"
   ]
  },
  {
   "cell_type": "code",
   "execution_count": 65,
   "id": "86dde7b5",
   "metadata": {},
   "outputs": [
    {
     "data": {
      "text/plain": [
       "0.24975985718036853"
      ]
     },
     "execution_count": 65,
     "metadata": {},
     "output_type": "execute_result"
    }
   ],
   "source": [
    "#in-house std 1 offset value *EDIT THIS LINE*\n",
    "d17O_InHS_Std1_Offset = InHS_Std1_Approx_d17O - (np.mean(Anlys_Samples_Dictionary['USGS47']['d(17_16)Mean']) * d17O_stretch) \n",
    "#in-house std 2 offset value *EDIT THIS LINE*\n",
    "d17O_InHS_Std2_Offset = InHS_Std2_Approx_d17O - (np.mean(Anlys_Samples_Dictionary['USGS50']['d(17_16)Mean']) * d17O_stretch) #VSMOW offset value\n",
    "d17O_Offset = (d17O_InHS_Std1_Offset+d17O_InHS_Std2_Offset)/2  #Add in-house stds offset together and divide by 2\n",
    "d17O_Offset"
   ]
  },
  {
   "cell_type": "markdown",
   "id": "464c023c",
   "metadata": {},
   "source": [
    "*** END OF LINES THAT NEED TO BE EDITED ***"
   ]
  },
  {
   "cell_type": "code",
   "execution_count": 66,
   "id": "b70970b6",
   "metadata": {},
   "outputs": [],
   "source": [
    "def d17O_amended(x):\n",
    "    return((d17O_stretch*x)+d17O_Offset) #function to correct raw d17O values"
   ]
  },
  {
   "cell_type": "markdown",
   "id": "75efb3bf",
   "metadata": {},
   "source": [
    "Now there's a d17O and d18O correction equation\n",
    "\n",
    "Now create a function that uses the corrected d17O and d18O values to determine a corrected E17O value"
   ]
  },
  {
   "cell_type": "code",
   "execution_count": 67,
   "id": "7c7ff538",
   "metadata": {},
   "outputs": [],
   "source": [
    "def E17O_amended(x,y):\n",
    "    return(((((1000*np.log((x/1000)+1))))-(0.528*(1000*np.log((y/1000)+1)))))\n",
    "#function to determine corrected E17O value from corrected d17O and d18O"
   ]
  },
  {
   "cell_type": "markdown",
   "id": "889d3f21",
   "metadata": {},
   "source": [
    "First correct all d18O values in the analysis data dictionary"
   ]
  },
  {
   "cell_type": "code",
   "execution_count": 68,
   "id": "69942a82",
   "metadata": {},
   "outputs": [],
   "source": [
    "for x in Analysis_Samples_List:\n",
    "    Anlys_Samples_Dictionary[x]['d18O_amended']=d18O_amended(Anlys_Samples_Dictionary[x]['d(18_16)Mean'])\n",
    "# apply d18O correction function to all raw d18O values in analysis data dictionary"
   ]
  },
  {
   "cell_type": "markdown",
   "id": "0b81765d",
   "metadata": {},
   "source": [
    "Now repeat for all d17O values in the analysis data dictionary"
   ]
  },
  {
   "cell_type": "code",
   "execution_count": 69,
   "id": "e8f76602",
   "metadata": {},
   "outputs": [],
   "source": [
    "for x in Analysis_Samples_List:\n",
    "    Anlys_Samples_Dictionary[x]['d17O_amended']=d17O_amended(Anlys_Samples_Dictionary[x]['d(17_16)Mean'])\n",
    "# apply d17O correction function to all raw d17O values in analysis data dictionary"
   ]
  },
  {
   "cell_type": "markdown",
   "id": "8e9149e5",
   "metadata": {},
   "source": [
    "Now can correct E17O with both d17O and d18O corrected"
   ]
  },
  {
   "cell_type": "code",
   "execution_count": 70,
   "id": "26001c67",
   "metadata": {},
   "outputs": [],
   "source": [
    "for x in Analysis_Samples_List:\n",
    "    Anlys_Samples_Dictionary[x]['E17O_amended']=E17O_amended(Anlys_Samples_Dictionary[x]['d17O_amended'], Anlys_Samples_Dictionary[x]['d18O_amended'])\n",
    "    # apply E17O correction function using corrected d17O and d18O"
   ]
  },
  {
   "cell_type": "markdown",
   "id": "54aa7e15",
   "metadata": {},
   "source": [
    "At this point it's important to check E17O values to make sure they look accurate and standard deviations aren't too big. Since this is an analysis run, pay close attention to control water values to ensure unknown sample values can be trusted."
   ]
  },
  {
   "cell_type": "code",
   "execution_count": 71,
   "id": "190bf4c3",
   "metadata": {},
   "outputs": [
    {
     "name": "stdout",
     "output_type": "stream",
     "text": [
      "DummyKD -0.0079566118200025\n",
      "SuperBoil 0.01112185943086289\n",
      "UltraBoil 0.015806639416008364\n",
      "SupremeBoil 0.008365903540214914\n",
      "MegaBoil -0.0002290575917791434\n",
      "USGS50 -0.0058930454180885295\n",
      "Muley_Standard -0.14154683005259666\n",
      "Real_KD -0.017994412092557366\n",
      "USGS48 0.018645974990096254\n",
      "DI_Water 0.004706344265027329\n",
      "C1118_01 -0.1228705641442411\n",
      "C1111_01 -0.12037292565472445\n",
      "C1111_04 -0.12947389191838563\n",
      "C1111_08 -0.12512353811129204\n",
      "DI_Seat 0.008910800455677013\n",
      "IceLava 0.009082195991270865\n",
      "NM2 0.009841738638485746\n",
      "MissMT 0.026078813485947688\n",
      "MissMT_Test_01 0.026696840658563925\n",
      "MissMT_Test_02 0.03287990100797664\n",
      "MissMT_Test_03 0.03508128033305935\n",
      "USGS47 0.03919185212163775\n"
     ]
    }
   ],
   "source": [
    "for x in Analysis_Samples_List:\n",
    "    print(x,np.mean(Anlys_Samples_Dictionary[x]['E17O_amended'])) #function view E17O mean values for all samples"
   ]
  },
  {
   "cell_type": "code",
   "execution_count": 72,
   "id": "5872a72c",
   "metadata": {},
   "outputs": [
    {
     "name": "stdout",
     "output_type": "stream",
     "text": [
      "DummyKD 0.013114796641794992\n",
      "SuperBoil 0.011388199711009678\n",
      "UltraBoil 0.01668486437681672\n",
      "SupremeBoil 0.014177194172129006\n",
      "MegaBoil 0.013957698797273401\n",
      "USGS50 0.013356803032370246\n",
      "Muley_Standard 0.011713766000795857\n",
      "Real_KD 0.014454056409418105\n",
      "USGS48 0.01226009011024755\n",
      "DI_Water 0.012533692928602297\n",
      "C1118_01 0.009816360267620483\n",
      "C1111_01 0.010473038322733509\n",
      "C1111_04 0.018945784857289392\n",
      "C1111_08 0.007929541233456076\n",
      "DI_Seat 0.01583379075682713\n",
      "IceLava 0.011891384649826782\n",
      "NM2 0.013772505531675742\n",
      "MissMT 0.011967470372947398\n",
      "MissMT_Test_01 0.009994802768647854\n",
      "MissMT_Test_02 0.012194791673133618\n",
      "MissMT_Test_03 0.014805527413582533\n",
      "USGS47 0.017050731743588315\n"
     ]
    }
   ],
   "source": [
    "for x in Analysis_Samples_List:\n",
    "    print(x,np.std(Anlys_Samples_Dictionary[x]['E17O_amended'])) #function to view E17O standard deviation values for all samples"
   ]
  },
  {
   "cell_type": "markdown",
   "id": "76479994",
   "metadata": {},
   "source": [
    "If E17O values and standard deviations look correct, then at this point individual csv files should be exported for each sample before proceeding to make further adjustments.\n",
    "\n",
    "This is critical because many columns will be removed in the proceeding steps and it may be necessary to examine these columns down the road.\n",
    "\n",
    "*** EDIT THE LINES BELOW ***"
   ]
  },
  {
   "cell_type": "code",
   "execution_count": 73,
   "id": "146be229",
   "metadata": {},
   "outputs": [],
   "source": [
    "for x in Analysis_Samples_List:\n",
    "    Anlys_Samples_Dictionary[x].to_csv('/filename'+str(x)+timestr+'.csv', sep=',') \n",
    "    #function that exports each sample data as an individual dataframe with the current date in day_year_month format"
   ]
  },
  {
   "cell_type": "markdown",
   "id": "32752b3b",
   "metadata": {},
   "source": [
    "At this point, only the 2 in-house standards have been cleaned. All the other samples should go through the same cutoff process described above based based on their means and standard deviations.\n",
    "\n",
    "Before doing this, a new list should be created without the in-house standards so that it can be applied to functions.\n"
   ]
  },
  {
   "cell_type": "code",
   "execution_count": 74,
   "id": "598903a2",
   "metadata": {},
   "outputs": [],
   "source": [
    "Analysis_Samples_List_B = list(Analysis_Samples_List)\n",
    "Analysis_Samples_List_B.remove('USGS47')\n",
    "Analysis_Samples_List_B.remove('USGS50')"
   ]
  },
  {
   "cell_type": "markdown",
   "id": "325edaf3",
   "metadata": {},
   "source": [
    "*** END OF LINES THAT NEED TO BE EDITED ***\n",
    "\n",
    "Now the same function used earlier will be applied to the remaining samples. \n",
    "\n",
    "Remember to change the number of standard deviations ('STD_VALUE') based on the desired tightness of the window of remaining measurments. This will be extra sensitive for unknown samples that have few measurments. "
   ]
  },
  {
   "cell_type": "code",
   "execution_count": 75,
   "id": "8b6675d7",
   "metadata": {},
   "outputs": [],
   "source": [
    "STD_VALUE= 1\n",
    "\n",
    "for x in Analysis_Samples_List_B:\n",
    "    for i in range(2):\n",
    "        mean= np.mean(Anlys_Samples_Dictionary[x]['d(18_16)Mean'])\n",
    "        std = np.std(Anlys_Samples_Dictionary[x]['d(18_16)Mean'])\n",
    "        cutoff = std * STD_VALUE\n",
    "        lower, upper = mean - cutoff, mean + cutoff\n",
    "        condition= ~((Anlys_Samples_Dictionary[x]['d(18_16)Mean'] < (mean - cutoff)) | (Anlys_Samples_Dictionary[x]['d(18_16)Mean'] > (mean + cutoff)))\n",
    "        Clean = Anlys_Samples_Dictionary[x][condition]\n",
    "        Anlys_Samples_Dictionary[x]=Clean"
   ]
  },
  {
   "cell_type": "markdown",
   "id": "0d5bee05",
   "metadata": {},
   "source": [
    "Now revisit E17O and standard deviation values to see how they've changed. Pay close attention to values for unknown samples in case too many measurements were removed."
   ]
  },
  {
   "cell_type": "code",
   "execution_count": 76,
   "id": "7b945fee",
   "metadata": {},
   "outputs": [
    {
     "name": "stdout",
     "output_type": "stream",
     "text": [
      "DummyKD -0.007411629308259929\n",
      "SuperBoil 0.01036762694323037\n",
      "UltraBoil 0.019017928219551825\n",
      "SupremeBoil 0.009414249647063317\n",
      "MegaBoil 0.00213370415636576\n",
      "USGS50 -0.0058930454180885295\n",
      "Muley_Standard -0.1470900145994762\n",
      "Real_KD -0.01718385215315527\n",
      "USGS48 0.019328684321275786\n",
      "DI_Water 0.008676826206043653\n",
      "C1118_01 -0.11792325364579159\n",
      "C1111_01 -0.11776628918314724\n",
      "C1111_04 -0.13864511843168437\n",
      "C1111_08 -0.12642916731074005\n",
      "DI_Seat 0.013875673580667266\n",
      "IceLava 0.00948403882493215\n",
      "NM2 0.011509875464444451\n",
      "MissMT 0.025309631972462283\n",
      "MissMT_Test_01 0.027354946467469863\n",
      "MissMT_Test_02 0.03254793898291326\n",
      "MissMT_Test_03 0.03451686864292387\n",
      "USGS47 0.03919185212163775\n"
     ]
    }
   ],
   "source": [
    "for x in Analysis_Samples_List:\n",
    "    print(x,np.mean(Anlys_Samples_Dictionary[x]['E17O_amended'])) #function view E17O mean values for all samples"
   ]
  },
  {
   "cell_type": "code",
   "execution_count": 77,
   "id": "394d19dd",
   "metadata": {},
   "outputs": [
    {
     "name": "stdout",
     "output_type": "stream",
     "text": [
      "DummyKD 0.013712534151373116\n",
      "SuperBoil 0.013605159603502833\n",
      "UltraBoil 0.011297536585191233\n",
      "SupremeBoil 0.01489955026275292\n",
      "MegaBoil 0.01342523733067669\n",
      "USGS50 0.013356803032370246\n",
      "Muley_Standard 0.00921781645986293\n",
      "Real_KD 0.010884727044191342\n",
      "USGS48 0.013395061199635282\n",
      "DI_Water 0.008535265781725134\n",
      "C1118_01 0.005956188945317218\n",
      "C1111_01 0.008216851937769975\n",
      "C1111_04 0.010723033812814808\n",
      "C1111_08 0.009881963817422401\n",
      "DI_Seat 0.017058135208860837\n",
      "IceLava 0.01308771950244464\n",
      "NM2 0.015655944066547182\n",
      "MissMT 0.012575205824614596\n",
      "MissMT_Test_01 0.009342484576607824\n",
      "MissMT_Test_02 0.01215801619163889\n",
      "MissMT_Test_03 0.015677611255344507\n",
      "USGS47 0.017050731743588315\n"
     ]
    }
   ],
   "source": [
    "for x in Analysis_Samples_List:\n",
    "    print(x,np.std(Anlys_Samples_Dictionary[x]['E17O_amended'])) #function to view E17O standard deviation values for all samples"
   ]
  },
  {
   "cell_type": "markdown",
   "id": "69b54644",
   "metadata": {},
   "source": [
    "*** EDIT THESE NEXT LINES *** \n",
    "\n",
    "At this point remove any samples should be divided into unknown samples and established samples.\n",
    "\n",
    "Measured established samples will be compared against their established values while unknown samples will simply have their mean and standard deviation reported."
   ]
  },
  {
   "cell_type": "code",
   "execution_count": 78,
   "id": "2008bdad",
   "metadata": {},
   "outputs": [],
   "source": [
    "#Remove any conidtioning vials first\n",
    "Final_Analysis_Samples_List = list(Analysis_Samples_List) #generate new Final version list\n",
    "Final_Analysis_Samples_List.remove('DummyKD') #remove this sample\n",
    "Final_Analysis_Samples_List.remove('SuperBoil') #remove this sample\n",
    "Final_Analysis_Samples_List.remove('UltraBoil') #remove this sample\n",
    "Final_Analysis_Samples_List.remove('MissMT_Test_01') #remove this sample\n",
    "Final_Analysis_Samples_List.remove('MissMT_Test_02') #remove this sample\n",
    "Final_Analysis_Samples_List.remove('MissMT_Test_03') #remove this sample\n",
    "Established_Samples = ('SupremeBoil','MegaBoil','USGS50','Muley_Standard','Real_KD','USGS48','IceLava','NM2','MissMT','USGS47','DI_Water','DI_Seat') \n",
    "Established_Samples = list(Established_Samples)\n",
    "Unknown_Samples=('C1118_01','C1111_01','C1111_04','C1111_08') #generate list of unknown samples\n",
    "Unknown_Samples=list(Unknown_Samples)"
   ]
  },
  {
   "cell_type": "markdown",
   "id": "5cb6467a",
   "metadata": {},
   "source": [
    "*** END OF LINES THAT NEED TO BE EDITED ***\n",
    "\n",
    "As long as nothing looks off or unusual, now proceed to remove all columns except those critical to oxygen and hydrogen analysis"
   ]
  },
  {
   "cell_type": "code",
   "execution_count": 79,
   "id": "3fcf0434",
   "metadata": {},
   "outputs": [],
   "source": [
    "for x in Final_Analysis_Samples_List:\n",
    "    Anlys_Samples_Dictionary[x]['_']= \"\" #Add blank column\n",
    "    Anlys_Samples_Dictionary[x]['__']= \"\" #Add blank column\n",
    "    Anlys_Samples_Dictionary[x]['___']= \"\" #Add blank column\n",
    "    Anlys_Samples_Dictionary[x]['____']= \"\" #Add blank column\n",
    "    Anlys_Samples_Dictionary[x]=Anlys_Samples_Dictionary[x][['Inj Nr','d(17_16)Mean','d17O_amended','_',\n",
    "                                                       'd(18_16)Mean','d18O_amended','__','d(D_H)Mean','___',\n",
    "                                                       'E17_Mean','E17O_amended','____',\"H2O_Mean\"]].copy()\n",
    "    #This last portion of the function creates a new version of the data dictionary with only the necessary columns and \n",
    "    #adds spaces between sections to make the dataframes easier to read"
   ]
  },
  {
   "cell_type": "markdown",
   "id": "3f34bc1f",
   "metadata": {},
   "source": [
    "Finalize established samples"
   ]
  },
  {
   "cell_type": "code",
   "execution_count": 80,
   "id": "ca3f0a05",
   "metadata": {},
   "outputs": [],
   "source": [
    "for x in Established_Samples:\n",
    "    #Create new row based on the mean values\n",
    "    row_1=['','',np.mean(Anlys_Samples_Dictionary[x]['d17O_amended']),'','',\n",
    "           np.mean(Anlys_Samples_Dictionary[x]['d18O_amended']),'','','','',\n",
    "           np.mean(Anlys_Samples_Dictionary[x]['E17O_amended']),'',np.mean(Anlys_Samples_Dictionary[x]['H2O_Mean'])]\n",
    "    #Create new row based on the standard deviations\n",
    "    row_2=['','',np.std(Anlys_Samples_Dictionary[x]['d17O_amended']),'','',np.std(Anlys_Samples_Dictionary[x]['d18O_amended']),'','',\n",
    "           '','',np.std(Anlys_Samples_Dictionary[x]['E17O_amended']),'',np.std(Anlys_Samples_Dictionary[x]['H2O_Mean'])]\n",
    "    #Create new row based on the difference between measured and know/established values\n",
    "    row_3=['','',(pd.to_numeric(eval('d17O_'+x)) - np.mean(Anlys_Samples_Dictionary[x]['d17O_amended'])),'','',\n",
    "        (pd.to_numeric(eval('d18O_'+x)) - np.mean(Anlys_Samples_Dictionary[x]['d18O_amended'])),'','',\n",
    "        '','',(pd.to_numeric(eval('E17O_'+x)) - np.mean(Anlys_Samples_Dictionary[x]['E17O_amended'])),'','',]\n",
    "    Anlys_Samples_Dictionary[x].loc['MEAN']=row_1 #add row 1 to end of dataframe\n",
    "    Anlys_Samples_Dictionary[x].loc['STD']=row_2 #add row 2 to end of dataframe\n",
    "    Anlys_Samples_Dictionary[x].loc['DIFFERENCE FROM KNOWN/ESTABLISHED']=row_3 #add row 3 to end of dataframe"
   ]
  },
  {
   "cell_type": "markdown",
   "id": "83f95c72",
   "metadata": {},
   "source": [
    "Finalize unknown samples"
   ]
  },
  {
   "cell_type": "code",
   "execution_count": 81,
   "id": "73b9ee1d",
   "metadata": {},
   "outputs": [],
   "source": [
    "for x in Unknown_Samples:\n",
    "    #Create new row based on the mean values\n",
    "    row_1=['','',np.mean(Anlys_Samples_Dictionary[x]['d17O_amended']),'','',\n",
    "           np.mean(Anlys_Samples_Dictionary[x]['d18O_amended']),'','','','',\n",
    "           np.mean(Anlys_Samples_Dictionary[x]['E17O_amended']),'',np.mean(Anlys_Samples_Dictionary[x]['H2O_Mean'])]\n",
    "    #Create new row based on the standard deviations\n",
    "    row_2=['','',np.std(Anlys_Samples_Dictionary[x]['d17O_amended']),'','',np.std(Anlys_Samples_Dictionary[x]['d18O_amended']),'','',\n",
    "           '','',np.std(Anlys_Samples_Dictionary[x]['E17O_amended']),'',np.std(Anlys_Samples_Dictionary[x]['H2O_Mean'])]\n",
    "    #Create new row based on the difference between measured and know/established values\n",
    "    Anlys_Samples_Dictionary[x].loc['MEAN']=row_1 #add row 1 to end of dataframe\n",
    "    Anlys_Samples_Dictionary[x].loc['STD']=row_2 #add row 2 to end of dataframe"
   ]
  },
  {
   "cell_type": "markdown",
   "id": "64e60726",
   "metadata": {},
   "source": [
    "Now all dataframes are finalized. At this point the files are ready to be exported in a clean excel spreadsheet that contains each sample as a different sheet\n",
    "\n",
    "*** EDIT BELOW TO SET THE LOCATION TO EXPORT XLSX FILE TO***"
   ]
  },
  {
   "cell_type": "code",
   "execution_count": 82,
   "id": "16de6cf2",
   "metadata": {},
   "outputs": [],
   "source": [
    "with pd.ExcelWriter(\"/filename.csv\"+timestr+\".xlsx\") as writer:\n",
    "    for x in Final_Analysis_Samples_List:\n",
    "        Anlys_Samples_Dictionary[x].to_excel(writer, sheet_name=\"\"+str(x)+\"\")\n",
    "        # Generates an excel spreadsheet in the specified location and adds a sheet for each sample "
   ]
  }
 ],
 "metadata": {
  "kernelspec": {
   "display_name": "Python 3 (ipykernel)",
   "language": "python",
   "name": "python3"
  },
  "language_info": {
   "codemirror_mode": {
    "name": "ipython",
    "version": 3
   },
   "file_extension": ".py",
   "mimetype": "text/x-python",
   "name": "python",
   "nbconvert_exporter": "python",
   "pygments_lexer": "ipython3",
   "version": "3.9.13"
  }
 },
 "nbformat": 4,
 "nbformat_minor": 5
}
