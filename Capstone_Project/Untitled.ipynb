{
 "cells": [
  {
   "cell_type": "code",
   "execution_count": 12,
   "id": "bf72a6aa",
   "metadata": {},
   "outputs": [],
   "source": [
    "import numpy as np #Import pandas as np\n",
    "import pandas as pd #Import pandas as pd"
   ]
  },
  {
   "cell_type": "code",
   "execution_count": 29,
   "id": "70669090",
   "metadata": {},
   "outputs": [
    {
     "ename": "SyntaxError",
     "evalue": "invalid decimal literal (<string>, line 1)",
     "output_type": "error",
     "traceback": [
      "Traceback \u001b[1;36m(most recent call last)\u001b[0m:\n",
      "  File \u001b[0;32m\"C:\\Users\\zacha\\anaconda3\\lib\\site-packages\\IPython\\core\\interactiveshell.py\"\u001b[0m, line \u001b[0;32m3457\u001b[0m, in \u001b[0;35mrun_code\u001b[0m\n    exec(code_obj, self.user_global_ns, self.user_ns)\n",
      "\u001b[1;36m  File \u001b[1;32m\"C:\\Users\\zacha\\AppData\\Local\\Temp\\ipykernel_2112\\3456813867.py\"\u001b[1;36m, line \u001b[1;32m16\u001b[1;36m, in \u001b[1;35m<module>\u001b[1;36m\u001b[0m\n\u001b[1;33m    (pd.to_numeric(print(eval(x+'_d17O'))) - 6)\u001b[0m\n",
      "\u001b[1;36m  File \u001b[1;32m\"<string>\"\u001b[1;36m, line \u001b[1;32m1\u001b[0m\n\u001b[1;33m    5_d17O\u001b[0m\n\u001b[1;37m     ^\u001b[0m\n\u001b[1;31mSyntaxError\u001b[0m\u001b[1;31m:\u001b[0m invalid decimal literal\n"
     ]
    }
   ],
   "source": [
    "List=('USGS46', 'USGS47', 'USGS48', 'USGS50')\n",
    "\n",
    "USGS46_d17O= -15.6579\n",
    "USGS46_d18O= -29.4758\n",
    "\n",
    "USGS47_d17O= -10.48288938\n",
    "USGS47_d18O= -19.8374292\n",
    "\n",
    "USGS48_d17O= -1.144217023\n",
    "USGS48_d18O= -2.210739818\n",
    "\n",
    "USGS50_d17O= 2.583133734\n",
    "USGS50_d18O= 4.920460156\n",
    "\n",
    "for x in List:\n",
    "    (pd.to_numeric(print(eval(x+'_d17O'))) - 6)"
   ]
  },
  {
   "cell_type": "code",
   "execution_count": 22,
   "id": "f25e7afa",
   "metadata": {},
   "outputs": [
    {
     "name": "stdout",
     "output_type": "stream",
     "text": [
      "USGS46_d17O\n",
      "USGS47_d17O\n",
      "USGS48_d17O\n",
      "USGS50_d17O\n"
     ]
    }
   ],
   "source": [
    "for x in List:\n",
    "    print((x+'_d17O'))"
   ]
  },
  {
   "cell_type": "code",
   "execution_count": 30,
   "id": "f79c4f49",
   "metadata": {},
   "outputs": [
    {
     "ename": "SyntaxError",
     "evalue": "invalid decimal literal (<string>, line 1)",
     "output_type": "error",
     "traceback": [
      "Traceback \u001b[1;36m(most recent call last)\u001b[0m:\n",
      "  File \u001b[0;32m\"C:\\Users\\zacha\\anaconda3\\lib\\site-packages\\IPython\\core\\interactiveshell.py\"\u001b[0m, line \u001b[0;32m3457\u001b[0m, in \u001b[0;35mrun_code\u001b[0m\n    exec(code_obj, self.user_global_ns, self.user_ns)\n",
      "\u001b[1;36m  File \u001b[1;32m\"C:\\Users\\zacha\\AppData\\Local\\Temp\\ipykernel_2112\\1010586978.py\"\u001b[1;36m, line \u001b[1;32m3\u001b[1;36m, in \u001b[1;35m<module>\u001b[1;36m\u001b[0m\n\u001b[1;33m    exec(f'{x}_d17O = x*2')\u001b[0m\n",
      "\u001b[1;36m  File \u001b[1;32m\"<string>\"\u001b[1;36m, line \u001b[1;32m1\u001b[0m\n\u001b[1;33m    5_d17O = x*2\u001b[0m\n\u001b[1;37m     ^\u001b[0m\n\u001b[1;31mSyntaxError\u001b[0m\u001b[1;31m:\u001b[0m invalid decimal literal\n"
     ]
    }
   ],
   "source": [
    "List=('5', '6', '7', '8')\n",
    "for x in List:\n",
    "    exec(f'{x}_d17O = x*2')"
   ]
  },
  {
   "cell_type": "code",
   "execution_count": 28,
   "id": "e7579275",
   "metadata": {},
   "outputs": [
    {
     "ename": "SyntaxError",
     "evalue": "invalid decimal literal (442756151.py, line 1)",
     "output_type": "error",
     "traceback": [
      "\u001b[1;36m  File \u001b[1;32m\"C:\\Users\\zacha\\AppData\\Local\\Temp\\ipykernel_2112\\442756151.py\"\u001b[1;36m, line \u001b[1;32m1\u001b[0m\n\u001b[1;33m    print(5_d17O)\u001b[0m\n\u001b[1;37m           ^\u001b[0m\n\u001b[1;31mSyntaxError\u001b[0m\u001b[1;31m:\u001b[0m invalid decimal literal\n"
     ]
    }
   ],
   "source": [
    "print(5_d17O)"
   ]
  },
  {
   "cell_type": "code",
   "execution_count": 31,
   "id": "6bcfb44f",
   "metadata": {},
   "outputs": [],
   "source": [
    "import sys\n",
    "this = sys.modules[__name__] # this is now your current namespace\n",
    "for x in range(9):\n",
    "    exec(\"string\" + str(x) + \" = 'hello'\")"
   ]
  },
  {
   "cell_type": "code",
   "execution_count": 32,
   "id": "673f0719",
   "metadata": {},
   "outputs": [
    {
     "data": {
      "text/plain": [
       "'hello'"
      ]
     },
     "execution_count": 32,
     "metadata": {},
     "output_type": "execute_result"
    }
   ],
   "source": [
    "string5"
   ]
  },
  {
   "cell_type": "code",
   "execution_count": null,
   "id": "043ead2b",
   "metadata": {},
   "outputs": [],
   "source": []
  }
 ],
 "metadata": {
  "kernelspec": {
   "display_name": "Python 3 (ipykernel)",
   "language": "python",
   "name": "python3"
  },
  "language_info": {
   "codemirror_mode": {
    "name": "ipython",
    "version": 3
   },
   "file_extension": ".py",
   "mimetype": "text/x-python",
   "name": "python",
   "nbconvert_exporter": "python",
   "pygments_lexer": "ipython3",
   "version": "3.9.13"
  }
 },
 "nbformat": 4,
 "nbformat_minor": 5
}
