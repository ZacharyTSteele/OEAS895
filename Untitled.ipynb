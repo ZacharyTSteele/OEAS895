{
 "cells": [
  {
   "cell_type": "code",
   "execution_count": 3,
   "id": "e424092b",
   "metadata": {},
   "outputs": [],
   "source": [
    "# load in packages \n",
    "import pandas as pd #pandas is a package for data analysis and manipulation\n",
    "import seaborn as sn #seaborn is a data visualization package"
   ]
  },
  {
   "cell_type": "code",
   "execution_count": 5,
   "id": "0f5cb81e",
   "metadata": {},
   "outputs": [
    {
     "name": "stderr",
     "output_type": "stream",
     "text": [
      "C:\\Users\\zacha\\AppData\\Local\\Temp\\ipykernel_6208\\2091459776.py:3: DtypeWarning: Columns (2) have mixed types. Specify dtype option on import or set low_memory=False.\n",
      "  data= pd.read_csv(infile, sep=',')\n"
     ]
    }
   ],
   "source": [
    "# load in the data using pandas\n",
    "infile = '../OEAS895/city_temperature.csv'\n",
    "data= pd.read_csv(infile, sep=',')"
   ]
  },
  {
   "cell_type": "code",
   "execution_count": 7,
   "id": "1749f3ce",
   "metadata": {
    "scrolled": true
   },
   "outputs": [
    {
     "data": {
      "text/html": [
       "<div>\n",
       "<style scoped>\n",
       "    .dataframe tbody tr th:only-of-type {\n",
       "        vertical-align: middle;\n",
       "    }\n",
       "\n",
       "    .dataframe tbody tr th {\n",
       "        vertical-align: top;\n",
       "    }\n",
       "\n",
       "    .dataframe thead th {\n",
       "        text-align: right;\n",
       "    }\n",
       "</style>\n",
       "<table border=\"1\" class=\"dataframe\">\n",
       "  <thead>\n",
       "    <tr style=\"text-align: right;\">\n",
       "      <th></th>\n",
       "      <th>Region</th>\n",
       "      <th>Country</th>\n",
       "      <th>State</th>\n",
       "      <th>City</th>\n",
       "      <th>Month</th>\n",
       "      <th>Day</th>\n",
       "      <th>Year</th>\n",
       "      <th>AvgTemperature</th>\n",
       "    </tr>\n",
       "  </thead>\n",
       "  <tbody>\n",
       "    <tr>\n",
       "      <th>0</th>\n",
       "      <td>Africa</td>\n",
       "      <td>Algeria</td>\n",
       "      <td>NaN</td>\n",
       "      <td>Algiers</td>\n",
       "      <td>1</td>\n",
       "      <td>1</td>\n",
       "      <td>1995</td>\n",
       "      <td>64.2</td>\n",
       "    </tr>\n",
       "    <tr>\n",
       "      <th>1</th>\n",
       "      <td>Africa</td>\n",
       "      <td>Algeria</td>\n",
       "      <td>NaN</td>\n",
       "      <td>Algiers</td>\n",
       "      <td>1</td>\n",
       "      <td>2</td>\n",
       "      <td>1995</td>\n",
       "      <td>49.4</td>\n",
       "    </tr>\n",
       "    <tr>\n",
       "      <th>2</th>\n",
       "      <td>Africa</td>\n",
       "      <td>Algeria</td>\n",
       "      <td>NaN</td>\n",
       "      <td>Algiers</td>\n",
       "      <td>1</td>\n",
       "      <td>3</td>\n",
       "      <td>1995</td>\n",
       "      <td>48.8</td>\n",
       "    </tr>\n",
       "    <tr>\n",
       "      <th>3</th>\n",
       "      <td>Africa</td>\n",
       "      <td>Algeria</td>\n",
       "      <td>NaN</td>\n",
       "      <td>Algiers</td>\n",
       "      <td>1</td>\n",
       "      <td>4</td>\n",
       "      <td>1995</td>\n",
       "      <td>46.4</td>\n",
       "    </tr>\n",
       "    <tr>\n",
       "      <th>4</th>\n",
       "      <td>Africa</td>\n",
       "      <td>Algeria</td>\n",
       "      <td>NaN</td>\n",
       "      <td>Algiers</td>\n",
       "      <td>1</td>\n",
       "      <td>5</td>\n",
       "      <td>1995</td>\n",
       "      <td>47.9</td>\n",
       "    </tr>\n",
       "    <tr>\n",
       "      <th>...</th>\n",
       "      <td>...</td>\n",
       "      <td>...</td>\n",
       "      <td>...</td>\n",
       "      <td>...</td>\n",
       "      <td>...</td>\n",
       "      <td>...</td>\n",
       "      <td>...</td>\n",
       "      <td>...</td>\n",
       "    </tr>\n",
       "    <tr>\n",
       "      <th>2906322</th>\n",
       "      <td>North America</td>\n",
       "      <td>US</td>\n",
       "      <td>Additional Territories</td>\n",
       "      <td>San Juan Puerto Rico</td>\n",
       "      <td>7</td>\n",
       "      <td>27</td>\n",
       "      <td>2013</td>\n",
       "      <td>82.4</td>\n",
       "    </tr>\n",
       "    <tr>\n",
       "      <th>2906323</th>\n",
       "      <td>North America</td>\n",
       "      <td>US</td>\n",
       "      <td>Additional Territories</td>\n",
       "      <td>San Juan Puerto Rico</td>\n",
       "      <td>7</td>\n",
       "      <td>28</td>\n",
       "      <td>2013</td>\n",
       "      <td>81.6</td>\n",
       "    </tr>\n",
       "    <tr>\n",
       "      <th>2906324</th>\n",
       "      <td>North America</td>\n",
       "      <td>US</td>\n",
       "      <td>Additional Territories</td>\n",
       "      <td>San Juan Puerto Rico</td>\n",
       "      <td>7</td>\n",
       "      <td>29</td>\n",
       "      <td>2013</td>\n",
       "      <td>84.2</td>\n",
       "    </tr>\n",
       "    <tr>\n",
       "      <th>2906325</th>\n",
       "      <td>North America</td>\n",
       "      <td>US</td>\n",
       "      <td>Additional Territories</td>\n",
       "      <td>San Juan Puerto Rico</td>\n",
       "      <td>7</td>\n",
       "      <td>30</td>\n",
       "      <td>2013</td>\n",
       "      <td>83.8</td>\n",
       "    </tr>\n",
       "    <tr>\n",
       "      <th>2906326</th>\n",
       "      <td>North America</td>\n",
       "      <td>US</td>\n",
       "      <td>Additional Territories</td>\n",
       "      <td>San Juan Puerto Rico</td>\n",
       "      <td>7</td>\n",
       "      <td>31</td>\n",
       "      <td>2013</td>\n",
       "      <td>83.6</td>\n",
       "    </tr>\n",
       "  </tbody>\n",
       "</table>\n",
       "<p>2906327 rows × 8 columns</p>\n",
       "</div>"
      ],
      "text/plain": [
       "                Region  Country                   State                  City  \\\n",
       "0               Africa  Algeria                     NaN               Algiers   \n",
       "1               Africa  Algeria                     NaN               Algiers   \n",
       "2               Africa  Algeria                     NaN               Algiers   \n",
       "3               Africa  Algeria                     NaN               Algiers   \n",
       "4               Africa  Algeria                     NaN               Algiers   \n",
       "...                ...      ...                     ...                   ...   \n",
       "2906322  North America       US  Additional Territories  San Juan Puerto Rico   \n",
       "2906323  North America       US  Additional Territories  San Juan Puerto Rico   \n",
       "2906324  North America       US  Additional Territories  San Juan Puerto Rico   \n",
       "2906325  North America       US  Additional Territories  San Juan Puerto Rico   \n",
       "2906326  North America       US  Additional Territories  San Juan Puerto Rico   \n",
       "\n",
       "         Month  Day  Year  AvgTemperature  \n",
       "0            1    1  1995            64.2  \n",
       "1            1    2  1995            49.4  \n",
       "2            1    3  1995            48.8  \n",
       "3            1    4  1995            46.4  \n",
       "4            1    5  1995            47.9  \n",
       "...        ...  ...   ...             ...  \n",
       "2906322      7   27  2013            82.4  \n",
       "2906323      7   28  2013            81.6  \n",
       "2906324      7   29  2013            84.2  \n",
       "2906325      7   30  2013            83.8  \n",
       "2906326      7   31  2013            83.6  \n",
       "\n",
       "[2906327 rows x 8 columns]"
      ]
     },
     "execution_count": 7,
     "metadata": {},
     "output_type": "execute_result"
    }
   ],
   "source": [
    "data"
   ]
  },
  {
   "cell_type": "code",
   "execution_count": 8,
   "id": "17c78d13",
   "metadata": {},
   "outputs": [
    {
     "name": "stdout",
     "output_type": "stream",
     "text": [
      "<class 'pandas.core.frame.DataFrame'>\n",
      "RangeIndex: 2906327 entries, 0 to 2906326\n",
      "Data columns (total 8 columns):\n",
      " #   Column          Dtype  \n",
      "---  ------          -----  \n",
      " 0   Region          object \n",
      " 1   Country         object \n",
      " 2   State           object \n",
      " 3   City            object \n",
      " 4   Month           int64  \n",
      " 5   Day             int64  \n",
      " 6   Year            int64  \n",
      " 7   AvgTemperature  float64\n",
      "dtypes: float64(1), int64(3), object(4)\n",
      "memory usage: 177.4+ MB\n"
     ]
    }
   ],
   "source": [
    "# useful functions for exploring data\n",
    "data.info()"
   ]
  },
  {
   "cell_type": "code",
   "execution_count": 19,
   "id": "2f197869",
   "metadata": {},
   "outputs": [
    {
     "data": {
      "text/plain": [
       "(2906327, 8)"
      ]
     },
     "execution_count": 19,
     "metadata": {},
     "output_type": "execute_result"
    }
   ],
   "source": [
    "data.shape"
   ]
  },
  {
   "cell_type": "code",
   "execution_count": 20,
   "id": "90c574b6",
   "metadata": {},
   "outputs": [
    {
     "data": {
      "text/plain": [
       "23250616"
      ]
     },
     "execution_count": 20,
     "metadata": {},
     "output_type": "execute_result"
    }
   ],
   "source": [
    "data.size"
   ]
  },
  {
   "cell_type": "code",
   "execution_count": 21,
   "id": "ad4538aa",
   "metadata": {},
   "outputs": [
    {
     "data": {
      "text/plain": [
       "Index(['Region', 'Country', 'State', 'City', 'Month', 'Day', 'Year',\n",
       "       'AvgTemperature'],\n",
       "      dtype='object')"
      ]
     },
     "execution_count": 21,
     "metadata": {},
     "output_type": "execute_result"
    }
   ],
   "source": [
    "data.columns"
   ]
  },
  {
   "cell_type": "code",
   "execution_count": 23,
   "id": "da56367e",
   "metadata": {},
   "outputs": [
    {
     "data": {
      "text/html": [
       "<div>\n",
       "<style scoped>\n",
       "    .dataframe tbody tr th:only-of-type {\n",
       "        vertical-align: middle;\n",
       "    }\n",
       "\n",
       "    .dataframe tbody tr th {\n",
       "        vertical-align: top;\n",
       "    }\n",
       "\n",
       "    .dataframe thead th {\n",
       "        text-align: right;\n",
       "    }\n",
       "</style>\n",
       "<table border=\"1\" class=\"dataframe\">\n",
       "  <thead>\n",
       "    <tr style=\"text-align: right;\">\n",
       "      <th></th>\n",
       "      <th>Month</th>\n",
       "      <th>Day</th>\n",
       "      <th>Year</th>\n",
       "      <th>AvgTemperature</th>\n",
       "    </tr>\n",
       "  </thead>\n",
       "  <tbody>\n",
       "    <tr>\n",
       "      <th>count</th>\n",
       "      <td>2.906327e+06</td>\n",
       "      <td>2.906327e+06</td>\n",
       "      <td>2.906327e+06</td>\n",
       "      <td>2.906327e+06</td>\n",
       "    </tr>\n",
       "    <tr>\n",
       "      <th>mean</th>\n",
       "      <td>6.469163e+00</td>\n",
       "      <td>1.571682e+01</td>\n",
       "      <td>2.006624e+03</td>\n",
       "      <td>5.600492e+01</td>\n",
       "    </tr>\n",
       "    <tr>\n",
       "      <th>std</th>\n",
       "      <td>3.456489e+00</td>\n",
       "      <td>8.800534e+00</td>\n",
       "      <td>2.338226e+01</td>\n",
       "      <td>3.212359e+01</td>\n",
       "    </tr>\n",
       "    <tr>\n",
       "      <th>min</th>\n",
       "      <td>1.000000e+00</td>\n",
       "      <td>0.000000e+00</td>\n",
       "      <td>2.000000e+02</td>\n",
       "      <td>-9.900000e+01</td>\n",
       "    </tr>\n",
       "    <tr>\n",
       "      <th>25%</th>\n",
       "      <td>3.000000e+00</td>\n",
       "      <td>8.000000e+00</td>\n",
       "      <td>2.001000e+03</td>\n",
       "      <td>4.580000e+01</td>\n",
       "    </tr>\n",
       "    <tr>\n",
       "      <th>50%</th>\n",
       "      <td>6.000000e+00</td>\n",
       "      <td>1.600000e+01</td>\n",
       "      <td>2.007000e+03</td>\n",
       "      <td>6.250000e+01</td>\n",
       "    </tr>\n",
       "    <tr>\n",
       "      <th>75%</th>\n",
       "      <td>9.000000e+00</td>\n",
       "      <td>2.300000e+01</td>\n",
       "      <td>2.013000e+03</td>\n",
       "      <td>7.550000e+01</td>\n",
       "    </tr>\n",
       "    <tr>\n",
       "      <th>max</th>\n",
       "      <td>1.200000e+01</td>\n",
       "      <td>3.100000e+01</td>\n",
       "      <td>2.020000e+03</td>\n",
       "      <td>1.100000e+02</td>\n",
       "    </tr>\n",
       "  </tbody>\n",
       "</table>\n",
       "</div>"
      ],
      "text/plain": [
       "              Month           Day          Year  AvgTemperature\n",
       "count  2.906327e+06  2.906327e+06  2.906327e+06    2.906327e+06\n",
       "mean   6.469163e+00  1.571682e+01  2.006624e+03    5.600492e+01\n",
       "std    3.456489e+00  8.800534e+00  2.338226e+01    3.212359e+01\n",
       "min    1.000000e+00  0.000000e+00  2.000000e+02   -9.900000e+01\n",
       "25%    3.000000e+00  8.000000e+00  2.001000e+03    4.580000e+01\n",
       "50%    6.000000e+00  1.600000e+01  2.007000e+03    6.250000e+01\n",
       "75%    9.000000e+00  2.300000e+01  2.013000e+03    7.550000e+01\n",
       "max    1.200000e+01  3.100000e+01  2.020000e+03    1.100000e+02"
      ]
     },
     "execution_count": 23,
     "metadata": {},
     "output_type": "execute_result"
    }
   ],
   "source": [
    "#descriptive statistics\n",
    "\n",
    "data.describe()"
   ]
  },
  {
   "cell_type": "code",
   "execution_count": 24,
   "id": "44ff1735",
   "metadata": {
    "scrolled": true
   },
   "outputs": [
    {
     "data": {
      "text/html": [
       "<div>\n",
       "<style scoped>\n",
       "    .dataframe tbody tr th:only-of-type {\n",
       "        vertical-align: middle;\n",
       "    }\n",
       "\n",
       "    .dataframe tbody tr th {\n",
       "        vertical-align: top;\n",
       "    }\n",
       "\n",
       "    .dataframe thead th {\n",
       "        text-align: right;\n",
       "    }\n",
       "</style>\n",
       "<table border=\"1\" class=\"dataframe\">\n",
       "  <thead>\n",
       "    <tr style=\"text-align: right;\">\n",
       "      <th></th>\n",
       "      <th>Month</th>\n",
       "      <th>Day</th>\n",
       "      <th>Year</th>\n",
       "      <th>AvgTemperature</th>\n",
       "    </tr>\n",
       "  </thead>\n",
       "  <tbody>\n",
       "    <tr>\n",
       "      <th>Month</th>\n",
       "      <td>1.000000</td>\n",
       "      <td>0.011209</td>\n",
       "      <td>-0.026898</td>\n",
       "      <td>0.075037</td>\n",
       "    </tr>\n",
       "    <tr>\n",
       "      <th>Day</th>\n",
       "      <td>0.011209</td>\n",
       "      <td>1.000000</td>\n",
       "      <td>-0.002213</td>\n",
       "      <td>0.000100</td>\n",
       "    </tr>\n",
       "    <tr>\n",
       "      <th>Year</th>\n",
       "      <td>-0.026898</td>\n",
       "      <td>-0.002213</td>\n",
       "      <td>1.000000</td>\n",
       "      <td>0.087245</td>\n",
       "    </tr>\n",
       "    <tr>\n",
       "      <th>AvgTemperature</th>\n",
       "      <td>0.075037</td>\n",
       "      <td>0.000100</td>\n",
       "      <td>0.087245</td>\n",
       "      <td>1.000000</td>\n",
       "    </tr>\n",
       "  </tbody>\n",
       "</table>\n",
       "</div>"
      ],
      "text/plain": [
       "                   Month       Day      Year  AvgTemperature\n",
       "Month           1.000000  0.011209 -0.026898        0.075037\n",
       "Day             0.011209  1.000000 -0.002213        0.000100\n",
       "Year           -0.026898 -0.002213  1.000000        0.087245\n",
       "AvgTemperature  0.075037  0.000100  0.087245        1.000000"
      ]
     },
     "execution_count": 24,
     "metadata": {},
     "output_type": "execute_result"
    }
   ],
   "source": [
    "data.corr()"
   ]
  },
  {
   "cell_type": "code",
   "execution_count": 33,
   "id": "d79a85af",
   "metadata": {},
   "outputs": [
    {
     "data": {
      "text/plain": [
       "array(['Algiers', 'Bujumbura', 'Cotonou', 'Bangui', 'Brazzaville',\n",
       "       'Cairo', 'Addis Ababa', 'Libreville', 'Banjul', 'Conakry',\n",
       "       'Bissau', 'Abidjan', 'Nairobi', 'Rabat', 'Antananarivo',\n",
       "       'Nouakchott', 'Lilongwe', 'Maputo', 'Windhoek', 'Niamey', 'Lagos',\n",
       "       'Dakar', 'Freetown', 'Capetown', 'Lome', 'Tunis', 'Dar Es Salaam',\n",
       "       'Kampala', 'Lusaka', 'Dhaka', 'Beijing', 'Chengdu', 'Guangzhou',\n",
       "       'Shanghai', 'Shenyang', 'Hong Kong', 'Bombay (Mumbai)', 'Calcutta',\n",
       "       'Chennai (Madras)', 'Delhi', 'Jakarta', 'Osaka', 'Sapporo',\n",
       "       'Tokyo', 'Almaty', 'Bishkek', 'Vientiane', 'Kuala Lumpur',\n",
       "       'Ulan-bator', 'Rangoon', 'Katmandu', 'Pyongyang', 'Islamabad',\n",
       "       'Karachi', 'Manila', 'Singapore', 'Seoul', 'Colombo', 'Taipei',\n",
       "       'Dusanbe', 'Bangkok', 'Ashabad', 'Tashkent', 'Hanoi', 'Brisbane',\n",
       "       'Canberra', 'Melbourne', 'Perth', 'Sydney', 'Auckland', 'Tirana',\n",
       "       'Vienna', 'Minsk', 'Brussels', 'Sofia', 'Zagreb', 'Nicosia',\n",
       "       'Prague', 'Copenhagen', 'Helsinki', 'Paris', 'Bordeaux', 'Bonn',\n",
       "       'Frankfurt', 'Hamburg', 'Munich', 'Tbilisi', 'Athens', 'Budapest',\n",
       "       'Reykjavik', 'Dublin', 'Milan', 'Rome', 'Riga', 'Skopje',\n",
       "       'Amsterdam', 'Oslo', 'Warsaw', 'Lisbon', 'Bucharest', 'Moscow',\n",
       "       'Yerevan', 'Pristina', 'Bratislava', 'Barcelona', 'Bilbao',\n",
       "       'Madrid', 'Stockholm', 'Bern', 'Geneva', 'Zurich', 'Kiev',\n",
       "       'Belfast', 'London', 'Belgrade', 'Manama', 'Tel Aviv', 'Amman',\n",
       "       'Kuwait', 'Beirut', 'Muscat', 'Doha', 'Dhahran', 'Riyadh',\n",
       "       'Damascus', 'Ankara', 'Istanbul', 'Abu Dhabi', 'Dubai', 'Calgary',\n",
       "       'Edmonton', 'Halifax', 'Montreal', 'Ottawa', 'Quebec', 'Regina',\n",
       "       'Toronto', 'Vancouver', 'Winnipeg', 'Guadalajara', 'Mexico City',\n",
       "       'Monterrey', 'Buenos Aires', 'Nassau', 'Hamilton', 'Belize City',\n",
       "       'La Paz', 'Bridgetown', 'Brasilia', 'Rio de Janeiro', 'Sao Paulo',\n",
       "       'Bogota', 'San Jose', 'Havana', 'Santo Domingo', 'Guayaquil',\n",
       "       'Quito', 'Guatemala City', 'Georgetown', 'Port au Prince',\n",
       "       'Tegucigalpa', 'Managua', 'Panama City', 'Lima', 'Paramaribo',\n",
       "       'Montvideo', 'Caracas', 'Birmingham', 'Huntsville', 'Mobile',\n",
       "       'Montgomery', 'Anchorage', 'Fairbanks', 'Juneau', 'Flagstaff',\n",
       "       'Phoenix', 'Tucson', 'Yuma', 'Fort Smith', 'Little Rock', 'Fresno',\n",
       "       'Los Angeles', 'Sacramento', 'San Diego', 'San Francisco',\n",
       "       'Colorado Springs', 'Denver', 'Grand Junction', 'Pueblo',\n",
       "       'Bridgeport', 'Hartford Springfield', 'Wilmington', 'Washington',\n",
       "       'Washington DC', 'Daytona Beach', 'Jacksonville', 'Miami Beach',\n",
       "       'Orlando', 'Tallahassee', 'Tampa St. Petersburg',\n",
       "       'West Palm Beach', 'Atlanta', 'Columbus', 'Macon', 'Savannah',\n",
       "       'Honolulu', 'Boise', 'Pocatello', 'Chicago', 'Peoria', 'Rockford',\n",
       "       'Springfield', 'Evansville', 'Fort Wayne', 'Indianapolis',\n",
       "       'South Bend', 'Des Moines', 'Sioux City', 'Goodland', 'Topeka',\n",
       "       'Wichita', 'Lexington', 'Louisville', 'Paducah', 'Baton Rouge',\n",
       "       'Lake Charles', 'New Orleans', 'Shreveport', 'Caribou', 'Portland',\n",
       "       'Baltimore', 'Boston', 'Detroit', 'Flint', 'Grand Rapids',\n",
       "       'Lansing', 'Sault Ste Marie', 'Duluth', 'Minneapolis St. Paul',\n",
       "       'Jackson', 'Tupelo', 'Kansas City', 'St Louis', 'Billings',\n",
       "       'Great Falls', 'Helena', 'Lincoln', 'North Platte', 'Omaha',\n",
       "       'Reno', 'Las Vegas', 'Concord', 'Atlantic City', 'Newark',\n",
       "       'Albuquerque', 'Albany', 'Buffalo', 'New York City', 'Rochester',\n",
       "       'Syracuse', 'Asheville', 'Charlotte', 'Greensboro',\n",
       "       'Raleigh Durham', 'Bismarck', 'Fargo', 'Akron Canton',\n",
       "       'Cincinnati', 'Cleveland', 'Dayton', 'Toledo', 'Youngstown',\n",
       "       'Oklahoma City', 'Tulsa', 'Eugene', 'Medford', 'Salem',\n",
       "       'Allentown', 'Erie', 'Harrisburg', 'Philadelphia', 'Pittsburgh',\n",
       "       'Wilkes Barre', 'Rhode Island', 'Charleston', 'Columbia',\n",
       "       'Rapid City', 'Sioux Falls', 'Chattanooga', 'Knoxville', 'Memphis',\n",
       "       'Nashville', 'Abilene', 'Amarillo', 'Austin', 'Brownsville',\n",
       "       'Corpus Christi', 'Dallas Ft Worth', 'El Paso', 'Houston',\n",
       "       'Lubbock', 'Midland Odessa', 'San Angelo', 'San Antonio', 'Waco',\n",
       "       'Wichita Falls', 'Salt Lake City', 'Burlington', 'Norfolk',\n",
       "       'Richmond', 'Roanoke', 'Seattle', 'Spokane', 'Yakima', 'Elkins',\n",
       "       'Green Bay', 'Madison', 'Milwaukee', 'Casper', 'Cheyenne',\n",
       "       'San Juan Puerto Rico'], dtype=object)"
      ]
     },
     "execution_count": 33,
     "metadata": {},
     "output_type": "execute_result"
    }
   ],
   "source": [
    "cities = data.City.unique()\n",
    "cities"
   ]
  },
  {
   "cell_type": "code",
   "execution_count": 6,
   "id": "37b975e8",
   "metadata": {},
   "outputs": [
    {
     "ename": "SyntaxError",
     "evalue": "invalid syntax (665020123.py, line 3)",
     "output_type": "error",
     "traceback": [
      "\u001b[1;36m  File \u001b[1;32m\"C:\\Users\\zacha\\AppData\\Local\\Temp\\ipykernel_6208\\665020123.py\"\u001b[1;36m, line \u001b[1;32m3\u001b[0m\n\u001b[1;33m    data['AvgTemperatureC'] = (data.AvgTemperature = 32) *5/9\u001b[0m\n\u001b[1;37m                                                   ^\u001b[0m\n\u001b[1;31mSyntaxError\u001b[0m\u001b[1;31m:\u001b[0m invalid syntax\n"
     ]
    }
   ],
   "source": [
    "#Conver from F to C\n",
    "data['AvgTemperatureC'] = (data.AvgTemperature = 32) *5/9"
   ]
  }
 ],
 "metadata": {
  "kernelspec": {
   "display_name": "Python 3 (ipykernel)",
   "language": "python",
   "name": "python3"
  },
  "language_info": {
   "codemirror_mode": {
    "name": "ipython",
    "version": 3
   },
   "file_extension": ".py",
   "mimetype": "text/x-python",
   "name": "python",
   "nbconvert_exporter": "python",
   "pygments_lexer": "ipython3",
   "version": "3.9.13"
  }
 },
 "nbformat": 4,
 "nbformat_minor": 5
}
