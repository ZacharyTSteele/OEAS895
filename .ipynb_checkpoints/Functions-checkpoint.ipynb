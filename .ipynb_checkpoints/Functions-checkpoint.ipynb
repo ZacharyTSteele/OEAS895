{
 "cells": [
  {
   "cell_type": "code",
   "execution_count": 1,
   "id": "ca4aefbe",
   "metadata": {},
   "outputs": [
    {
     "name": "stdout",
     "output_type": "stream",
     "text": [
      "Hello my name is Delilah\n"
     ]
    }
   ],
   "source": [
    "import func\n",
    "\n",
    "func.hello('Delilah')"
   ]
  },
  {
   "cell_type": "code",
   "execution_count": 2,
   "id": "6e696cb1",
   "metadata": {},
   "outputs": [
    {
     "data": {
      "text/plain": [
       "27"
      ]
     },
     "execution_count": 2,
     "metadata": {},
     "output_type": "execute_result"
    }
   ],
   "source": [
    "func.multi(3,9)"
   ]
  },
  {
   "cell_type": "code",
   "execution_count": 5,
   "id": "fc1ca84b",
   "metadata": {},
   "outputs": [],
   "source": [
    "z,b = func.multi_div(10,5)"
   ]
  },
  {
   "cell_type": "code",
   "execution_count": 6,
   "id": "6aa8bfdf",
   "metadata": {},
   "outputs": [
    {
     "name": "stdout",
     "output_type": "stream",
     "text": [
      "50 2.0\n"
     ]
    }
   ],
   "source": [
    "print(z,b)"
   ]
  },
  {
   "cell_type": "code",
   "execution_count": null,
   "id": "cca7b739",
   "metadata": {},
   "outputs": [],
   "source": []
  }
 ],
 "metadata": {
  "kernelspec": {
   "display_name": "Python 3 (ipykernel)",
   "language": "python",
   "name": "python3"
  },
  "language_info": {
   "codemirror_mode": {
    "name": "ipython",
    "version": 3
   },
   "file_extension": ".py",
   "mimetype": "text/x-python",
   "name": "python",
   "nbconvert_exporter": "python",
   "pygments_lexer": "ipython3",
   "version": "3.9.13"
  }
 },
 "nbformat": 4,
 "nbformat_minor": 5
}
