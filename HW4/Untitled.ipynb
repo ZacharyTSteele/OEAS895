{
 "cells": [
  {
   "cell_type": "markdown",
   "id": "0741ac6d",
   "metadata": {},
   "source": [
    "Homework 4: Part 1"
   ]
  },
  {
   "cell_type": "code",
   "execution_count": 1,
   "id": "e570717d",
   "metadata": {},
   "outputs": [],
   "source": [
    "%matplotlib inline\n",
    "\n",
    "import numpy as np #import numpy package as np\n",
    "from sklearn.datasets import load_wine #import wine dataset from sci-kit learn \n",
    "\n",
    "import matplotlib.pyplot as plt #import pyplot as plt"
   ]
  },
  {
   "cell_type": "code",
   "execution_count": 2,
   "id": "a49d1b77",
   "metadata": {},
   "outputs": [
    {
     "name": "stdout",
     "output_type": "stream",
     "text": [
      "[0 0 0 0 0 0 0 0 0 0 0 0 0 0 0 0 0 0 0 0 0 0 0 0 0 0 0 0 0 0 0 0 0 0 0 0 0\n",
      " 0 0 0 0 0 0 0 0 0 0 0 0 0 0 0 0 0 0 0 0 0 0 1 1 1 1 1 1 1 1 1 1 1 1 1 1 1\n",
      " 1 1 1 1 1 1 1 1 1 1 1 1 1 1 1 1 1 1 1 1 1 1 1 1 1 1 1 1 1 1 1 1 1 1 1 1 1\n",
      " 1 1 1 1 1 1 1 1 1 1 1 1 1 1 1 1 1 1 1 2 2 2 2 2 2 2 2 2 2 2 2 2 2 2 2 2 2\n",
      " 2 2 2 2 2 2 2 2 2 2 2 2 2 2 2 2 2 2 2 2 2 2 2 2 2 2 2 2 2 2]\n"
     ]
    }
   ],
   "source": [
    "wine = load_wine()\n",
    "# data, target_names, target, feature_names\n",
    "print(wine.target)"
   ]
  },
  {
   "cell_type": "code",
   "execution_count": 9,
   "id": "cd6c1f11",
   "metadata": {},
   "outputs": [
    {
     "data": {
      "text/plain": [
       "['alcohol',\n",
       " 'malic_acid',\n",
       " 'ash',\n",
       " 'alcalinity_of_ash',\n",
       " 'magnesium',\n",
       " 'total_phenols',\n",
       " 'flavanoids',\n",
       " 'nonflavanoid_phenols',\n",
       " 'proanthocyanins',\n",
       " 'color_intensity',\n",
       " 'hue',\n",
       " 'od280/od315_of_diluted_wines',\n",
       " 'proline']"
      ]
     },
     "execution_count": 9,
     "metadata": {},
     "output_type": "execute_result"
    }
   ],
   "source": [
    "wine.feature_names"
   ]
  },
  {
   "cell_type": "code",
   "execution_count": 10,
   "id": "f78106a1",
   "metadata": {},
   "outputs": [
    {
     "data": {
      "text/plain": [
       "array(['class_0', 'class_1', 'class_2'], dtype='<U7')"
      ]
     },
     "execution_count": 10,
     "metadata": {},
     "output_type": "execute_result"
    }
   ],
   "source": [
    "wine.target_names"
   ]
  },
  {
   "cell_type": "code",
   "execution_count": 3,
   "id": "8a6548d2",
   "metadata": {},
   "outputs": [
    {
     "name": "stdout",
     "output_type": "stream",
     "text": [
      "(178, 13)\n",
      "(178,)\n"
     ]
    }
   ],
   "source": [
    "# Feature matrix in a object named X\n",
    "X = wine.data\n",
    "# response vector in a object named y\n",
    "y = wine.target\n",
    "\n",
    "print(np.shape(X))\n",
    "print(np.shape(y))"
   ]
  },
  {
   "cell_type": "code",
   "execution_count": 4,
   "id": "0bd47656",
   "metadata": {},
   "outputs": [],
   "source": [
    "# Split iris data in train and test data (60:40)\n",
    "\n",
    "from sklearn.model_selection import train_test_split\n",
    "\n",
    "X_train,X_test,y_train,y_test = train_test_split(X,y,test_size=0.4,random_state=7)"
   ]
  },
  {
   "cell_type": "code",
   "execution_count": 5,
   "id": "0437c7de",
   "metadata": {},
   "outputs": [],
   "source": [
    "# scale the training data\n",
    "\n",
    "from sklearn.preprocessing import StandardScaler\n",
    "scaler = StandardScaler()\n",
    "scaler.fit(X_train)\n",
    "\n",
    "X_train = scaler.transform(X_train)\n",
    "X_test = scaler.transform(X_test)"
   ]
  },
  {
   "cell_type": "code",
   "execution_count": 19,
   "id": "57cf0964",
   "metadata": {},
   "outputs": [
    {
     "data": {
      "text/plain": [
       "MLPClassifier(hidden_layer_sizes=(10, 10, 10), max_iter=1000, random_state=9)"
      ]
     },
     "execution_count": 19,
     "metadata": {},
     "output_type": "execute_result"
    }
   ],
   "source": [
    "# now build the neural network using MLPClassifier\n",
    "# MLPClassifier stands for Multi-layer Perceptron classifier\n",
    "\n",
    "# https://analyticsindiamag.com/a-beginners-guide-to-scikit-learns-mlpclassifier/\n",
    "\n",
    "from sklearn.neural_network import MLPClassifier\n",
    "\n",
    "# the following code will create a classifier with three layers of 10 nodes each\n",
    "# max_iter refers to the number of epochs, one epoch is a combination of one cycle of \n",
    "# feed-forward and back propagation phase.\n",
    "mlp = MLPClassifier(hidden_layer_sizes=(10, 10, 10), max_iter=1000, random_state=9)\n",
    "\n",
    "# now fit the classifer to the training data\n",
    "mlp.fit(X_train, y_train)"
   ]
  },
  {
   "cell_type": "code",
   "execution_count": 20,
   "id": "70ebcce8",
   "metadata": {},
   "outputs": [
    {
     "data": {
      "text/plain": [
       "[<matplotlib.lines.Line2D at 0x20674ee2610>]"
      ]
     },
     "execution_count": 20,
     "metadata": {},
     "output_type": "execute_result"
    },
    {
     "data": {
      "image/png": "[encoded data removed]",
      "text/plain": [
       "<Figure size 640x480 with 1 Axes>"
      ]
     },
     "metadata": {},
     "output_type": "display_data"
    }
   ],
   "source": [
    "# try makign some predictions using your classifier\n",
    "predictions = mlp.predict(X_test)\n",
    "\n",
    "plt.plot(y_test, predictions, 'ro')\n",
    "plt.plot([0, 2], [0, 2],'k')"
   ]
  },
  {
   "cell_type": "code",
   "execution_count": 22,
   "id": "2d82d034",
   "metadata": {},
   "outputs": [
    {
     "name": "stdout",
     "output_type": "stream",
     "text": [
      "[[19  0  0]\n",
      " [ 0 31  1]\n",
      " [ 0  1 20]]\n",
      "              precision    recall  f1-score   support\n",
      "\n",
      "           0       1.00      1.00      1.00        19\n",
      "           1       0.97      0.97      0.97        32\n",
      "           2       0.95      0.95      0.95        21\n",
      "\n",
      "    accuracy                           0.97        72\n",
      "   macro avg       0.97      0.97      0.97        72\n",
      "weighted avg       0.97      0.97      0.97        72\n",
      "\n"
     ]
    }
   ],
   "source": [
    "# and now test your predictions\n",
    "\n",
    "from sklearn.metrics import classification_report, confusion_matrix\n",
    "\n",
    "print(confusion_matrix(y_test,predictions))\n",
    "print(classification_report(y_test,predictions))\n",
    "\n",
    "# We will use the confusion matrix to determine the accuracy which is measured as the total \n",
    "# number of correct predictions divided by the total number of predictions."
   ]
  },
  {
   "cell_type": "code",
   "execution_count": null,
   "id": "e99c1894",
   "metadata": {},
   "outputs": [],
   "source": [
    "# now build a loop to test how well different number of hidden layers performs\n",
    "\n",
    "scores = {}\n",
    "scores_list = []\n",
    "a = range(5, 20, 1)\n",
    "b = range(5, 20, 1)\n",
    "c = range(5, 20, 1)\n",
    "d = range(5, 20, 1)\n",
    "e = range(5, 20, 1)\n",
    "\n",
    "from sklearn import metrics\n",
    "\n",
    "for layer_1 in a:\n",
    "    for layer_2 in b:\n",
    "        for layer_3 in c:\n",
    "            for layer_4 in d:\n",
    "                for layer_5 in e:\n",
    "                    mlp = MLPClassifier(hidden_layer_sizes=(layer_1, layer_2, layer_3, layer_4, layer_5), max_iter=1000, random_state=9)\n",
    "                    mlp.fit(X_train, y_train)\n",
    "                    y_pred = mlp.predict(X_test)\n",
    "                    scores[layer_1, layer_2,layer_3,layer_4,layer_5] = metrics.accuracy_score(y_test,y_pred)\n",
    "                    scores_list.append(metrics.accuracy_score(y_test,y_pred))\n",
    "scores"
   ]
  },
  {
   "cell_type": "code",
   "execution_count": 24,
   "id": "cd129e4f",
   "metadata": {},
   "outputs": [
    {
     "name": "stdout",
     "output_type": "stream",
     "text": [
      "5\n",
      "6\n",
      "7\n",
      "8\n",
      "9\n",
      "10\n",
      "11\n",
      "12\n",
      "13\n",
      "14\n",
      "15\n",
      "16\n",
      "17\n",
      "18\n",
      "19\n"
     ]
    }
   ],
   "source": [
    "# now build a loop to test how well different number of hidden layers performs\n",
    "\n",
    "scores = {}\n",
    "scores_list = []\n",
    "l_range = range(5, 20, 1)\n",
    "\n",
    "from sklearn import metrics\n",
    "\n",
    "for l in l_range:\n",
    "    print(l)\n",
    "    mlp = MLPClassifier(hidden_layer_sizes=(l, l, l), max_iter=1000, random_state=9)\n",
    "    mlp.fit(X_train, y_train)\n",
    "    y_pred = mlp.predict(X_test)\n",
    "    scores[l] = metrics.accuracy_score(y_test,y_pred)\n",
    "    scores_list.append(metrics.accuracy_score(y_test,y_pred))"
   ]
  },
  {
   "cell_type": "code",
   "execution_count": 25,
   "id": "05d60d8a",
   "metadata": {},
   "outputs": [
    {
     "data": {
      "text/plain": [
       "Text(0, 0.5, 'accuracy score')"
      ]
     },
     "execution_count": 25,
     "metadata": {},
     "output_type": "execute_result"
    },
    {
     "data": {
      "image/png": "[encoded data removed]",
      "text/plain": [
       "<Figure size 640x480 with 1 Axes>"
      ]
     },
     "metadata": {},
     "output_type": "display_data"
    }
   ],
   "source": [
    "# plot the model accuracy for each value of k\n",
    "\n",
    "plt.plot(l_range,scores_list)\n",
    "plt.xlabel('number of layers')\n",
    "plt.ylabel('accuracy score')"
   ]
  },
  {
   "cell_type": "code",
   "execution_count": 26,
   "id": "e1d57653",
   "metadata": {},
   "outputs": [
    {
     "name": "stdout",
     "output_type": "stream",
     "text": [
      "[[19  0  0]\n",
      " [ 0 32  0]\n",
      " [ 0  1 20]]\n",
      "              precision    recall  f1-score   support\n",
      "\n",
      "           0       1.00      1.00      1.00        19\n",
      "           1       0.97      1.00      0.98        32\n",
      "           2       1.00      0.95      0.98        21\n",
      "\n",
      "    accuracy                           0.99        72\n",
      "   macro avg       0.99      0.98      0.99        72\n",
      "weighted avg       0.99      0.99      0.99        72\n",
      "\n"
     ]
    }
   ],
   "source": [
    "mlp = MLPClassifier(hidden_layer_sizes=(18, 18, 18), max_iter=1000)\n",
    "\n",
    "# now fit the classifer to the training data\n",
    "mlp.fit(X_train, y_train)\n",
    "\n",
    "predictions = mlp.predict(X_test)\n",
    "\n",
    "print(confusion_matrix(y_test,predictions))\n",
    "print(classification_report(y_test,predictions))"
   ]
  },
  {
   "cell_type": "code",
   "execution_count": null,
   "id": "ed4987a1",
   "metadata": {},
   "outputs": [],
   "source": []
  }
 ],
 "metadata": {
  "kernelspec": {
   "display_name": "Python 3 (ipykernel)",
   "language": "python",
   "name": "python3"
  },
  "language_info": {
   "codemirror_mode": {
    "name": "ipython",
    "version": 3
   },
   "file_extension": ".py",
   "mimetype": "text/x-python",
   "name": "python",
   "nbconvert_exporter": "python",
   "pygments_lexer": "ipython3",
   "version": "3.9.13"
  }
 },
 "nbformat": 4,
 "nbformat_minor": 5
}
