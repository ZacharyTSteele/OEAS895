{
 "cells": [
  {
   "cell_type": "markdown",
   "id": "93578eb5",
   "metadata": {},
   "source": [
    "Homework 4: Part 1"
   ]
  },
  {
   "cell_type": "code",
   "execution_count": 2,
   "id": "a8c46a90",
   "metadata": {},
   "outputs": [],
   "source": [
    "%matplotlib inline\n",
    "\n",
    "import numpy as np #import numpy package as np\n",
    "import pandas as pd #import pandas package as pd\n",
    "from sklearn.datasets import load_wine #import wine dataset from sci-kit learn \n",
    "\n",
    "import matplotlib.pyplot as plt #import pyplot as plt"
   ]
  },
  {
   "cell_type": "code",
   "execution_count": 6,
   "id": "405cafcd",
   "metadata": {},
   "outputs": [
    {
     "name": "stdout",
     "output_type": "stream",
     "text": [
      "[0 0 0 0 0 0 0 0 0 0 0 0 0 0 0 0 0 0 0 0 0 0 0 0 0 0 0 0 0 0 0 0 0 0 0 0 0\n",
      " 0 0 0 0 0 0 0 0 0 0 0 0 0 0 0 0 0 0 0 0 0 0 1 1 1 1 1 1 1 1 1 1 1 1 1 1 1\n",
      " 1 1 1 1 1 1 1 1 1 1 1 1 1 1 1 1 1 1 1 1 1 1 1 1 1 1 1 1 1 1 1 1 1 1 1 1 1\n",
      " 1 1 1 1 1 1 1 1 1 1 1 1 1 1 1 1 1 1 1 2 2 2 2 2 2 2 2 2 2 2 2 2 2 2 2 2 2\n",
      " 2 2 2 2 2 2 2 2 2 2 2 2 2 2 2 2 2 2 2 2 2 2 2 2 2 2 2 2 2 2]\n"
     ]
    }
   ],
   "source": [
    "wine = load_wine() # load wine dataset\n",
    "print(wine.target) # view wine target data"
   ]
  },
  {
   "cell_type": "markdown",
   "id": "be186028",
   "metadata": {},
   "source": [
    "Target data includes 0, 1, and 2; so three classes to group by."
   ]
  },
  {
   "cell_type": "code",
   "execution_count": 7,
   "id": "24e085df",
   "metadata": {},
   "outputs": [
    {
     "data": {
      "text/plain": [
       "['alcohol',\n",
       " 'malic_acid',\n",
       " 'ash',\n",
       " 'alcalinity_of_ash',\n",
       " 'magnesium',\n",
       " 'total_phenols',\n",
       " 'flavanoids',\n",
       " 'nonflavanoid_phenols',\n",
       " 'proanthocyanins',\n",
       " 'color_intensity',\n",
       " 'hue',\n",
       " 'od280/od315_of_diluted_wines',\n",
       " 'proline']"
      ]
     },
     "execution_count": 7,
     "metadata": {},
     "output_type": "execute_result"
    }
   ],
   "source": [
    "wine.feature_names # view wine feature names"
   ]
  },
  {
   "cell_type": "markdown",
   "id": "5200e341",
   "metadata": {},
   "source": [
    "Dataset has 13 feature names"
   ]
  },
  {
   "cell_type": "code",
   "execution_count": 8,
   "id": "8636e9f7",
   "metadata": {},
   "outputs": [
    {
     "data": {
      "text/plain": [
       "array(['class_0', 'class_1', 'class_2'], dtype='<U7')"
      ]
     },
     "execution_count": 8,
     "metadata": {},
     "output_type": "execute_result"
    }
   ],
   "source": [
    "wine.target_names #Look at names for targets"
   ]
  },
  {
   "cell_type": "markdown",
   "id": "75f46d7e",
   "metadata": {},
   "source": [
    "Couldn't find actual names online so I'll just stick with Classes for now"
   ]
  },
  {
   "cell_type": "code",
   "execution_count": 9,
   "id": "1edd501f",
   "metadata": {},
   "outputs": [
    {
     "name": "stdout",
     "output_type": "stream",
     "text": [
      "(178, 13)\n",
      "(178,)\n"
     ]
    }
   ],
   "source": [
    "X = wine.data #Set x as wine data\n",
    "y = wine.target #Set y as target \n",
    "\n",
    "print(np.shape(X)) #Print x shape\n",
    "print(np.shape(y)) #Print y shape"
   ]
  },
  {
   "cell_type": "markdown",
   "id": "7d491e3c",
   "metadata": {},
   "source": [
    "x and y both have 178 observations but x has 13 columns"
   ]
  },
  {
   "cell_type": "code",
   "execution_count": 10,
   "id": "75c5c268",
   "metadata": {},
   "outputs": [],
   "source": [
    "# Split wine data in train and test data (60:40)\n",
    "\n",
    "from sklearn.model_selection import train_test_split #import train_test_split from scikit learn package\n",
    "\n",
    "X_train,X_test,y_train,y_test = train_test_split(X,y,test_size=0.4,random_state=7) #load test size as 40 and random state as 7"
   ]
  },
  {
   "cell_type": "code",
   "execution_count": 11,
   "id": "d52e4e36",
   "metadata": {},
   "outputs": [],
   "source": [
    "# scale the training data\n",
    "\n",
    "from sklearn.preprocessing import StandardScaler #import scaler from scikit learn package\n",
    "scaler = StandardScaler() #define scaler\n",
    "scaler.fit(X_train) #fit scaler to x_train\n",
    "\n",
    "X_train = scaler.transform(X_train) #establish scaled x_train\n",
    "X_test = scaler.transform(X_test) #establish scaled x_test"
   ]
  },
  {
   "cell_type": "code",
   "execution_count": 12,
   "id": "d469f574",
   "metadata": {},
   "outputs": [
    {
     "data": {
      "text/plain": [
       "MLPClassifier(hidden_layer_sizes=(10, 10, 10), max_iter=1000, random_state=9)"
      ]
     },
     "execution_count": 12,
     "metadata": {},
     "output_type": "execute_result"
    }
   ],
   "source": [
    "from sklearn.neural_network import MLPClassifier #load MLP Classifier from scikitlearn\n",
    "\n",
    "# now build the model using MLPClassifier\n",
    "\n",
    "mlp = MLPClassifier(hidden_layer_sizes=(10, 10, 10), max_iter=1000, random_state=9) \n",
    "#Define model with 3 hidden layers with 10 nodes each \n",
    "# Set max iterations to 1000 and random state to 9\n",
    "\n",
    "mlp.fit(X_train, y_train) # now fit the classifer to the training data"
   ]
  },
  {
   "cell_type": "markdown",
   "id": "a5e98447",
   "metadata": {},
   "source": [
    "Seems to work fine with current settings"
   ]
  },
  {
   "cell_type": "code",
   "execution_count": 9,
   "id": "92fdd4fa",
   "metadata": {},
   "outputs": [
    {
     "data": {
      "text/plain": [
       "[<matplotlib.lines.Line2D at 0x144786fb4c0>]"
      ]
     },
     "execution_count": 9,
     "metadata": {},
     "output_type": "execute_result"
    },
    {
     "data": {
      "image/png": "[encoded data removed]",
      "text/plain": [
       "<Figure size 640x480 with 1 Axes>"
      ]
     },
     "metadata": {},
     "output_type": "display_data"
    }
   ],
   "source": [
    "predictions = mlp.predict(X_test) #Assign prediction to test data based on training data\n",
    "\n",
    "plt.plot(y_test, predictions, 'ro') #Plot testing data\n",
    "plt.plot([0, 2], [0, 2],'k') #Since data only ranges from 0-2"
   ]
  },
  {
   "cell_type": "markdown",
   "id": "de16c6ed",
   "metadata": {},
   "source": [
    "Appears that predictions aren't perfect which makes sense. \n",
    "\n",
    "Examine this more closely now with a confusion matrix"
   ]
  },
  {
   "cell_type": "code",
   "execution_count": 10,
   "id": "44cb2ca4",
   "metadata": {},
   "outputs": [
    {
     "name": "stdout",
     "output_type": "stream",
     "text": [
      "[[19  0  0]\n",
      " [ 0 31  1]\n",
      " [ 0  1 20]]\n",
      "              precision    recall  f1-score   support\n",
      "\n",
      "           0       1.00      1.00      1.00        19\n",
      "           1       0.97      0.97      0.97        32\n",
      "           2       0.95      0.95      0.95        21\n",
      "\n",
      "    accuracy                           0.97        72\n",
      "   macro avg       0.97      0.97      0.97        72\n",
      "weighted avg       0.97      0.97      0.97        72\n",
      "\n"
     ]
    }
   ],
   "source": [
    "from sklearn.metrics import classification_report, confusion_matrix #import confusion matrix from scikit learn\n",
    "\n",
    "print(confusion_matrix(y_test,predictions)) #Print confusion matrix\n",
    "print(classification_report(y_test,predictions)) #Print classification report"
   ]
  },
  {
   "cell_type": "markdown",
   "id": "4e684e91",
   "metadata": {},
   "source": [
    "Looks like the model works very well at this point, espeically for the 0-class. However, likely the model can be imporved. \n",
    "\n",
    "Time to examine whether adjusting the number of layers and nodes leads to a better model! \n",
    "\n",
    "Homework 4: Part 2"
   ]
  },
  {
   "cell_type": "code",
   "execution_count": 63,
   "id": "7d0589a5",
   "metadata": {},
   "outputs": [
    {
     "name": "stdout",
     "output_type": "stream",
     "text": [
      "1\n"
     ]
    },
    {
     "name": "stderr",
     "output_type": "stream",
     "text": [
      "C:\\Users\\zacha\\anaconda3\\lib\\site-packages\\sklearn\\neural_network\\_multilayer_perceptron.py:692: ConvergenceWarning: Stochastic Optimizer: Maximum iterations (1000) reached and the optimization hasn't converged yet.\n",
      "  warnings.warn(\n"
     ]
    },
    {
     "name": "stdout",
     "output_type": "stream",
     "text": [
      "2\n"
     ]
    },
    {
     "name": "stderr",
     "output_type": "stream",
     "text": [
      "C:\\Users\\zacha\\anaconda3\\lib\\site-packages\\sklearn\\neural_network\\_multilayer_perceptron.py:692: ConvergenceWarning: Stochastic Optimizer: Maximum iterations (1000) reached and the optimization hasn't converged yet.\n",
      "  warnings.warn(\n"
     ]
    },
    {
     "name": "stdout",
     "output_type": "stream",
     "text": [
      "3\n"
     ]
    },
    {
     "name": "stderr",
     "output_type": "stream",
     "text": [
      "C:\\Users\\zacha\\anaconda3\\lib\\site-packages\\sklearn\\neural_network\\_multilayer_perceptron.py:692: ConvergenceWarning: Stochastic Optimizer: Maximum iterations (1000) reached and the optimization hasn't converged yet.\n",
      "  warnings.warn(\n"
     ]
    },
    {
     "name": "stdout",
     "output_type": "stream",
     "text": [
      "4\n"
     ]
    },
    {
     "name": "stderr",
     "output_type": "stream",
     "text": [
      "C:\\Users\\zacha\\anaconda3\\lib\\site-packages\\sklearn\\neural_network\\_multilayer_perceptron.py:692: ConvergenceWarning: Stochastic Optimizer: Maximum iterations (1000) reached and the optimization hasn't converged yet.\n",
      "  warnings.warn(\n"
     ]
    },
    {
     "name": "stdout",
     "output_type": "stream",
     "text": [
      "5\n",
      "6\n",
      "7\n",
      "8\n",
      "9\n",
      "10\n"
     ]
    },
    {
     "data": {
      "text/plain": [
       "{1: 0.5416666666666666,\n",
       " 2: 0.9583333333333334,\n",
       " 3: 0.9722222222222222,\n",
       " 4: 0.9444444444444444,\n",
       " 5: 0.9722222222222222,\n",
       " 6: 0.9305555555555556,\n",
       " 7: 0.9722222222222222,\n",
       " 8: 0.9722222222222222,\n",
       " 9: 0.9861111111111112,\n",
       " 10: 0.9722222222222222}"
      ]
     },
     "execution_count": 63,
     "metadata": {},
     "output_type": "execute_result"
    }
   ],
   "source": [
    "scores = {} # First define a blank scores array\n",
    "scores_list = [] #Now define a blank scores list\n",
    "l_range = range(1, 11, 1) #Now define a range for layers that increase by 1 for nodes 1-10\n",
    "\n",
    "from sklearn import metrics #import metrics from sci kit learn package\n",
    "\n",
    "for l in l_range: #create function that examines 1 hidden layer with between 1 and 10 nodes\n",
    "    print(l) #print l (meaning # of nodes)\n",
    "    mlp = MLPClassifier(hidden_layer_sizes=(l), max_iter=1000, random_state=9) \n",
    "    # define model with1000 iterations and random state 9\n",
    "    mlp.fit(X_train, y_train) #fit training data to defined model\n",
    "    y_pred = mlp.predict(X_test) #predict based on training data\n",
    "    scores[l] = metrics.accuracy_score(y_test,y_pred) #load accuracy metric\n",
    "    scores_list.append(metrics.accuracy_score(y_test,y_pred)) #append accuracy metric\n",
    "scores #list defined scores"
   ]
  },
  {
   "cell_type": "markdown",
   "id": "baa8a108",
   "metadata": {},
   "source": [
    "Max iterations does not seem to be high enough. Switched to 3500 and repeated "
   ]
  },
  {
   "cell_type": "code",
   "execution_count": 67,
   "id": "55a9ecc0",
   "metadata": {},
   "outputs": [
    {
     "name": "stdout",
     "output_type": "stream",
     "text": [
      "1\n",
      "2\n",
      "3\n",
      "4\n",
      "5\n",
      "6\n",
      "7\n",
      "8\n",
      "9\n",
      "10\n"
     ]
    },
    {
     "data": {
      "text/plain": [
       "{1: 0.6666666666666666,\n",
       " 2: 0.8194444444444444,\n",
       " 3: 1.0,\n",
       " 4: 0.9722222222222222,\n",
       " 5: 0.9722222222222222,\n",
       " 6: 0.9166666666666666,\n",
       " 7: 0.9444444444444444,\n",
       " 8: 0.9583333333333334,\n",
       " 9: 0.9722222222222222,\n",
       " 10: 0.9722222222222222}"
      ]
     },
     "execution_count": 67,
     "metadata": {},
     "output_type": "execute_result"
    }
   ],
   "source": [
    "scores = {}\n",
    "scores_list = []\n",
    "l_range = range(1, 11, 1)\n",
    "\n",
    "from sklearn import metrics\n",
    "\n",
    "for l in l_range:\n",
    "    print(l)\n",
    "    mlp = MLPClassifier(hidden_layer_sizes=(l), max_iter=3500, random_state=9) #iterations now 3500\n",
    "    mlp.fit(X_train, y_train)\n",
    "    y_pred = mlp.predict(X_test)\n",
    "    scores[l] = metrics.accuracy_score(y_test,y_pred)\n",
    "    scores_list.append(metrics.accuracy_score(y_test,y_pred))\n",
    "scores"
   ]
  },
  {
   "cell_type": "markdown",
   "id": "3fea3c0a",
   "metadata": {},
   "source": [
    "Very interesting variation in the accuracy scores...a little hard to interpret. Will look closer at the confusion matrix for nodes 3-5 since this seems to be where model is best before trailing off but then rising again likely due to overfitting? "
   ]
  },
  {
   "cell_type": "code",
   "execution_count": 74,
   "id": "48434cbc",
   "metadata": {},
   "outputs": [],
   "source": [
    "# Look at model with 3 nodes\n",
    "\n",
    "mlp = MLPClassifier(hidden_layer_sizes=(3), max_iter=3500, random_state=9)\n",
    "\n",
    "mlp.fit(X_train, y_train)\n",
    "\n",
    "predictions = mlp.predict(X_test)"
   ]
  },
  {
   "cell_type": "code",
   "execution_count": 75,
   "id": "c3a78f93",
   "metadata": {},
   "outputs": [
    {
     "name": "stdout",
     "output_type": "stream",
     "text": [
      "[[19  0  0]\n",
      " [ 0 31  1]\n",
      " [ 0  1 20]]\n",
      "              precision    recall  f1-score   support\n",
      "\n",
      "           0       1.00      1.00      1.00        19\n",
      "           1       0.97      0.97      0.97        32\n",
      "           2       0.95      0.95      0.95        21\n",
      "\n",
      "    accuracy                           0.97        72\n",
      "   macro avg       0.97      0.97      0.97        72\n",
      "weighted avg       0.97      0.97      0.97        72\n",
      "\n"
     ]
    }
   ],
   "source": [
    "print(confusion_matrix(y_test,predictions))\n",
    "print(classification_report(y_test,predictions))"
   ]
  },
  {
   "cell_type": "markdown",
   "id": "c444f0a1",
   "metadata": {},
   "source": [
    "Although accuracy score says this model should have 100% accuracy...this model does not seem to be at this level. Still performs well though but very odd."
   ]
  },
  {
   "cell_type": "code",
   "execution_count": 76,
   "id": "f3e77f61",
   "metadata": {},
   "outputs": [],
   "source": [
    "# Look at model with 4 nodes\n",
    "\n",
    "mlp = MLPClassifier(hidden_layer_sizes=(4), max_iter=3500, random_state=9)\n",
    "\n",
    "mlp.fit(X_train, y_train)\n",
    "\n",
    "predictions = mlp.predict(X_test)"
   ]
  },
  {
   "cell_type": "code",
   "execution_count": 77,
   "id": "61dd22e6",
   "metadata": {},
   "outputs": [
    {
     "name": "stdout",
     "output_type": "stream",
     "text": [
      "[[19  0  0]\n",
      " [ 2 30  0]\n",
      " [ 0  1 20]]\n",
      "              precision    recall  f1-score   support\n",
      "\n",
      "           0       0.90      1.00      0.95        19\n",
      "           1       0.97      0.94      0.95        32\n",
      "           2       1.00      0.95      0.98        21\n",
      "\n",
      "    accuracy                           0.96        72\n",
      "   macro avg       0.96      0.96      0.96        72\n",
      "weighted avg       0.96      0.96      0.96        72\n",
      "\n"
     ]
    }
   ],
   "source": [
    "print(confusion_matrix(y_test,predictions))\n",
    "print(classification_report(y_test,predictions))"
   ]
  },
  {
   "cell_type": "markdown",
   "id": "2c6e8cff",
   "metadata": {},
   "source": [
    "Model with 3 nodes seems superior."
   ]
  },
  {
   "cell_type": "code",
   "execution_count": 78,
   "id": "9d5b62f0",
   "metadata": {},
   "outputs": [],
   "source": [
    "# Look at model with 5 nodes\n",
    "\n",
    "mlp = MLPClassifier(hidden_layer_sizes=(4), max_iter=3500, random_state=9)\n",
    "\n",
    "mlp.fit(X_train, y_train)\n",
    "\n",
    "predictions = mlp.predict(X_test)"
   ]
  },
  {
   "cell_type": "code",
   "execution_count": 79,
   "id": "fcbb9210",
   "metadata": {},
   "outputs": [
    {
     "name": "stdout",
     "output_type": "stream",
     "text": [
      "[[19  0  0]\n",
      " [ 2 30  0]\n",
      " [ 0  1 20]]\n",
      "              precision    recall  f1-score   support\n",
      "\n",
      "           0       0.90      1.00      0.95        19\n",
      "           1       0.97      0.94      0.95        32\n",
      "           2       1.00      0.95      0.98        21\n",
      "\n",
      "    accuracy                           0.96        72\n",
      "   macro avg       0.96      0.96      0.96        72\n",
      "weighted avg       0.96      0.96      0.96        72\n",
      "\n"
     ]
    }
   ],
   "source": [
    "print(confusion_matrix(y_test,predictions))\n",
    "print(classification_report(y_test,predictions))"
   ]
  },
  {
   "cell_type": "markdown",
   "id": "20456c44",
   "metadata": {},
   "source": [
    "Model with 3 nodes still seems best. 4 nodes and 5 nodes seem to perform at same level.\n",
    "\n",
    "Will plot out to look even more closely"
   ]
  },
  {
   "cell_type": "code",
   "execution_count": 68,
   "id": "5689c26d",
   "metadata": {},
   "outputs": [
    {
     "data": {
      "text/plain": [
       "Text(0, 0.5, 'accuracy score')"
      ]
     },
     "execution_count": 68,
     "metadata": {},
     "output_type": "execute_result"
    },
    {
     "data": {
      "image/png": "[encoded data removed]",
      "text/plain": [
       "<Figure size 640x480 with 1 Axes>"
      ]
     },
     "metadata": {},
     "output_type": "display_data"
    }
   ],
   "source": [
    "# plot the model accuracy for each value of k\n",
    "\n",
    "plt.plot(l_range,scores_list) #load accuracy on the y axis and number of layers on the x\n",
    "plt.xlabel('number of layers') #label x axis\n",
    "plt.ylabel('accuracy score') #label y axis"
   ]
  },
  {
   "cell_type": "markdown",
   "id": "7e02434b",
   "metadata": {},
   "source": [
    "Still a little hard to interpret...but seems like it may be worth excluding nodes 1 and 2. Best range still likely nodes 3-5. Will focus on these nodes and expand the number of layers."
   ]
  },
  {
   "cell_type": "code",
   "execution_count": 14,
   "id": "eea68576",
   "metadata": {},
   "outputs": [
    {
     "data": {
      "text/plain": [
       "{(3, 3): 0.9722222222222222,\n",
       " (3, 4): 0.9444444444444444,\n",
       " (3, 5): 0.9861111111111112,\n",
       " (4, 3): 0.9444444444444444,\n",
       " (4, 4): 0.9722222222222222,\n",
       " (4, 5): 0.9583333333333334,\n",
       " (5, 3): 0.9861111111111112,\n",
       " (5, 4): 0.9722222222222222,\n",
       " (5, 5): 0.9305555555555556}"
      ]
     },
     "execution_count": 14,
     "metadata": {},
     "output_type": "execute_result"
    }
   ],
   "source": [
    "scores = {}\n",
    "scores_list = []\n",
    "a = range(3, 6, 1) # now layer 1 is defined to have between 3-5 nodes and increase by an increment of 1\n",
    "b = range(3, 6, 1) # new layers 2 is now included and also defined to have between 3-5 nodes and increase by an increment of 1\n",
    "\n",
    "from sklearn import metrics\n",
    "\n",
    "for layer_1 in a: # define loop function\n",
    "    for layer_2 in b: #define loop within a loop to examine all the assortments of nodes/layers\n",
    "                    mlp = MLPClassifier(hidden_layer_sizes=(layer_1, layer_2), max_iter=3500, random_state=9)\n",
    "                    mlp.fit(X_train, y_train)\n",
    "                    y_pred = mlp.predict(X_test)\n",
    "                    scores[layer_1, layer_2] = metrics.accuracy_score(y_test,y_pred) \n",
    "                    #this time print two layers/nodes and accruacy score\n",
    "                    scores_list.append(metrics.accuracy_score(y_test,y_pred))\n",
    "scores"
   ]
  },
  {
   "cell_type": "markdown",
   "id": "0fdd29ef",
   "metadata": {},
   "source": [
    "Top Performers\n",
    "\n",
    "(3, 3): 0.9722222222222222\n",
    "\n",
    "(3, 5): 0.9861111111111112\n",
    "\n",
    "(4, 4): 0.9722222222222222\n",
    "\n",
    "(5, 3): 0.9861111111111112\n",
    "\n",
    "(5, 4): 0.9722222222222222\n",
    "\n",
    "Examine these more closely"
   ]
  },
  {
   "cell_type": "code",
   "execution_count": 69,
   "id": "773262fc",
   "metadata": {},
   "outputs": [],
   "source": [
    "#Load in model based on two layers with 3 nodes each and then print confusion matrix with classification report\n",
    "\n",
    "mlp = MLPClassifier(hidden_layer_sizes=(3,3), max_iter=3500, random_state=9)\n",
    "\n",
    "mlp.fit(X_train, y_train)\n",
    "\n",
    "predictions = mlp.predict(X_test)"
   ]
  },
  {
   "cell_type": "code",
   "execution_count": 37,
   "id": "059c493e",
   "metadata": {},
   "outputs": [
    {
     "name": "stdout",
     "output_type": "stream",
     "text": [
      "[[19  0  0]\n",
      " [ 0 31  1]\n",
      " [ 0  1 20]]\n",
      "              precision    recall  f1-score   support\n",
      "\n",
      "           0       1.00      1.00      1.00        19\n",
      "           1       0.97      0.97      0.97        32\n",
      "           2       0.95      0.95      0.95        21\n",
      "\n",
      "    accuracy                           0.97        72\n",
      "   macro avg       0.97      0.97      0.97        72\n",
      "weighted avg       0.97      0.97      0.97        72\n",
      "\n"
     ]
    }
   ],
   "source": [
    "print(confusion_matrix(y_test,predictions))\n",
    "print(classification_report(y_test,predictions))"
   ]
  },
  {
   "cell_type": "markdown",
   "id": "c6bd8705",
   "metadata": {},
   "source": [
    "Seems comparable with model with 1 layer with 3 nodes."
   ]
  },
  {
   "cell_type": "code",
   "execution_count": 80,
   "id": "f1638caf",
   "metadata": {},
   "outputs": [],
   "source": [
    "# Load model with two layers with 3 and 5 nodes\n",
    "mlp = MLPClassifier(hidden_layer_sizes=(3,5), max_iter=3500, random_state=9)\n",
    "\n",
    "mlp.fit(X_train, y_train)\n",
    "\n",
    "predictions = mlp.predict(X_test)"
   ]
  },
  {
   "cell_type": "code",
   "execution_count": 81,
   "id": "512a7973",
   "metadata": {},
   "outputs": [
    {
     "name": "stdout",
     "output_type": "stream",
     "text": [
      "[[19  0  0]\n",
      " [ 0 31  1]\n",
      " [ 0  0 21]]\n",
      "              precision    recall  f1-score   support\n",
      "\n",
      "           0       1.00      1.00      1.00        19\n",
      "           1       1.00      0.97      0.98        32\n",
      "           2       0.95      1.00      0.98        21\n",
      "\n",
      "    accuracy                           0.99        72\n",
      "   macro avg       0.98      0.99      0.99        72\n",
      "weighted avg       0.99      0.99      0.99        72\n",
      "\n"
     ]
    }
   ],
   "source": [
    "print(confusion_matrix(y_test,predictions))\n",
    "print(classification_report(y_test,predictions))"
   ]
  },
  {
   "cell_type": "markdown",
   "id": "15af3361",
   "metadata": {},
   "source": [
    "Model with two layers and 3 and 5 nodes seems to be the best so far"
   ]
  },
  {
   "cell_type": "code",
   "execution_count": 82,
   "id": "31d4bc25",
   "metadata": {},
   "outputs": [],
   "source": [
    "# load model with two layers with 4 nodes each\n",
    "mlp = MLPClassifier(hidden_layer_sizes=(4,4), max_iter=3500, random_state=9)\n",
    "\n",
    "mlp.fit(X_train, y_train)\n",
    "\n",
    "predictions = mlp.predict(X_test)"
   ]
  },
  {
   "cell_type": "code",
   "execution_count": 83,
   "id": "56d0f92b",
   "metadata": {},
   "outputs": [
    {
     "name": "stdout",
     "output_type": "stream",
     "text": [
      "[[19  0  0]\n",
      " [ 0 31  1]\n",
      " [ 0  1 20]]\n",
      "              precision    recall  f1-score   support\n",
      "\n",
      "           0       1.00      1.00      1.00        19\n",
      "           1       0.97      0.97      0.97        32\n",
      "           2       0.95      0.95      0.95        21\n",
      "\n",
      "    accuracy                           0.97        72\n",
      "   macro avg       0.97      0.97      0.97        72\n",
      "weighted avg       0.97      0.97      0.97        72\n",
      "\n"
     ]
    }
   ],
   "source": [
    "print(confusion_matrix(y_test,predictions))\n",
    "print(classification_report(y_test,predictions))"
   ]
  },
  {
   "cell_type": "markdown",
   "id": "868d2181",
   "metadata": {},
   "source": [
    "Solid model but not as good as model with two layers and 3 and 5 nodes."
   ]
  },
  {
   "cell_type": "code",
   "execution_count": 84,
   "id": "4fbc3392",
   "metadata": {},
   "outputs": [],
   "source": [
    "mlp = MLPClassifier(hidden_layer_sizes=(5,3), max_iter=3500, random_state=9)\n",
    "\n",
    "mlp.fit(X_train, y_train)\n",
    "\n",
    "predictions = mlp.predict(X_test)"
   ]
  },
  {
   "cell_type": "code",
   "execution_count": 85,
   "id": "37dc493a",
   "metadata": {},
   "outputs": [
    {
     "name": "stdout",
     "output_type": "stream",
     "text": [
      "[[19  0  0]\n",
      " [ 0 31  1]\n",
      " [ 0  0 21]]\n",
      "              precision    recall  f1-score   support\n",
      "\n",
      "           0       1.00      1.00      1.00        19\n",
      "           1       1.00      0.97      0.98        32\n",
      "           2       0.95      1.00      0.98        21\n",
      "\n",
      "    accuracy                           0.99        72\n",
      "   macro avg       0.98      0.99      0.99        72\n",
      "weighted avg       0.99      0.99      0.99        72\n",
      "\n"
     ]
    }
   ],
   "source": [
    "print(confusion_matrix(y_test,predictions))\n",
    "print(classification_report(y_test,predictions))"
   ]
  },
  {
   "cell_type": "markdown",
   "id": "f6e83994",
   "metadata": {},
   "source": [
    "This model matches model with two layers and 3 and 5 nodes."
   ]
  },
  {
   "cell_type": "code",
   "execution_count": 86,
   "id": "eb0119a0",
   "metadata": {},
   "outputs": [],
   "source": [
    "#load model with two layers with 4 and 5 nodes.\n",
    "mlp = MLPClassifier(hidden_layer_sizes=(5,4), max_iter=2500, random_state=9)\n",
    "\n",
    "mlp.fit(X_train, y_train)\n",
    "\n",
    "predictions = mlp.predict(X_test)"
   ]
  },
  {
   "cell_type": "code",
   "execution_count": 87,
   "id": "04980fa5",
   "metadata": {},
   "outputs": [
    {
     "name": "stdout",
     "output_type": "stream",
     "text": [
      "[[19  0  0]\n",
      " [ 1 30  1]\n",
      " [ 0  0 21]]\n",
      "              precision    recall  f1-score   support\n",
      "\n",
      "           0       0.95      1.00      0.97        19\n",
      "           1       1.00      0.94      0.97        32\n",
      "           2       0.95      1.00      0.98        21\n",
      "\n",
      "    accuracy                           0.97        72\n",
      "   macro avg       0.97      0.98      0.97        72\n",
      "weighted avg       0.97      0.97      0.97        72\n",
      "\n"
     ]
    }
   ],
   "source": [
    "print(confusion_matrix(y_test,predictions))\n",
    "print(classification_report(y_test,predictions))"
   ]
  },
  {
   "cell_type": "markdown",
   "id": "7832d163",
   "metadata": {},
   "source": [
    "This model doesn't stack up with the other two models. So after this round the two best models are:\n",
    "(3, 5)\n",
    "(5, 3)\n",
    "\n",
    "Look at all top performers plotted out now"
   ]
  },
  {
   "cell_type": "code",
   "execution_count": 21,
   "id": "89555782",
   "metadata": {},
   "outputs": [
    {
     "data": {
      "text/plain": [
       "Text(0, 0.5, 'accuracy score')"
      ]
     },
     "execution_count": 21,
     "metadata": {},
     "output_type": "execute_result"
    },
    {
     "data": {
      "image/png": "[encoded data removed]",
      "text/plain": [
       "<Figure size 640x480 with 1 Axes>"
      ]
     },
     "metadata": {},
     "output_type": "display_data"
    }
   ],
   "source": [
    "# plot the model accuracy for each top performer\n",
    "\n",
    "a = ('3.3', '3.5', '4.4', '5.3', '5.4')\n",
    "b = (0.9722, 0.9861, 0.9722, 0.9861, 0.97222)\n",
    "\n",
    "plt.plot(a,b) #load accuracy on the y axis and number of layers on the x\n",
    "plt.xlabel('layer 1 nodes. layer 2 nodes') #label x axis\n",
    "plt.ylabel('accuracy score') #label y axis"
   ]
  },
  {
   "cell_type": "markdown",
   "id": "33ec0788",
   "metadata": {},
   "source": [
    "Now I'll move on to three layers."
   ]
  },
  {
   "cell_type": "code",
   "execution_count": 46,
   "id": "a4b47355",
   "metadata": {
    "scrolled": false
   },
   "outputs": [
    {
     "data": {
      "text/plain": [
       "{(3, 3, 3): 1.0,\n",
       " (3, 3, 4): 0.9583333333333334,\n",
       " (3, 3, 5): 0.9583333333333334,\n",
       " (3, 4, 3): 0.7222222222222222,\n",
       " (3, 4, 4): 0.5277777777777778,\n",
       " (3, 4, 5): 0.9444444444444444,\n",
       " (3, 5, 3): 0.9027777777777778,\n",
       " (3, 5, 4): 0.9722222222222222,\n",
       " (3, 5, 5): 0.9722222222222222,\n",
       " (4, 3, 3): 0.2638888888888889,\n",
       " (4, 3, 4): 0.9444444444444444,\n",
       " (4, 3, 5): 0.9583333333333334,\n",
       " (4, 4, 3): 0.9722222222222222,\n",
       " (4, 4, 4): 0.9722222222222222,\n",
       " (4, 4, 5): 0.9722222222222222,\n",
       " (4, 5, 3): 0.9722222222222222,\n",
       " (4, 5, 4): 0.9722222222222222,\n",
       " (4, 5, 5): 0.9722222222222222,\n",
       " (5, 3, 3): 0.9583333333333334,\n",
       " (5, 3, 4): 0.9583333333333334,\n",
       " (5, 3, 5): 0.9583333333333334,\n",
       " (5, 4, 3): 0.9583333333333334,\n",
       " (5, 4, 4): 0.9722222222222222,\n",
       " (5, 4, 5): 0.9861111111111112,\n",
       " (5, 5, 3): 0.9027777777777778,\n",
       " (5, 5, 4): 0.9861111111111112,\n",
       " (5, 5, 5): 0.9722222222222222}"
      ]
     },
     "execution_count": 46,
     "metadata": {},
     "output_type": "execute_result"
    }
   ],
   "source": [
    "# now build a loop to test how well different number of hidden layers performs\n",
    "\n",
    "scores = {}\n",
    "scores_list = []\n",
    "a = range(3, 6, 1) # layer 1 remains the same\n",
    "b = range(3, 6, 1) # layer 2 remains the same\n",
    "c = range(3, 6, 1) # new layer 3 is now included and defined to have between 3-5 nodes and increase by an increment of 1\n",
    "\n",
    "for layer_1 in a: #loop 1\n",
    "    for layer_2 in b: #loop 2\n",
    "        for layer_3 in c: #now a third loop that adds the third layer\n",
    "                    mlp = MLPClassifier(hidden_layer_sizes=(layer_1, layer_2, layer_3), max_iter=3500, random_state=9)\n",
    "                    mlp.fit(X_train, y_train)\n",
    "                    y_pred = mlp.predict(X_test)\n",
    "                    scores[layer_1, layer_2,layer_3] = metrics.accuracy_score(y_test,y_pred)\n",
    "                    #this time print three layers/nodes and accruacy score\n",
    "                    scores_list.append(metrics.accuracy_score(y_test,y_pred))\n",
    "scores"
   ]
  },
  {
   "cell_type": "markdown",
   "id": "8dd108a0",
   "metadata": {},
   "source": [
    "Top 3\n",
    "\n",
    "(3, 3, 3): 1.0\n",
    "\n",
    "(5, 4, 5): 0.9861111111111112\n",
    "\n",
    "(5, 5, 4): 0.9861111111111112\n",
    "\n",
    "Model (3,3,3) having 100% seems a little odd but doesn't seem to be something due to overfitting. Will examine first."
   ]
  },
  {
   "cell_type": "code",
   "execution_count": 88,
   "id": "f0b3c94f",
   "metadata": {},
   "outputs": [],
   "source": [
    "# Load model with 3 layers and 3 nodes each\n",
    "mlp = MLPClassifier(hidden_layer_sizes=(3, 3, 3), max_iter=3500, random_state=9)\n",
    "\n",
    "mlp.fit(X_train, y_train)\n",
    "\n",
    "predictions = mlp.predict(X_test)"
   ]
  },
  {
   "cell_type": "code",
   "execution_count": 89,
   "id": "b7353c43",
   "metadata": {},
   "outputs": [
    {
     "name": "stdout",
     "output_type": "stream",
     "text": [
      "[[19  0  0]\n",
      " [ 0 32  0]\n",
      " [ 0  0 21]]\n",
      "              precision    recall  f1-score   support\n",
      "\n",
      "           0       1.00      1.00      1.00        19\n",
      "           1       1.00      1.00      1.00        32\n",
      "           2       1.00      1.00      1.00        21\n",
      "\n",
      "    accuracy                           1.00        72\n",
      "   macro avg       1.00      1.00      1.00        72\n",
      "weighted avg       1.00      1.00      1.00        72\n",
      "\n"
     ]
    }
   ],
   "source": [
    "print(confusion_matrix(y_test,predictions))\n",
    "print(classification_report(y_test,predictions))"
   ]
  },
  {
   "cell_type": "markdown",
   "id": "c0246ade",
   "metadata": {},
   "source": [
    "This model appears to be the real deal...perfect accuracy, recall, and f1-score. Will now plot this out to look closer."
   ]
  },
  {
   "cell_type": "code",
   "execution_count": 61,
   "id": "936dd99f",
   "metadata": {},
   "outputs": [
    {
     "data": {
      "text/plain": [
       "[<matplotlib.lines.Line2D at 0x1447884f340>]"
      ]
     },
     "execution_count": 61,
     "metadata": {},
     "output_type": "execute_result"
    },
    {
     "data": {
      "image/png": "[encoded data removed]",
      "text/plain": [
       "<Figure size 640x480 with 1 Axes>"
      ]
     },
     "metadata": {},
     "output_type": "display_data"
    }
   ],
   "source": [
    "# try makign some predictions using your classifier\n",
    "predictions = mlp.predict(X_test) #predict testing data based on model\n",
    "\n",
    "plt.plot(y_test, predictions, 'ro') \n",
    "plt.plot([0, 2], [0, 2],'k')"
   ]
  },
  {
   "cell_type": "markdown",
   "id": "12370a08",
   "metadata": {},
   "source": [
    "Seems legitmate...but will continue to examine data with 3 layers."
   ]
  },
  {
   "cell_type": "code",
   "execution_count": 90,
   "id": "a25e1e21",
   "metadata": {},
   "outputs": [],
   "source": [
    "# load 3 layers with 5, 4, and 5 nodes\n",
    "mlp = MLPClassifier(hidden_layer_sizes=(5, 4, 5), max_iter=3500, random_state=9)\n",
    "\n",
    "# now fit the classifer to the training data\n",
    "mlp.fit(X_train, y_train)\n",
    "\n",
    "predictions = mlp.predict(X_test)"
   ]
  },
  {
   "cell_type": "code",
   "execution_count": 56,
   "id": "64b6828f",
   "metadata": {},
   "outputs": [
    {
     "name": "stdout",
     "output_type": "stream",
     "text": [
      "[[19  0  0]\n",
      " [ 0 32  0]\n",
      " [ 0  1 20]]\n",
      "              precision    recall  f1-score   support\n",
      "\n",
      "           0       1.00      1.00      1.00        19\n",
      "           1       0.97      1.00      0.98        32\n",
      "           2       1.00      0.95      0.98        21\n",
      "\n",
      "    accuracy                           0.99        72\n",
      "   macro avg       0.99      0.98      0.99        72\n",
      "weighted avg       0.99      0.99      0.99        72\n",
      "\n"
     ]
    }
   ],
   "source": [
    "print(confusion_matrix(y_test,predictions))\n",
    "print(classification_report(y_test,predictions))"
   ]
  },
  {
   "cell_type": "markdown",
   "id": "742e2774",
   "metadata": {},
   "source": [
    "Really great model but can't compare with the 100% 3,3,3 model."
   ]
  },
  {
   "cell_type": "code",
   "execution_count": 91,
   "id": "3630f2d5",
   "metadata": {},
   "outputs": [],
   "source": [
    "# load 3 layers with 5, 5, and 4 nodes\n",
    "mlp = MLPClassifier(hidden_layer_sizes=(5, 5, 4), max_iter=3500, random_state=9)\n",
    "\n",
    "# now fit the classifer to the training data\n",
    "mlp.fit(X_train, y_train)\n",
    "\n",
    "predictions = mlp.predict(X_test)"
   ]
  },
  {
   "cell_type": "code",
   "execution_count": 92,
   "id": "752e2fd1",
   "metadata": {},
   "outputs": [
    {
     "name": "stdout",
     "output_type": "stream",
     "text": [
      "[[19  0  0]\n",
      " [ 0 32  0]\n",
      " [ 0  1 20]]\n",
      "              precision    recall  f1-score   support\n",
      "\n",
      "           0       1.00      1.00      1.00        19\n",
      "           1       0.97      1.00      0.98        32\n",
      "           2       1.00      0.95      0.98        21\n",
      "\n",
      "    accuracy                           0.99        72\n",
      "   macro avg       0.99      0.98      0.99        72\n",
      "weighted avg       0.99      0.99      0.99        72\n",
      "\n"
     ]
    }
   ],
   "source": [
    "print(confusion_matrix(y_test,predictions))\n",
    "print(classification_report(y_test,predictions))"
   ]
  },
  {
   "cell_type": "markdown",
   "id": "a37f13bd",
   "metadata": {},
   "source": [
    "Another great model but still doesn't compare with 3,3,3 model\n",
    "\n",
    "Let's compare all the best models from each round:"
   ]
  },
  {
   "cell_type": "code",
   "execution_count": 22,
   "id": "92eb030e",
   "metadata": {},
   "outputs": [
    {
     "data": {
      "text/plain": [
       "Text(0, 0.5, 'accuracy score')"
      ]
     },
     "execution_count": 22,
     "metadata": {},
     "output_type": "execute_result"
    },
    {
     "data": {
      "image/png": "[encoded data removed]",
      "text/plain": [
       "<Figure size 640x480 with 1 Axes>"
      ]
     },
     "metadata": {},
     "output_type": "display_data"
    }
   ],
   "source": [
    "# plot the model accuracy for each top performer\n",
    "\n",
    "a = ('3.5', '5.3', '3.3.3.', '5.4.5', '5.5.4')\n",
    "b = (0.9861, 0.9861, 1.00, 0.9861, 0.9861)\n",
    "\n",
    "plt.plot(a,b) #load accuracy on the y axis and number of layers on the x\n",
    "plt.xlabel('layer 1 nodes. layer 2 nodes. layer 3 nodes (if applicable)') #label x axis\n",
    "plt.ylabel('accuracy score') #label y axis"
   ]
  },
  {
   "cell_type": "markdown",
   "id": "7705f887",
   "metadata": {},
   "source": [
    "3,3,3 model will be the one I use for the unknown samples"
   ]
  },
  {
   "cell_type": "markdown",
   "id": "1bb3fec1",
   "metadata": {},
   "source": [
    "Homework 4: Part 3"
   ]
  },
  {
   "cell_type": "code",
   "execution_count": 96,
   "id": "676440c8",
   "metadata": {},
   "outputs": [],
   "source": [
    "UNK_wine = pd.read_csv('C:/Users/zacha/Dropbox/PhD ODU/Courses/Spring 2023/OEAS895/HW4/unknown_wine.csv',sep=',') \n",
    "#load unknown wine data set"
   ]
  },
  {
   "cell_type": "code",
   "execution_count": 98,
   "id": "2ec40929",
   "metadata": {},
   "outputs": [
    {
     "data": {
      "text/html": [
       "<div>\n",
       "<style scoped>\n",
       "    .dataframe tbody tr th:only-of-type {\n",
       "        vertical-align: middle;\n",
       "    }\n",
       "\n",
       "    .dataframe tbody tr th {\n",
       "        vertical-align: top;\n",
       "    }\n",
       "\n",
       "    .dataframe thead th {\n",
       "        text-align: right;\n",
       "    }\n",
       "</style>\n",
       "<table border=\"1\" class=\"dataframe\">\n",
       "  <thead>\n",
       "    <tr style=\"text-align: right;\">\n",
       "      <th></th>\n",
       "      <th>alcohol</th>\n",
       "      <th>malic_acid</th>\n",
       "      <th>ash</th>\n",
       "      <th>alcalinity_of_ash</th>\n",
       "      <th>magnesium</th>\n",
       "      <th>total_phenols</th>\n",
       "      <th>flavanoids</th>\n",
       "      <th>nonflavanoid_phenols</th>\n",
       "      <th>proanthocyanins</th>\n",
       "      <th>color_intensity</th>\n",
       "      <th>hue</th>\n",
       "      <th>od280/od315_of_diluted_wines</th>\n",
       "      <th>proline</th>\n",
       "    </tr>\n",
       "  </thead>\n",
       "  <tbody>\n",
       "    <tr>\n",
       "      <th>0</th>\n",
       "      <td>2.480115</td>\n",
       "      <td>1.577093</td>\n",
       "      <td>1.766757</td>\n",
       "      <td>7.542816</td>\n",
       "      <td>43.456511</td>\n",
       "      <td>0.569810</td>\n",
       "      <td>0.075239</td>\n",
       "      <td>0.267335</td>\n",
       "      <td>0.744527</td>\n",
       "      <td>0.975456</td>\n",
       "      <td>0.741519</td>\n",
       "      <td>2.763938</td>\n",
       "      <td>1228.781864</td>\n",
       "    </tr>\n",
       "    <tr>\n",
       "      <th>1</th>\n",
       "      <td>1.074171</td>\n",
       "      <td>1.125832</td>\n",
       "      <td>2.557246</td>\n",
       "      <td>4.421963</td>\n",
       "      <td>57.339151</td>\n",
       "      <td>1.677453</td>\n",
       "      <td>1.027255</td>\n",
       "      <td>0.266734</td>\n",
       "      <td>1.037521</td>\n",
       "      <td>6.093875</td>\n",
       "      <td>0.400008</td>\n",
       "      <td>2.629353</td>\n",
       "      <td>620.263632</td>\n",
       "    </tr>\n",
       "    <tr>\n",
       "      <th>2</th>\n",
       "      <td>3.516777</td>\n",
       "      <td>0.819709</td>\n",
       "      <td>0.462774</td>\n",
       "      <td>2.328977</td>\n",
       "      <td>60.776751</td>\n",
       "      <td>0.950360</td>\n",
       "      <td>2.312480</td>\n",
       "      <td>0.114245</td>\n",
       "      <td>1.453748</td>\n",
       "      <td>1.566772</td>\n",
       "      <td>0.249111</td>\n",
       "      <td>0.948954</td>\n",
       "      <td>417.939695</td>\n",
       "    </tr>\n",
       "    <tr>\n",
       "      <th>3</th>\n",
       "      <td>13.189798</td>\n",
       "      <td>1.402826</td>\n",
       "      <td>0.153316</td>\n",
       "      <td>7.621558</td>\n",
       "      <td>0.440191</td>\n",
       "      <td>0.103332</td>\n",
       "      <td>2.878385</td>\n",
       "      <td>0.016165</td>\n",
       "      <td>1.558074</td>\n",
       "      <td>5.961709</td>\n",
       "      <td>0.338151</td>\n",
       "      <td>1.608835</td>\n",
       "      <td>233.606713</td>\n",
       "    </tr>\n",
       "    <tr>\n",
       "      <th>4</th>\n",
       "      <td>11.973053</td>\n",
       "      <td>1.838887</td>\n",
       "      <td>0.945975</td>\n",
       "      <td>1.269000</td>\n",
       "      <td>83.484182</td>\n",
       "      <td>0.934233</td>\n",
       "      <td>0.448263</td>\n",
       "      <td>0.038872</td>\n",
       "      <td>0.488293</td>\n",
       "      <td>4.358916</td>\n",
       "      <td>0.482324</td>\n",
       "      <td>0.084788</td>\n",
       "      <td>387.198226</td>\n",
       "    </tr>\n",
       "    <tr>\n",
       "      <th>5</th>\n",
       "      <td>2.284138</td>\n",
       "      <td>0.048992</td>\n",
       "      <td>0.211198</td>\n",
       "      <td>4.088945</td>\n",
       "      <td>18.957613</td>\n",
       "      <td>1.192519</td>\n",
       "      <td>1.647511</td>\n",
       "      <td>0.005231</td>\n",
       "      <td>1.038589</td>\n",
       "      <td>2.101098</td>\n",
       "      <td>0.237541</td>\n",
       "      <td>1.672787</td>\n",
       "      <td>121.134473</td>\n",
       "    </tr>\n",
       "    <tr>\n",
       "      <th>6</th>\n",
       "      <td>9.463899</td>\n",
       "      <td>0.787199</td>\n",
       "      <td>1.863438</td>\n",
       "      <td>16.869074</td>\n",
       "      <td>31.736868</td>\n",
       "      <td>1.470403</td>\n",
       "      <td>0.534720</td>\n",
       "      <td>0.206582</td>\n",
       "      <td>0.633736</td>\n",
       "      <td>4.444610</td>\n",
       "      <td>0.033384</td>\n",
       "      <td>0.925355</td>\n",
       "      <td>328.508943</td>\n",
       "    </tr>\n",
       "    <tr>\n",
       "      <th>7</th>\n",
       "      <td>6.453939</td>\n",
       "      <td>1.676532</td>\n",
       "      <td>2.153574</td>\n",
       "      <td>13.765152</td>\n",
       "      <td>70.390073</td>\n",
       "      <td>1.749210</td>\n",
       "      <td>2.721021</td>\n",
       "      <td>0.252128</td>\n",
       "      <td>0.152867</td>\n",
       "      <td>0.582114</td>\n",
       "      <td>0.507068</td>\n",
       "      <td>2.055239</td>\n",
       "      <td>59.729064</td>\n",
       "    </tr>\n",
       "    <tr>\n",
       "      <th>8</th>\n",
       "      <td>12.740552</td>\n",
       "      <td>2.854646</td>\n",
       "      <td>0.932969</td>\n",
       "      <td>8.626371</td>\n",
       "      <td>44.557706</td>\n",
       "      <td>0.405552</td>\n",
       "      <td>1.105890</td>\n",
       "      <td>0.219005</td>\n",
       "      <td>0.393723</td>\n",
       "      <td>2.706763</td>\n",
       "      <td>0.983953</td>\n",
       "      <td>1.070769</td>\n",
       "      <td>250.301469</td>\n",
       "    </tr>\n",
       "    <tr>\n",
       "      <th>9</th>\n",
       "      <td>9.686586</td>\n",
       "      <td>1.232883</td>\n",
       "      <td>1.475132</td>\n",
       "      <td>3.560106</td>\n",
       "      <td>12.221049</td>\n",
       "      <td>1.229565</td>\n",
       "      <td>1.495698</td>\n",
       "      <td>0.153813</td>\n",
       "      <td>0.886209</td>\n",
       "      <td>1.506817</td>\n",
       "      <td>0.939698</td>\n",
       "      <td>0.921325</td>\n",
       "      <td>187.457035</td>\n",
       "    </tr>\n",
       "  </tbody>\n",
       "</table>\n",
       "</div>"
      ],
      "text/plain": [
       "     alcohol  malic_acid       ash  alcalinity_of_ash  magnesium  \\\n",
       "0   2.480115    1.577093  1.766757           7.542816  43.456511   \n",
       "1   1.074171    1.125832  2.557246           4.421963  57.339151   \n",
       "2   3.516777    0.819709  0.462774           2.328977  60.776751   \n",
       "3  13.189798    1.402826  0.153316           7.621558   0.440191   \n",
       "4  11.973053    1.838887  0.945975           1.269000  83.484182   \n",
       "5   2.284138    0.048992  0.211198           4.088945  18.957613   \n",
       "6   9.463899    0.787199  1.863438          16.869074  31.736868   \n",
       "7   6.453939    1.676532  2.153574          13.765152  70.390073   \n",
       "8  12.740552    2.854646  0.932969           8.626371  44.557706   \n",
       "9   9.686586    1.232883  1.475132           3.560106  12.221049   \n",
       "\n",
       "   total_phenols  flavanoids  nonflavanoid_phenols  proanthocyanins  \\\n",
       "0       0.569810    0.075239              0.267335         0.744527   \n",
       "1       1.677453    1.027255              0.266734         1.037521   \n",
       "2       0.950360    2.312480              0.114245         1.453748   \n",
       "3       0.103332    2.878385              0.016165         1.558074   \n",
       "4       0.934233    0.448263              0.038872         0.488293   \n",
       "5       1.192519    1.647511              0.005231         1.038589   \n",
       "6       1.470403    0.534720              0.206582         0.633736   \n",
       "7       1.749210    2.721021              0.252128         0.152867   \n",
       "8       0.405552    1.105890              0.219005         0.393723   \n",
       "9       1.229565    1.495698              0.153813         0.886209   \n",
       "\n",
       "   color_intensity       hue  od280/od315_of_diluted_wines      proline  \n",
       "0         0.975456  0.741519                      2.763938  1228.781864  \n",
       "1         6.093875  0.400008                      2.629353   620.263632  \n",
       "2         1.566772  0.249111                      0.948954   417.939695  \n",
       "3         5.961709  0.338151                      1.608835   233.606713  \n",
       "4         4.358916  0.482324                      0.084788   387.198226  \n",
       "5         2.101098  0.237541                      1.672787   121.134473  \n",
       "6         4.444610  0.033384                      0.925355   328.508943  \n",
       "7         0.582114  0.507068                      2.055239    59.729064  \n",
       "8         2.706763  0.983953                      1.070769   250.301469  \n",
       "9         1.506817  0.939698                      0.921325   187.457035  "
      ]
     },
     "execution_count": 98,
     "metadata": {},
     "output_type": "execute_result"
    }
   ],
   "source": [
    "UNK_wine #Examine dataset"
   ]
  },
  {
   "cell_type": "code",
   "execution_count": 99,
   "id": "f74732d5",
   "metadata": {},
   "outputs": [
    {
     "data": {
      "text/plain": [
       "Index(['alcohol', 'malic_acid', 'ash', 'alcalinity_of_ash', 'magnesium',\n",
       "       'total_phenols', 'flavanoids', 'nonflavanoid_phenols',\n",
       "       'proanthocyanins', 'color_intensity', 'hue',\n",
       "       'od280/od315_of_diluted_wines', 'proline'],\n",
       "      dtype='object')"
      ]
     },
     "execution_count": 99,
     "metadata": {},
     "output_type": "execute_result"
    }
   ],
   "source": [
    "UNK_wine.columns #look at columns "
   ]
  },
  {
   "cell_type": "markdown",
   "id": "7625d9fb",
   "metadata": {},
   "source": [
    "Data appears to have same number of columns/variables and 9 observations."
   ]
  },
  {
   "cell_type": "code",
   "execution_count": 100,
   "id": "e46b2ab5",
   "metadata": {},
   "outputs": [
    {
     "data": {
      "text/plain": [
       "MLPClassifier(hidden_layer_sizes=(3, 3, 3), max_iter=3500, random_state=9)"
      ]
     },
     "execution_count": 100,
     "metadata": {},
     "output_type": "execute_result"
    }
   ],
   "source": [
    "# Re-load the 'perfect' model to apply to unknown data later\n",
    "mlp = MLPClassifier(hidden_layer_sizes=(3, 3, 3), max_iter=3500, random_state=9)\n",
    "\n",
    "mlp.fit(X_train, y_train)"
   ]
  },
  {
   "cell_type": "code",
   "execution_count": 101,
   "id": "26a3d5b5",
   "metadata": {},
   "outputs": [
    {
     "name": "stderr",
     "output_type": "stream",
     "text": [
      "C:\\Users\\zacha\\anaconda3\\lib\\site-packages\\sklearn\\base.py:443: UserWarning: X has feature names, but StandardScaler was fitted without feature names\n",
      "  warnings.warn(\n"
     ]
    }
   ],
   "source": [
    "UNK_wine_scaled = scaler.transform(UNK_wine) #scale unknown wine data set"
   ]
  },
  {
   "cell_type": "code",
   "execution_count": 111,
   "id": "6dd5fedf",
   "metadata": {},
   "outputs": [],
   "source": [
    "predictions = mlp.predict(UNK_wine_scaled) #make predictions\n",
    "\n",
    "classes = {0:'Wine_Class_1',1:'Wine_Class_2',2:'Wine_Class_3'} #define wine classes\n",
    "\n",
    "y_predict = mlp.predict(UNK_wine_scaled) #Predict based on defined model and scaled unknown wine dataset"
   ]
  },
  {
   "cell_type": "code",
   "execution_count": 112,
   "id": "e48826b9",
   "metadata": {},
   "outputs": [
    {
     "name": "stdout",
     "output_type": "stream",
     "text": [
      "Wine_Class_2\n",
      "Wine_Class_2\n",
      "Wine_Class_2\n",
      "Wine_Class_2\n",
      "Wine_Class_3\n",
      "Wine_Class_2\n",
      "Wine_Class_2\n",
      "Wine_Class_2\n",
      "Wine_Class_2\n"
     ]
    }
   ],
   "source": [
    "print(classes[y_predict[0]]) #print class of unknown wine 1\n",
    "print(classes[y_predict[1]]) #print class of unknown wine 2\n",
    "print(classes[y_predict[2]]) #print class of unknown wine 3\n",
    "print(classes[y_predict[3]]) #print class of unknown wine 4\n",
    "print(classes[y_predict[4]]) #print class of unknown wine 5\n",
    "print(classes[y_predict[5]]) #print class of unknown wine 6\n",
    "print(classes[y_predict[6]]) #print class of unknown wine 7\n",
    "print(classes[y_predict[7]]) #print class of unknown wine 8\n",
    "print(classes[y_predict[8]]) #print class of unknown wine 9"
   ]
  },
  {
   "cell_type": "markdown",
   "id": "79db2cad",
   "metadata": {},
   "source": [
    "Seems to heavily lean towards Class 2...could be possible but likely off.\n",
    "\n",
    "Will now use predict probability to determine how likely these are to be correct"
   ]
  },
  {
   "cell_type": "code",
   "execution_count": 116,
   "id": "9d89517c",
   "metadata": {},
   "outputs": [
    {
     "data": {
      "text/plain": [
       "array([[1.68688528e-37, 1.00000000e+00, 2.93725567e-22],\n",
       "       [5.88038731e-31, 1.00000000e+00, 2.96090325e-18],\n",
       "       [1.81833437e-39, 1.00000000e+00, 2.84672674e-24],\n",
       "       [7.23943271e-21, 9.99999998e-01, 2.06840829e-09],\n",
       "       [5.29805192e-07, 7.69134707e-04, 9.99230335e-01],\n",
       "       [1.44211779e-52, 1.00000000e+00, 4.62848229e-32],\n",
       "       [3.85944218e-27, 1.00000000e+00, 7.77714155e-12],\n",
       "       [2.03525980e-31, 1.00000000e+00, 3.55784547e-18],\n",
       "       [1.31905499e-18, 9.99999945e-01, 5.51945045e-08],\n",
       "       [1.06567028e-25, 1.00000000e+00, 1.01106698e-12]])"
      ]
     },
     "execution_count": 116,
     "metadata": {},
     "output_type": "execute_result"
    }
   ],
   "source": [
    "mlp.predict_proba(UNK_wine_scaled) #apply predict probability to look how likely these predictions are based on model"
   ]
  },
  {
   "cell_type": "markdown",
   "id": "e28c8123",
   "metadata": {},
   "source": [
    "Based on this, it seems like these classes are highly likely to be correct. \n",
    "\n",
    "In summary: \n",
    "\n",
    "Part 1 - Constructed a model to predict the classes of wine based on the 'wine' dataset. Used generic approach with 1000 iterations and 3 hidden layers with 10 nodes each. \n",
    "\n",
    "Part 2 - Fine tuned model by trying different combinations of hidden layers and nodes. First attempted to look at model using just one hidden layer and 1-10 nodes. This approach suggested that it was likely that including nodes 3-5 would be best. Based on this, added a second hidden layer and again used nodes 3-5. This slightly improved the model. Finally, added a third hidden layer and again nodes 3-5 for this layer. This led to the best model: 3 hidden layers with 3 nodes each. \n",
    "\n",
    "Part 3 - Applied best model to unknown dataset of wines. THis resulted in predictions that all the wines belonged to CLass 2 (technically class 1 with Python's setup) with one wine beloning to Class 3 (technically class 2) - unknown wine 4. Using the predict probability feature, it seems highly likely (99%-100%) that these predictions are accurate despite leaning heavily towards Class 2. \n",
    "\n",
    "Conclusion - Since this model appears to be 'perfect', it is possible that the model is 'overfitted' but this seems unlikely because it's only 3 hidden layers with 3 nodes each. Although my understanding of this type of modeling is limited, it would seem more likely that an overfitted model would have 12 layers and like 24 nodes each. "
   ]
  }
 ],
 "metadata": {
  "kernelspec": {
   "display_name": "Python 3 (ipykernel)",
   "language": "python",
   "name": "python3"
  },
  "language_info": {
   "codemirror_mode": {
    "name": "ipython",
    "version": 3
   },
   "file_extension": ".py",
   "mimetype": "text/x-python",
   "name": "python",
   "nbconvert_exporter": "python",
   "pygments_lexer": "ipython3",
   "version": "3.9.13"
  }
 },
 "nbformat": 4,
 "nbformat_minor": 5
}
