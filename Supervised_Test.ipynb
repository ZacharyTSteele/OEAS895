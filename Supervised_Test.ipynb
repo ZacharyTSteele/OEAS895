{
 "cells": [
  {
   "cell_type": "code",
   "execution_count": 1,
   "id": "4dc1771c",
   "metadata": {},
   "outputs": [],
   "source": [
    "import pandas as pd\n",
    "import numpy as np\n",
    "import matplotlib.pyplot as plt"
   ]
  },
  {
   "cell_type": "code",
   "execution_count": 2,
   "id": "4a63813d",
   "metadata": {},
   "outputs": [
    {
     "data": {
      "text/plain": [
       "Index(['Unnamed: 0', 'theta', 'sal', 'depth', 'nitrate', 'lon', 'lat', 'date',\n",
       "       'year', 'month', 'day', 'profile', 'cruise', 'vessel', 'density'],\n",
       "      dtype='object')"
      ]
     },
     "execution_count": 2,
     "metadata": {},
     "output_type": "execute_result"
    }
   ],
   "source": [
    "data = pd.read_csv ('C:/Users/zacha/Dropbox/PhD ODU/Courses/Spring 2023/OEAS895/jma_nitrate.csv', sep=',')\n",
    "data.columns"
   ]
  },
  {
   "cell_type": "code",
   "execution_count": 3,
   "id": "93e245ba",
   "metadata": {},
   "outputs": [
    {
     "name": "stdout",
     "output_type": "stream",
     "text": [
      "<class 'pandas.core.frame.DataFrame'>\n",
      "RangeIndex: 16221 entries, 0 to 16220\n",
      "Data columns (total 15 columns):\n",
      " #   Column      Non-Null Count  Dtype  \n",
      "---  ------      --------------  -----  \n",
      " 0   Unnamed: 0  16221 non-null  int64  \n",
      " 1   theta       16221 non-null  float64\n",
      " 2   sal         16221 non-null  float64\n",
      " 3   depth       16221 non-null  int64  \n",
      " 4   nitrate     16221 non-null  float64\n",
      " 5   lon         16221 non-null  float64\n",
      " 6   lat         16221 non-null  float64\n",
      " 7   date        16221 non-null  object \n",
      " 8   year        16221 non-null  float64\n",
      " 9   month       16221 non-null  float64\n",
      " 10  day         16221 non-null  float64\n",
      " 11  profile     16221 non-null  float64\n",
      " 12  cruise      16221 non-null  object \n",
      " 13  vessel      16221 non-null  object \n",
      " 14  density     16221 non-null  float64\n",
      "dtypes: float64(10), int64(2), object(3)\n",
      "memory usage: 1.9+ MB\n"
     ]
    }
   ],
   "source": [
    "data.info()"
   ]
  },
  {
   "cell_type": "code",
   "execution_count": 4,
   "id": "ffbb26a5",
   "metadata": {},
   "outputs": [
    {
     "data": {
      "text/plain": [
       "Unnamed: 0    0\n",
       "theta         0\n",
       "sal           0\n",
       "depth         0\n",
       "nitrate       0\n",
       "lon           0\n",
       "lat           0\n",
       "date          0\n",
       "year          0\n",
       "month         0\n",
       "day           0\n",
       "profile       0\n",
       "cruise        0\n",
       "vessel        0\n",
       "density       0\n",
       "dtype: int64"
      ]
     },
     "execution_count": 4,
     "metadata": {},
     "output_type": "execute_result"
    }
   ],
   "source": [
    "data.isna().sum()"
   ]
  },
  {
   "cell_type": "code",
   "execution_count": 5,
   "id": "305feb44",
   "metadata": {},
   "outputs": [],
   "source": [
    "data = data[data['nitrate']>0]"
   ]
  },
  {
   "cell_type": "code",
   "execution_count": 6,
   "id": "4925fd5f",
   "metadata": {},
   "outputs": [
    {
     "data": {
      "text/plain": [
       "[<matplotlib.lines.Line2D at 0x201fe9a0fd0>]"
      ]
     },
     "execution_count": 6,
     "metadata": {},
     "output_type": "execute_result"
    },
    {
     "data": {
      "image/png": "[encoded data removed]",
      "text/plain": [
       "<Figure size 640x480 with 1 Axes>"
      ]
     },
     "metadata": {},
     "output_type": "display_data"
    }
   ],
   "source": [
    "plt.plot(data.depth, data.nitrate, 'o')"
   ]
  },
  {
   "cell_type": "code",
   "execution_count": 7,
   "id": "cf63ea70",
   "metadata": {},
   "outputs": [],
   "source": [
    "from sklearn import datasets, linear_model\n",
    "from sklearn.metrics import mean_squared_error, r2_score\n",
    "import random\n",
    "from sklearn.neural_network import MLPRegressor"
   ]
  },
  {
   "cell_type": "code",
   "execution_count": 8,
   "id": "66779bd0",
   "metadata": {},
   "outputs": [],
   "source": [
    "y = data.nitrate\n",
    "X = data[['density', 'depth']]\n",
    "\n",
    "from sklearn.model_selection import train_test_split\n",
    "\n",
    "X_train,X_test,y_train,y_test = train_test_split(X,y,test_size=0.2,random_state=4)\n"
   ]
  },
  {
   "cell_type": "code",
   "execution_count": 9,
   "id": "0c87af04",
   "metadata": {},
   "outputs": [
    {
     "data": {
      "text/plain": [
       "3115"
      ]
     },
     "execution_count": 9,
     "metadata": {},
     "output_type": "execute_result"
    }
   ],
   "source": [
    "len(X_test)"
   ]
  },
  {
   "cell_type": "code",
   "execution_count": 12,
   "id": "a581de2d",
   "metadata": {},
   "outputs": [
    {
     "name": "stdout",
     "output_type": "stream",
     "text": [
      "Choose a number for hidden nodes: 5\n"
     ]
    }
   ],
   "source": [
    "n  = int(input('Choose a number for hidden nodes: '))\n",
    "\n",
    "X = pd.DataFrame([10 * random.random() for __ in range(50)])\n",
    "y = 2 * X - 1 + pd.DataFrame([random.random() for __ in range(50)])"
   ]
  },
  {
   "cell_type": "code",
   "execution_count": 13,
   "id": "08ac44d8",
   "metadata": {},
   "outputs": [
    {
     "name": "stderr",
     "output_type": "stream",
     "text": [
      "C:\\Users\\zacha\\anaconda3\\lib\\site-packages\\sklearn\\neural_network\\_multilayer_perceptron.py:1599: DataConversionWarning: A column-vector y was passed when a 1d array was expected. Please change the shape of y to (n_samples, ), for example using ravel().\n",
      "  y = column_or_1d(y, warn=True)\n"
     ]
    },
    {
     "data": {
      "text/plain": [
       "MLPRegressor(hidden_layer_sizes=(5,), max_iter=10000)"
      ]
     },
     "execution_count": 13,
     "metadata": {},
     "output_type": "execute_result"
    }
   ],
   "source": [
    "model = MLPRegressor(hidden_layer_sizes=(n,),\n",
    "                     activation='relu', max_iter=10000)\n",
    "model.fit(X_train, y_train)"
   ]
  },
  {
   "cell_type": "code",
   "execution_count": 14,
   "id": "46568195",
   "metadata": {},
   "outputs": [
    {
     "name": "stdout",
     "output_type": "stream",
     "text": [
      "R^2 score: 0.99\n"
     ]
    }
   ],
   "source": [
    "# compute the R^2 score\n",
    "print(\"R^2 score: {0:.2f}\".format(model.score(X,y)))"
   ]
  },
  {
   "cell_type": "code",
   "execution_count": 15,
   "id": "e62e28c6",
   "metadata": {},
   "outputs": [
    {
     "data": {
      "image/png": "[encoded data removed]",
      "text/plain": [
       "<Figure size 640x480 with 1 Axes>"
      ]
     },
     "metadata": {},
     "output_type": "display_data"
    }
   ],
   "source": [
    "# plot the model together with the data\n",
    "Xfit = pd.DataFrame([i for i in range(-1, 12)])\n",
    "yfit = model.predict(Xfit)\n",
    "plt.scatter(X, y)\n",
    "plt.plot(Xfit, yfit)\n",
    "plt.show()"
   ]
  },
  {
   "cell_type": "code",
   "execution_count": 45,
   "id": "51e0d957",
   "metadata": {},
   "outputs": [
    {
     "name": "stdout",
     "output_type": "stream",
     "text": [
      "r2 = 0.8063074540825313\n",
      "MSE = 46.11248168501681\n",
      "RMSE = 6.7906171799783275\n"
     ]
    }
   ],
   "source": [
    "print('r2 =', r2_score(y_test, y_pred))\n",
    "print('MSE =',mean_squared_error(y_test, y_pred))\n",
    "print('RMSE =',np.sqrt(mean_squared_error(y_test, y_pred)))"
   ]
  },
  {
   "cell_type": "code",
   "execution_count": null,
   "id": "908f3476",
   "metadata": {},
   "outputs": [],
   "source": []
  }
 ],
 "metadata": {
  "kernelspec": {
   "display_name": "Python 3 (ipykernel)",
   "language": "python",
   "name": "python3"
  },
  "language_info": {
   "codemirror_mode": {
    "name": "ipython",
    "version": 3
   },
   "file_extension": ".py",
   "mimetype": "text/x-python",
   "name": "python",
   "nbconvert_exporter": "python",
   "pygments_lexer": "ipython3",
   "version": "3.9.13"
  }
 },
 "nbformat": 4,
 "nbformat_minor": 5
}
